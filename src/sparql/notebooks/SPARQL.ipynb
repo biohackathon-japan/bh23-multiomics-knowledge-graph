{
 "cells": [
  {
   "cell_type": "markdown",
   "id": "85656e52",
   "metadata": {},
   "source": [
    "### SPARQL with Python\n",
    "- https://sparqlwrapper.readthedocs.io/en/latest/\n",
    "- https://github.com/fanavarro/sparql_uniprot/"
   ]
  },
  {
   "cell_type": "code",
   "execution_count": 1,
   "id": "c853465e",
   "metadata": {},
   "outputs": [],
   "source": [
    "import sys"
   ]
  },
  {
   "cell_type": "raw",
   "id": "3572a377",
   "metadata": {},
   "source": [
    "!{sys.executable} -m pip install sparqlwrapper"
   ]
  },
  {
   "cell_type": "code",
   "execution_count": 19,
   "id": "df8635f3",
   "metadata": {},
   "outputs": [],
   "source": [
    "from SPARQLWrapper import SPARQLWrapper, JSON, CSV"
   ]
  },
  {
   "cell_type": "code",
   "execution_count": 4,
   "id": "e7823814",
   "metadata": {},
   "outputs": [],
   "source": [
    "sparql = SPARQLWrapper('http://sparql.uniprot.org/sparql')"
   ]
  },
  {
   "cell_type": "code",
   "execution_count": 5,
   "id": "c9f89f93",
   "metadata": {},
   "outputs": [],
   "source": [
    "prefixes = '''\n",
    "PREFIX xsd: <http://www.w3.org/2001/XMLSchema#>\n",
    "PREFIX wikibase: <http://wikiba.se/ontology#>\n",
    "PREFIX wdt: <http://www.wikidata.org/prop/direct/>\n",
    "PREFIX wd: <http://www.wikidata.org/entity/>\n",
    "PREFIX vg: <http://biohackathon.org/resource/vg#>\n",
    "PREFIX uniprotkb: <http://purl.uniprot.org/uniprot/>\n",
    "PREFIX uberon: <http://purl.obolibrary.org/obo/uo#>\n",
    "PREFIX taxon: <http://purl.uniprot.org/taxonomy/>\n",
    "PREFIX sp: <http://spinrdf.org/sp#>\n",
    "PREFIX skos: <http://www.w3.org/2004/02/skos/core#>\n",
    "PREFIX sio: <http://semanticscience.org/resource/>\n",
    "PREFIX sh: <http://www.w3.org/ns/shacl#>\n",
    "PREFIX schema: <http://schema.org/>\n",
    "PREFIX sachem: <http://bioinfo.uochb.cas.cz/rdf/v1.0/sachem#>\n",
    "PREFIX rh: <http://rdf.rhea-db.org/>\n",
    "PREFIX rdf: <http://www.w3.org/1999/02/22-rdf-syntax-ns#>\n",
    "PREFIX pubmed: <http://rdf.ncbi.nlm.nih.gov/pubmed/>\n",
    "PREFIX ps: <http://www.wikidata.org/prop/statement/>\n",
    "PREFIX pq: <http://www.wikidata.org/prop/qualifier/>\n",
    "PREFIX patent: <http://data.epo.org/linked-data/def/patent/>\n",
    "PREFIX p: <http://www.wikidata.org/prop/>\n",
    "PREFIX owl: <http://www.w3.org/2002/07/owl#>\n",
    "PREFIX orthodbGroup: <http://purl.orthodb.org/odbgroup/>\n",
    "PREFIX orthodb: <http://purl.orthodb.org/>\n",
    "PREFIX orth: <http://purl.org/net/orth#>\n",
    "PREFIX obo: <http://purl.obolibrary.org/obo/>\n",
    "PREFIX np: <http://nextprot.org/rdf#>\n",
    "PREFIX nextprot: <http://nextprot.org/rdf/entry/>\n",
    "PREFIX mnx: <https://rdf.metanetx.org/schema/>\n",
    "PREFIX mnet: <https://rdf.metanetx.org/mnet/>\n",
    "PREFIX mesh: <http://id.nlm.nih.gov/mesh/>\n",
    "PREFIX lscr: <http://purl.org/lscr#>\n",
    "PREFIX lipidmaps: <https://www.lipidmaps.org/rdf/>\n",
    "PREFIX keywords: <http://purl.uniprot.org/keywords/>\n",
    "PREFIX insdcschema: <http://ddbj.nig.ac.jp/ontologies/nucleotide/>\n",
    "PREFIX insdc: <http://identifiers.org/insdc/>\n",
    "PREFIX identifiers: <http://identifiers.org/>\n",
    "PREFIX glyconnect: <https://purl.org/glyconnect/>\n",
    "PREFIX glycan: <http://purl.jp/bio/12/glyco/glycan#>\n",
    "PREFIX genex: <http://purl.org/genex#>\n",
    "PREFIX foaf: <http://xmlns.com/foaf/0.1/>\n",
    "PREFIX eunisSpecies: <http://eunis.eea.europa.eu/rdf/species-schema.rdf#>\n",
    "PREFIX ensembltranscript: <http://rdf.ebi.ac.uk/resource/ensembl.transcript/>\n",
    "PREFIX ensemblterms: <http://rdf.ebi.ac.uk/terms/ensembl/>\n",
    "PREFIX ensemblprotein: <http://rdf.ebi.ac.uk/resource/ensembl.protein/>\n",
    "PREFIX ensemblexon: <http://rdf.ebi.ac.uk/resource/ensembl.exon/>\n",
    "PREFIX ensembl: <http://rdf.ebi.ac.uk/resource/ensembl/>\n",
    "PREFIX ec: <http://purl.uniprot.org/enzyme/>\n",
    "PREFIX dcterms: <http://purl.org/dc/terms/>\n",
    "PREFIX dc: <http://purl.org/dc/terms/>\n",
    "PREFIX chebislash: <http://purl.obolibrary.org/obo/chebi/>\n",
    "PREFIX chebihash: <http://purl.obolibrary.org/obo/chebi#>\n",
    "PREFIX cco: <http://rdf.ebi.ac.uk/terms/chembl#>\n",
    "PREFIX busco: <http://busco.ezlab.org/schema#>\n",
    "PREFIX bibo: <http://purl.org/ontology/bibo/>\n",
    "PREFIX allie: <http://allie.dbcls.jp/>\n",
    "PREFIX SWISSLIPID: <https://swisslipids.org/rdf/SLM_>\n",
    "PREFIX GO: <http://purl.obolibrary.org/obo/GO_>\n",
    "PREFIX ECO: <http://purl.obolibrary.org/obo/ECO_>\n",
    "PREFIX CHEBI: <http://purl.obolibrary.org/obo/CHEBI_>\n",
    "PREFIX rdfs: <http://www.w3.org/2000/01/rdf-schema#>\n",
    "PREFIX up: <http://purl.uniprot.org/core/>\n",
    "PREFIX faldo: <http://biohackathon.org/resource/faldo#>\n",
    "'''\n",
    "\n"
   ]
  },
  {
   "cell_type": "code",
   "execution_count": 33,
   "id": "2c9d5417",
   "metadata": {},
   "outputs": [],
   "source": [
    "\n",
    "query = '''\n",
    "SELECT ?protein ?transcript ?ensprotein ?gene\n",
    "WHERE \n",
    "{\n",
    "  ?protein rdfs:seeAlso ?transcript .\n",
    "  ?protein a up:Protein .\n",
    "  ?protein up:reviewed true .\n",
    "  ?protein up:organism taxon:9606 .\n",
    "  ?transcript a up:Transcript_Resource .\n",
    "  ?transcript up:translatedTo ?ensprotein .\n",
    "  ?transcript up:transcribedFrom ?gene .\n",
    " \n",
    "}\n",
    "'''"
   ]
  },
  {
   "cell_type": "code",
   "execution_count": 7,
   "id": "f4ca7e1b",
   "metadata": {},
   "outputs": [],
   "source": [
    "q=f'''\n",
    "{prefixes}\n",
    "{query}\n",
    "LIMIT 10\n",
    "'''"
   ]
  },
  {
   "cell_type": "code",
   "execution_count": 8,
   "id": "25347c1b",
   "metadata": {},
   "outputs": [],
   "source": [
    "# Creamos un objeto del tipo SPARQLWrapper indicando en que\n",
    "# direccion esta el servicio que recibe consultas en sparql\n",
    "# y responde a estas.\n",
    "sparql = SPARQLWrapper('http://sparql.uniprot.org/sparql')"
   ]
  },
  {
   "cell_type": "code",
   "execution_count": 10,
   "id": "2cdff20c",
   "metadata": {},
   "outputs": [],
   "source": [
    "# Especificamos la consulta que queremos hacer en sparql.\n",
    "sparql.setQuery(q)"
   ]
  },
  {
   "cell_type": "code",
   "execution_count": 25,
   "id": "7bdeb9eb",
   "metadata": {},
   "outputs": [],
   "source": [
    "output_format = 'csv'"
   ]
  },
  {
   "cell_type": "code",
   "execution_count": 26,
   "id": "4ec27a76",
   "metadata": {},
   "outputs": [],
   "source": [
    "# Indicamos en que formato queremos que nos devuelva\n",
    "# los resultados de la consulta. Puede ser json, xml,\n",
    "# rfd, turtle... Simplemente son distintos formatos\n",
    "# para representar los datos en ficheros de texto.\n",
    "sparql.setReturnFormat(output_format)"
   ]
  },
  {
   "cell_type": "code",
   "execution_count": 24,
   "id": "2b9b521e",
   "metadata": {},
   "outputs": [
    {
     "data": {
      "text/plain": [
       "'json'"
      ]
     },
     "execution_count": 24,
     "metadata": {},
     "output_type": "execute_result"
    }
   ],
   "source": [
    "(JSON)"
   ]
  },
  {
   "cell_type": "code",
   "execution_count": 21,
   "id": "230da000",
   "metadata": {},
   "outputs": [
    {
     "name": "stdout",
     "output_type": "stream",
     "text": [
      "Ejecutando query\n",
      "Conviertiendo a json\n",
      "Fin conversion a json\n"
     ]
    }
   ],
   "source": [
    "# Esta es la instruccion que realiza la consulta a\n",
    "# uniprot. Devuelve un objeto de python que hay que\n",
    "# tratar.\n",
    "print (\"Ejecutando query\")\n",
    "results = sparql.query()\n",
    "\n",
    "# Con esto, convertimos el objeto devuelto por\n",
    "# el servicio al formato que especificamos antes.\n",
    "# En este caso, json.\n",
    "print (f\"Conviertiendo a {output_format}\")\n",
    "res = results.convert()\n",
    "print (f\"Fin conversion a {output_format}\")"
   ]
  },
  {
   "cell_type": "code",
   "execution_count": 27,
   "id": "fc739343",
   "metadata": {},
   "outputs": [
    {
     "name": "stdout",
     "output_type": "stream",
     "text": [
      "{'date': 'Tue, 27 Jun 2023 03:03:06 GMT', 'server': 'Apache', 'access-control-allow-origin': '*', 'access-control-allow-headers': 'origin, x-requested-with, content-type, X-Release', 'access-control-expose-headers': 'X-Total-Results, X-Release', 'x-release': '2023_02', 'x-frame-options': 'SAMEORIGIN', 'x-content-type-options': 'nosniff', 'vary': 'Negotiate,Accept,Accept-Encoding', 'cache-control': 'public', 'etag': 'W/\"2023_02\"', 'content-disposition': 'attachment; filename=\"sparql-C6EF9FCF3BADB3E4B4D89FF8E8D025A5.csv\"', 'content-type': 'text/csv;charset=ISO-8859-1', 'content-length': '2365', 'x-powered-by': 'sib.swiss', 'connection': 'close'}\n"
     ]
    }
   ],
   "source": [
    "# Dentro de la variable results tenemos informacion\n",
    "# (metadatos) de lo que ha devuelto el servidor de\n",
    "# uniprot.\n",
    "print (results.info())"
   ]
  },
  {
   "cell_type": "code",
   "execution_count": null,
   "id": "37588e91",
   "metadata": {},
   "outputs": [],
   "source": [
    "import io"
   ]
  },
  {
   "cell_type": "code",
   "execution_count": 31,
   "id": "7f27e2e6",
   "metadata": {},
   "outputs": [],
   "source": [
    "df = pd.read_csv(io.BytesIO(res), sep=\",\")"
   ]
  },
  {
   "cell_type": "code",
   "execution_count": 32,
   "id": "45a09a90",
   "metadata": {},
   "outputs": [
    {
     "data": {
      "text/html": [
       "<div>\n",
       "<style scoped>\n",
       "    .dataframe tbody tr th:only-of-type {\n",
       "        vertical-align: middle;\n",
       "    }\n",
       "\n",
       "    .dataframe tbody tr th {\n",
       "        vertical-align: top;\n",
       "    }\n",
       "\n",
       "    .dataframe thead th {\n",
       "        text-align: right;\n",
       "    }\n",
       "</style>\n",
       "<table border=\"1\" class=\"dataframe\">\n",
       "  <thead>\n",
       "    <tr style=\"text-align: right;\">\n",
       "      <th></th>\n",
       "      <th>protein</th>\n",
       "      <th>transcript</th>\n",
       "      <th>ensprotein</th>\n",
       "      <th>gene</th>\n",
       "      <th>rhea</th>\n",
       "      <th>equation</th>\n",
       "      <th>chebi</th>\n",
       "    </tr>\n",
       "  </thead>\n",
       "  <tbody>\n",
       "    <tr>\n",
       "      <th>0</th>\n",
       "      <td>http://purl.uniprot.org/uniprot/Q96HR9</td>\n",
       "      <td>http://rdf.ebi.ac.uk/resource/ensembl.transcri...</td>\n",
       "      <td>http://rdf.ebi.ac.uk/resource/ensembl.protein/...</td>\n",
       "      <td>http://rdf.ebi.ac.uk/resource/ensembl/ENSG0000...</td>\n",
       "      <td>NaN</td>\n",
       "      <td>NaN</td>\n",
       "      <td>NaN</td>\n",
       "    </tr>\n",
       "    <tr>\n",
       "      <th>1</th>\n",
       "      <td>http://purl.uniprot.org/uniprot/Q96HR9</td>\n",
       "      <td>http://rdf.ebi.ac.uk/resource/ensembl.transcri...</td>\n",
       "      <td>http://rdf.ebi.ac.uk/resource/ensembl.protein/...</td>\n",
       "      <td>http://rdf.ebi.ac.uk/resource/ensembl/ENSG0000...</td>\n",
       "      <td>NaN</td>\n",
       "      <td>NaN</td>\n",
       "      <td>NaN</td>\n",
       "    </tr>\n",
       "    <tr>\n",
       "      <th>2</th>\n",
       "      <td>http://purl.uniprot.org/uniprot/Q96HR9</td>\n",
       "      <td>http://rdf.ebi.ac.uk/resource/ensembl.transcri...</td>\n",
       "      <td>http://rdf.ebi.ac.uk/resource/ensembl.protein/...</td>\n",
       "      <td>http://rdf.ebi.ac.uk/resource/ensembl/ENSG0000...</td>\n",
       "      <td>NaN</td>\n",
       "      <td>NaN</td>\n",
       "      <td>NaN</td>\n",
       "    </tr>\n",
       "    <tr>\n",
       "      <th>3</th>\n",
       "      <td>http://purl.uniprot.org/uniprot/Q96HR9</td>\n",
       "      <td>http://rdf.ebi.ac.uk/resource/ensembl.transcri...</td>\n",
       "      <td>http://rdf.ebi.ac.uk/resource/ensembl.protein/...</td>\n",
       "      <td>http://rdf.ebi.ac.uk/resource/ensembl/ENSG0000...</td>\n",
       "      <td>NaN</td>\n",
       "      <td>NaN</td>\n",
       "      <td>NaN</td>\n",
       "    </tr>\n",
       "    <tr>\n",
       "      <th>4</th>\n",
       "      <td>http://purl.uniprot.org/uniprot/Q96HR9</td>\n",
       "      <td>http://rdf.ebi.ac.uk/resource/ensembl.transcri...</td>\n",
       "      <td>http://rdf.ebi.ac.uk/resource/ensembl.protein/...</td>\n",
       "      <td>http://rdf.ebi.ac.uk/resource/ensembl/ENSG0000...</td>\n",
       "      <td>NaN</td>\n",
       "      <td>NaN</td>\n",
       "      <td>NaN</td>\n",
       "    </tr>\n",
       "    <tr>\n",
       "      <th>5</th>\n",
       "      <td>http://purl.uniprot.org/uniprot/Q96HR9</td>\n",
       "      <td>http://rdf.ebi.ac.uk/resource/ensembl.transcri...</td>\n",
       "      <td>http://rdf.ebi.ac.uk/resource/ensembl.protein/...</td>\n",
       "      <td>http://rdf.ebi.ac.uk/resource/ensembl/ENSG0000...</td>\n",
       "      <td>NaN</td>\n",
       "      <td>NaN</td>\n",
       "      <td>NaN</td>\n",
       "    </tr>\n",
       "    <tr>\n",
       "      <th>6</th>\n",
       "      <td>http://purl.uniprot.org/uniprot/Q96HR9</td>\n",
       "      <td>http://rdf.ebi.ac.uk/resource/ensembl.transcri...</td>\n",
       "      <td>http://rdf.ebi.ac.uk/resource/ensembl.protein/...</td>\n",
       "      <td>http://rdf.ebi.ac.uk/resource/ensembl/ENSG0000...</td>\n",
       "      <td>NaN</td>\n",
       "      <td>NaN</td>\n",
       "      <td>NaN</td>\n",
       "    </tr>\n",
       "    <tr>\n",
       "      <th>7</th>\n",
       "      <td>http://purl.uniprot.org/uniprot/Q96HR9</td>\n",
       "      <td>http://rdf.ebi.ac.uk/resource/ensembl.transcri...</td>\n",
       "      <td>http://rdf.ebi.ac.uk/resource/ensembl.protein/...</td>\n",
       "      <td>http://rdf.ebi.ac.uk/resource/ensembl/ENSG0000...</td>\n",
       "      <td>NaN</td>\n",
       "      <td>NaN</td>\n",
       "      <td>NaN</td>\n",
       "    </tr>\n",
       "    <tr>\n",
       "      <th>8</th>\n",
       "      <td>http://purl.uniprot.org/uniprot/Q9BZ11</td>\n",
       "      <td>http://rdf.ebi.ac.uk/resource/ensembl.transcri...</td>\n",
       "      <td>http://rdf.ebi.ac.uk/resource/ensembl.protein/...</td>\n",
       "      <td>http://rdf.ebi.ac.uk/resource/ensembl/ENSG0000...</td>\n",
       "      <td>NaN</td>\n",
       "      <td>NaN</td>\n",
       "      <td>NaN</td>\n",
       "    </tr>\n",
       "    <tr>\n",
       "      <th>9</th>\n",
       "      <td>http://purl.uniprot.org/uniprot/Q9BZ11</td>\n",
       "      <td>http://rdf.ebi.ac.uk/resource/ensembl.transcri...</td>\n",
       "      <td>http://rdf.ebi.ac.uk/resource/ensembl.protein/...</td>\n",
       "      <td>http://rdf.ebi.ac.uk/resource/ensembl/ENSG0000...</td>\n",
       "      <td>NaN</td>\n",
       "      <td>NaN</td>\n",
       "      <td>NaN</td>\n",
       "    </tr>\n",
       "  </tbody>\n",
       "</table>\n",
       "</div>"
      ],
      "text/plain": [
       "                                  protein  \\\n",
       "0  http://purl.uniprot.org/uniprot/Q96HR9   \n",
       "1  http://purl.uniprot.org/uniprot/Q96HR9   \n",
       "2  http://purl.uniprot.org/uniprot/Q96HR9   \n",
       "3  http://purl.uniprot.org/uniprot/Q96HR9   \n",
       "4  http://purl.uniprot.org/uniprot/Q96HR9   \n",
       "5  http://purl.uniprot.org/uniprot/Q96HR9   \n",
       "6  http://purl.uniprot.org/uniprot/Q96HR9   \n",
       "7  http://purl.uniprot.org/uniprot/Q96HR9   \n",
       "8  http://purl.uniprot.org/uniprot/Q9BZ11   \n",
       "9  http://purl.uniprot.org/uniprot/Q9BZ11   \n",
       "\n",
       "                                          transcript  \\\n",
       "0  http://rdf.ebi.ac.uk/resource/ensembl.transcri...   \n",
       "1  http://rdf.ebi.ac.uk/resource/ensembl.transcri...   \n",
       "2  http://rdf.ebi.ac.uk/resource/ensembl.transcri...   \n",
       "3  http://rdf.ebi.ac.uk/resource/ensembl.transcri...   \n",
       "4  http://rdf.ebi.ac.uk/resource/ensembl.transcri...   \n",
       "5  http://rdf.ebi.ac.uk/resource/ensembl.transcri...   \n",
       "6  http://rdf.ebi.ac.uk/resource/ensembl.transcri...   \n",
       "7  http://rdf.ebi.ac.uk/resource/ensembl.transcri...   \n",
       "8  http://rdf.ebi.ac.uk/resource/ensembl.transcri...   \n",
       "9  http://rdf.ebi.ac.uk/resource/ensembl.transcri...   \n",
       "\n",
       "                                          ensprotein  \\\n",
       "0  http://rdf.ebi.ac.uk/resource/ensembl.protein/...   \n",
       "1  http://rdf.ebi.ac.uk/resource/ensembl.protein/...   \n",
       "2  http://rdf.ebi.ac.uk/resource/ensembl.protein/...   \n",
       "3  http://rdf.ebi.ac.uk/resource/ensembl.protein/...   \n",
       "4  http://rdf.ebi.ac.uk/resource/ensembl.protein/...   \n",
       "5  http://rdf.ebi.ac.uk/resource/ensembl.protein/...   \n",
       "6  http://rdf.ebi.ac.uk/resource/ensembl.protein/...   \n",
       "7  http://rdf.ebi.ac.uk/resource/ensembl.protein/...   \n",
       "8  http://rdf.ebi.ac.uk/resource/ensembl.protein/...   \n",
       "9  http://rdf.ebi.ac.uk/resource/ensembl.protein/...   \n",
       "\n",
       "                                                gene   rhea   equation   chebi  \n",
       "0  http://rdf.ebi.ac.uk/resource/ensembl/ENSG0000...    NaN        NaN     NaN  \n",
       "1  http://rdf.ebi.ac.uk/resource/ensembl/ENSG0000...    NaN        NaN     NaN  \n",
       "2  http://rdf.ebi.ac.uk/resource/ensembl/ENSG0000...    NaN        NaN     NaN  \n",
       "3  http://rdf.ebi.ac.uk/resource/ensembl/ENSG0000...    NaN        NaN     NaN  \n",
       "4  http://rdf.ebi.ac.uk/resource/ensembl/ENSG0000...    NaN        NaN     NaN  \n",
       "5  http://rdf.ebi.ac.uk/resource/ensembl/ENSG0000...    NaN        NaN     NaN  \n",
       "6  http://rdf.ebi.ac.uk/resource/ensembl/ENSG0000...    NaN        NaN     NaN  \n",
       "7  http://rdf.ebi.ac.uk/resource/ensembl/ENSG0000...    NaN        NaN     NaN  \n",
       "8  http://rdf.ebi.ac.uk/resource/ensembl/ENSG0000...    NaN        NaN     NaN  \n",
       "9  http://rdf.ebi.ac.uk/resource/ensembl/ENSG0000...    NaN        NaN     NaN  "
      ]
     },
     "execution_count": 32,
     "metadata": {},
     "output_type": "execute_result"
    }
   ],
   "source": [
    "df"
   ]
  },
  {
   "cell_type": "code",
   "execution_count": null,
   "id": "708258ad",
   "metadata": {},
   "outputs": [],
   "source": []
  }
 ],
 "metadata": {
  "kernelspec": {
   "display_name": "ironhack",
   "language": "python",
   "name": "ironhack"
  },
  "language_info": {
   "codemirror_mode": {
    "name": "ipython",
    "version": 3
   },
   "file_extension": ".py",
   "mimetype": "text/x-python",
   "name": "python",
   "nbconvert_exporter": "python",
   "pygments_lexer": "ipython3",
   "version": "3.10.6"
  }
 },
 "nbformat": 4,
 "nbformat_minor": 5
}
