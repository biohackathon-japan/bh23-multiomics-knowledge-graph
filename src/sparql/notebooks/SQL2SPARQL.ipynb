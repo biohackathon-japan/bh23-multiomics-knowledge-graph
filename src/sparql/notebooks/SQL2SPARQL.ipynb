{
 "cells": [
  {
   "cell_type": "markdown",
   "id": "a7879f2e",
   "metadata": {},
   "source": [
    "## superset4sparql"
   ]
  },
  {
   "cell_type": "markdown",
   "id": "955278a6",
   "metadata": {},
   "source": [
    "https://github.com/fbelleau/superset4sparql/"
   ]
  },
  {
   "cell_type": "code",
   "execution_count": 6,
   "id": "4872cc35",
   "metadata": {},
   "outputs": [],
   "source": [
    "import sys"
   ]
  },
  {
   "cell_type": "code",
   "execution_count": 27,
   "id": "4679a891",
   "metadata": {},
   "outputs": [
    {
     "name": "stdout",
     "output_type": "stream",
     "text": [
      "Collecting sqlglot\n",
      "  Downloading sqlglot-16.4.2-py3-none-any.whl (274 kB)\n",
      "\u001b[2K     \u001b[38;2;114;156;31m━━━━━━━━━━━━━━━━━━━━━━━━━━━━━━━━━━━━━\u001b[0m \u001b[32m274.1/274.1 KB\u001b[0m \u001b[31m315.7 kB/s\u001b[0m eta \u001b[36m0:00:00\u001b[0m kB/s\u001b[0m eta \u001b[36m0:00:01\u001b[0m:01\u001b[0m\n",
      "\u001b[?25hInstalling collected packages: sqlglot\n",
      "Successfully installed sqlglot-16.4.2\n"
     ]
    }
   ],
   "source": [
    "!{sys.executable} -m pip install sqlparse sqlglot"
   ]
  },
  {
   "cell_type": "markdown",
   "id": "3955030d",
   "metadata": {},
   "source": [
    "## Parse SQL"
   ]
  },
  {
   "cell_type": "code",
   "execution_count": 63,
   "id": "6a253de1",
   "metadata": {},
   "outputs": [],
   "source": [
    "sql_query = '''\n",
    "select t1.a, t1.b \n",
    "from foo t1 where t1.x>10\n",
    "'''"
   ]
  },
  {
   "cell_type": "markdown",
   "id": "faf909da",
   "metadata": {},
   "source": [
    "### SQLparse"
   ]
  },
  {
   "cell_type": "markdown",
   "id": "1791de3b",
   "metadata": {},
   "source": [
    "- https://sqlparse.readthedocs.io/en/latest/"
   ]
  },
  {
   "cell_type": "code",
   "execution_count": 8,
   "id": "d58adac3",
   "metadata": {},
   "outputs": [],
   "source": [
    "import sqlparse"
   ]
  },
  {
   "cell_type": "code",
   "execution_count": 64,
   "id": "43403834",
   "metadata": {},
   "outputs": [],
   "source": [
    "parsed = sqlparse.parse(sql_query)"
   ]
  },
  {
   "cell_type": "code",
   "execution_count": 65,
   "id": "3793be5d",
   "metadata": {},
   "outputs": [],
   "source": [
    "sql = parsed[0]"
   ]
  },
  {
   "cell_type": "code",
   "execution_count": 66,
   "id": "b4b3c96f",
   "metadata": {},
   "outputs": [
    {
     "data": {
      "text/plain": [
       "[(Token.Text.Whitespace.Newline, '\\n'),\n",
       " (Token.Keyword.DML, 'SELECT'),\n",
       " (Token.Text.Whitespace, ' '),\n",
       " (None, 'T1.A, T1.B'),\n",
       " (Token.Text.Whitespace, ' '),\n",
       " (Token.Text.Whitespace.Newline, '\\n'),\n",
       " (Token.Keyword, 'FROM'),\n",
       " (Token.Text.Whitespace, ' '),\n",
       " (None, 'FOO T1'),\n",
       " (Token.Text.Whitespace, ' '),\n",
       " (None, 'WHERE T1.X>10\\n')]"
      ]
     },
     "execution_count": 66,
     "metadata": {},
     "output_type": "execute_result"
    }
   ],
   "source": [
    "[(t.ttype, t.value.upper()) for t in sql.tokens]"
   ]
  },
  {
   "cell_type": "code",
   "execution_count": 17,
   "id": "92672e23",
   "metadata": {},
   "outputs": [
    {
     "data": {
      "text/plain": [
       "['__class__',\n",
       " '__delattr__',\n",
       " '__dir__',\n",
       " '__doc__',\n",
       " '__eq__',\n",
       " '__format__',\n",
       " '__ge__',\n",
       " '__getattribute__',\n",
       " '__gt__',\n",
       " '__hash__',\n",
       " '__init__',\n",
       " '__init_subclass__',\n",
       " '__le__',\n",
       " '__lt__',\n",
       " '__module__',\n",
       " '__ne__',\n",
       " '__new__',\n",
       " '__reduce__',\n",
       " '__reduce_ex__',\n",
       " '__repr__',\n",
       " '__setattr__',\n",
       " '__sizeof__',\n",
       " '__slots__',\n",
       " '__str__',\n",
       " '__subclasshook__',\n",
       " '_get_repr_name',\n",
       " '_get_repr_value',\n",
       " 'flatten',\n",
       " 'has_ancestor',\n",
       " 'is_child_of',\n",
       " 'is_group',\n",
       " 'is_keyword',\n",
       " 'is_whitespace',\n",
       " 'match',\n",
       " 'normalized',\n",
       " 'parent',\n",
       " 'ttype',\n",
       " 'value',\n",
       " 'within']"
      ]
     },
     "execution_count": 17,
     "metadata": {},
     "output_type": "execute_result"
    }
   ],
   "source": [
    "dir(sql.tokens[0])"
   ]
  },
  {
   "cell_type": "markdown",
   "id": "783bfd4d",
   "metadata": {},
   "source": [
    "### SQLglot\n",
    "\n",
    "- https://github.com/tobymao/sqlglot"
   ]
  },
  {
   "cell_type": "code",
   "execution_count": 32,
   "id": "a8227a16",
   "metadata": {},
   "outputs": [],
   "source": [
    "from sqlglot import exp, parse_one"
   ]
  },
  {
   "cell_type": "code",
   "execution_count": 67,
   "id": "05cd8e42",
   "metadata": {},
   "outputs": [],
   "source": [
    "expression_tree = parse_one(sql_query)"
   ]
  },
  {
   "cell_type": "code",
   "execution_count": 68,
   "id": "81ada096",
   "metadata": {},
   "outputs": [
    {
     "data": {
      "text/plain": [
       "(SELECT expressions: \n",
       "  (COLUMN this: \n",
       "    (IDENTIFIER this: a, quoted: False), table: \n",
       "    (IDENTIFIER this: t1, quoted: False)), \n",
       "  (COLUMN this: \n",
       "    (IDENTIFIER this: b, quoted: False), table: \n",
       "    (IDENTIFIER this: t1, quoted: False)), from: \n",
       "  (FROM this: \n",
       "    (TABLE this: \n",
       "      (IDENTIFIER this: foo, quoted: False), alias: \n",
       "      (TABLEALIAS this: \n",
       "        (IDENTIFIER this: t1, quoted: False)))), where: \n",
       "  (WHERE this: \n",
       "    (GT this: \n",
       "      (COLUMN this: \n",
       "        (IDENTIFIER this: x, quoted: False), table: \n",
       "        (IDENTIFIER this: t1, quoted: False)), expression: \n",
       "      (LITERAL this: 10, is_string: False))))"
      ]
     },
     "execution_count": 68,
     "metadata": {},
     "output_type": "execute_result"
    }
   ],
   "source": [
    "expression_tree"
   ]
  },
  {
   "cell_type": "code",
   "execution_count": 69,
   "id": "e4e12339",
   "metadata": {},
   "outputs": [
    {
     "name": "stdout",
     "output_type": "stream",
     "text": [
      "t1 a\n",
      "t1 b\n",
      "t1 x\n"
     ]
    }
   ],
   "source": [
    "for column in expression_tree.find_all(exp.Column):\n",
    "    print(column.table, column.alias_or_name)"
   ]
  },
  {
   "cell_type": "code",
   "execution_count": 70,
   "id": "cf5690b5",
   "metadata": {},
   "outputs": [
    {
     "data": {
      "text/plain": [
       "'t1'"
      ]
     },
     "execution_count": 70,
     "metadata": {},
     "output_type": "execute_result"
    }
   ],
   "source": [
    "column.table"
   ]
  },
  {
   "cell_type": "code",
   "execution_count": 71,
   "id": "4c4df52b",
   "metadata": {},
   "outputs": [],
   "source": [
    "tables = [t for t in expression_tree.find_all(exp.Table)]"
   ]
  },
  {
   "cell_type": "code",
   "execution_count": 72,
   "id": "ce74b759",
   "metadata": {},
   "outputs": [
    {
     "data": {
      "text/plain": [
       "'foo'"
      ]
     },
     "execution_count": 72,
     "metadata": {},
     "output_type": "execute_result"
    }
   ],
   "source": [
    "tables[0].name"
   ]
  },
  {
   "cell_type": "code",
   "execution_count": 73,
   "id": "141cc22c",
   "metadata": {},
   "outputs": [
    {
     "data": {
      "text/plain": [
       "'t1'"
      ]
     },
     "execution_count": 73,
     "metadata": {},
     "output_type": "execute_result"
    }
   ],
   "source": [
    "tables[0].alias_or_name"
   ]
  },
  {
   "cell_type": "code",
   "execution_count": 57,
   "id": "b1e4885a",
   "metadata": {},
   "outputs": [
    {
     "data": {
      "text/plain": [
       "['__class__',\n",
       " '__deepcopy__',\n",
       " '__delattr__',\n",
       " '__dict__',\n",
       " '__dir__',\n",
       " '__doc__',\n",
       " '__eq__',\n",
       " '__format__',\n",
       " '__ge__',\n",
       " '__getattribute__',\n",
       " '__gt__',\n",
       " '__hash__',\n",
       " '__init__',\n",
       " '__init_subclass__',\n",
       " '__le__',\n",
       " '__lt__',\n",
       " '__module__',\n",
       " '__ne__',\n",
       " '__new__',\n",
       " '__reduce__',\n",
       " '__reduce_ex__',\n",
       " '__repr__',\n",
       " '__setattr__',\n",
       " '__sizeof__',\n",
       " '__slots__',\n",
       " '__str__',\n",
       " '__subclasshook__',\n",
       " '__weakref__',\n",
       " '_hash',\n",
       " '_meta',\n",
       " '_set_parent',\n",
       " '_to_s',\n",
       " '_type',\n",
       " 'add_comments',\n",
       " 'alias',\n",
       " 'alias_or_name',\n",
       " 'append',\n",
       " 'arg_key',\n",
       " 'arg_types',\n",
       " 'args',\n",
       " 'assert_is',\n",
       " 'bfs',\n",
       " 'catalog',\n",
       " 'comments',\n",
       " 'copy',\n",
       " 'db',\n",
       " 'depth',\n",
       " 'dfs',\n",
       " 'dump',\n",
       " 'error_messages',\n",
       " 'expression',\n",
       " 'expressions',\n",
       " 'find',\n",
       " 'find_all',\n",
       " 'find_ancestor',\n",
       " 'flatten',\n",
       " 'hashable_args',\n",
       " 'is_int',\n",
       " 'is_number',\n",
       " 'is_star',\n",
       " 'is_string',\n",
       " 'iter_expressions',\n",
       " 'key',\n",
       " 'load',\n",
       " 'meta',\n",
       " 'name',\n",
       " 'output_name',\n",
       " 'parent',\n",
       " 'parent_select',\n",
       " 'parts',\n",
       " 'pop',\n",
       " 'replace',\n",
       " 'root',\n",
       " 'same_parent',\n",
       " 'set',\n",
       " 'sql',\n",
       " 'text',\n",
       " 'this',\n",
       " 'transform',\n",
       " 'type',\n",
       " 'unalias',\n",
       " 'unnest',\n",
       " 'unnest_operands',\n",
       " 'walk']"
      ]
     },
     "execution_count": 57,
     "metadata": {},
     "output_type": "execute_result"
    }
   ],
   "source": [
    "dir(tables[0])"
   ]
  },
  {
   "cell_type": "code",
   "execution_count": 1,
   "id": "7a46d354",
   "metadata": {},
   "outputs": [],
   "source": [
    "sql_query = '''\n",
    "SELECT enzyme.enzyme_name, COUNT(DISTINCT reaction_protein.protein) AS count, publication.publication_title\n",
    "FROM reaction_enzyme\n",
    "JOIN enzyme ON reaction_enzyme.enzyme = enzyme.enzyme_uri\n",
    "JOIN reaction_protein ON reaction_enzyme.reaction = reaction_protein.reaction\n",
    "JOIN publication ON publication.publication_uri IN (\n",
    "  SELECT DISTINCT publication.publication_uri\n",
    "  FROM enzyme\n",
    "  JOIN publication ON publication.publication_uri IN (\n",
    "    SELECT DISTINCT mentions.publication_uri\n",
    "    FROM mentions\n",
    "    WHERE mentions.enzyme_uri = enzyme.enzyme_uri\n",
    "  )\n",
    ")\n",
    "GROUP BY enzyme.enzyme_name, publication.publication_title\n",
    "ORDER BY count DESC\n",
    "'''"
   ]
  },
  {
   "cell_type": "code",
   "execution_count": null,
   "id": "e389e0b6",
   "metadata": {},
   "outputs": [],
   "source": []
  },
  {
   "cell_type": "code",
   "execution_count": 2,
   "id": "78489920",
   "metadata": {},
   "outputs": [],
   "source": [
    "def sql2sparql(sql_query):\n",
    "\n",
    "    query = sql_query\n",
    "    query = query.replace('SELECT t AS t ','SELECT ?t ')\n",
    "    query = query.replace('SELECT p AS p ','SELECT ?p ')\n",
    "    query = query.replace(' ASC ',' ')\n",
    "    query = query.replace(' DESC ',' ')\n",
    "    \n",
    "    #query = query.replace('SELECT c AS c,        p AS p,        t AS t ','SELECT ?c ?p ?t ')\n",
    "    query = query.replace('FROM   (select','WHERE {select').replace(') AS virtual_table','}')\n",
    "     \n",
    "    query = query.replace(' c AS c',' c').replace(' p AS p',' p').replace(' t AS t',' t')\n",
    "    query = query.replace(' c, ',' ?c ').replace(' p, ',' ?p ').replace(' t, ',' ?t ')\n",
    "    query = query.replace(' c ',' ?c ').replace(' p ',' ?p ').replace(' t ',' ?t ')\n",
    "\n",
    "    query = query.replace('sum(c) AS \"SUM(c)\"',' (sum(?c) AS ?zSUM_c) ')\n",
    "    query = query.replace('\"SUM(c)\"','?zSUM_c')\n",
    "    \n",
    "    \n",
    "    \n",
    "    if query.find('IN (') != -1:\n",
    "        query = query.replace(\"WHERE ?p IN ('http://xmlns.com/foaf/0.1/name')\",'FILTER(?p  = <http://xmlns.com/foaf/0.1/name>)}')\n",
    "        query = query.replace(\"WHERE ?t IN ('http://bio2rdf.org/bibtex#Article')\",'FILTER(?t  = <http://bio2rdf.org/bibtex#Article>)}')\n",
    "        query = query.replace(\"WHERE {select\",'WHERE {{select')\n",
    "\n",
    "    return query   "
   ]
  },
  {
   "cell_type": "code",
   "execution_count": 6,
   "id": "6d386413",
   "metadata": {},
   "outputs": [],
   "source": [
    "sparql_query = sql2sparql(sql_query)"
   ]
  },
  {
   "cell_type": "code",
   "execution_count": 3,
   "id": "bf505f26",
   "metadata": {},
   "outputs": [],
   "source": [
    "sparql_query = '''\n",
    "PREFIX bio2rdf: <http://bio2rdf.org/>\n",
    "\n",
    "SELECT ?enzyme (COUNT(DISTINCT ?protein) AS ?count) ?title\n",
    "WHERE {\n",
    "  ?reaction a bio2rdf:Reaction .\n",
    "  ?reaction bio2rdf:reaction_enzyme ?enzyme .\n",
    "  ?reaction bio2rdf:reaction_protein ?protein .\n",
    "  \n",
    "  {\n",
    "    SELECT ?enzyme ?title\n",
    "    WHERE {\n",
    "      ?enzyme a bio2rdf:Enzyme .\n",
    "      ?enzyme bio2rdf:enzyme_name ?name .\n",
    "      ?publication a bio2rdf:Publication .\n",
    "      ?publication bio2rdf:mentions ?enzyme .\n",
    "      ?publication bio2rdf:publication_title ?title .\n",
    "    }\n",
    "  }\n",
    "}\n",
    "GROUP BY ?enzyme ?title\n",
    "ORDER BY DESC(?count)\n",
    "'''"
   ]
  },
  {
   "cell_type": "code",
   "execution_count": 4,
   "id": "41998173",
   "metadata": {},
   "outputs": [],
   "source": [
    "from SPARQLWrapper import SPARQLWrapper"
   ]
  },
  {
   "cell_type": "code",
   "execution_count": 9,
   "id": "a7b08ceb",
   "metadata": {},
   "outputs": [
    {
     "name": "stdout",
     "output_type": "stream",
     "text": [
      "PREFIX bio2rdf: <http://bio2rdf.org/>\n",
      "\n",
      "SELECT ?enzyme (COUNT(DISTINCT ?protein) AS ?count) ?title\n",
      "WHERE {\n",
      "  ?reaction a bio2rdf:Reaction .\n",
      "  ?reaction bio2rdf:reaction_enzyme ?enzyme .\n",
      "  ?reaction bio2rdf:reaction_protein ?protein .\n",
      "  \n",
      "  {\n",
      "    SELECT ?enzyme ?title\n",
      "    WHERE {\n",
      "      ?enzyme a bio2rdf:Enzyme .\n",
      "      ?enzyme bio2rdf:enzyme_name ?name .\n",
      "      ?publication a bio2rdf:Publication .\n",
      "      ?publication bio2rdf:mentions ?enzyme .\n",
      "      ?publication bio2rdf:publication_title ?title .\n",
      "    }\n",
      "  }\n",
      "}\n",
      "GROUP BY ?enzyme ?title\n",
      "ORDER BY DESC(?count)\n"
     ]
    }
   ],
   "source": [
    "print(sparql_query)"
   ]
  },
  {
   "cell_type": "code",
   "execution_count": 5,
   "id": "7b8c40ca",
   "metadata": {},
   "outputs": [],
   "source": [
    "sparql = SPARQLWrapper('http://sparql.uniprot.org/sparql')"
   ]
  },
  {
   "cell_type": "markdown",
   "id": "c777c1c0",
   "metadata": {},
   "source": [
    "https://sparql.uniprot.org/.well-known/sparql-examples/"
   ]
  },
  {
   "cell_type": "code",
   "execution_count": null,
   "id": "bc59e55f",
   "metadata": {},
   "outputs": [],
   "source": []
  }
 ],
 "metadata": {
  "kernelspec": {
   "display_name": "ironhack",
   "language": "python",
   "name": "ironhack"
  },
  "language_info": {
   "codemirror_mode": {
    "name": "ipython",
    "version": 3
   },
   "file_extension": ".py",
   "mimetype": "text/x-python",
   "name": "python",
   "nbconvert_exporter": "python",
   "pygments_lexer": "ipython3",
   "version": "3.10.6"
  }
 },
 "nbformat": 4,
 "nbformat_minor": 5
}
