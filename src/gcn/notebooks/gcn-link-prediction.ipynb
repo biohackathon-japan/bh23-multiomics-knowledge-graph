{
 "cells": [
  {
   "cell_type": "markdown",
   "id": "0",
   "metadata": {},
   "source": [
    "# Link prediction with GCN"
   ]
  },
  {
   "cell_type": "markdown",
   "id": "1",
   "metadata": {
    "nbsphinx": "hidden",
    "tags": [
     "CloudRunner"
    ]
   },
   "source": [
    "<table><tr><td>Run the latest release of this notebook:</td><td><a href=\"https://mybinder.org/v2/gh/stellargraph/stellargraph/master?urlpath=lab/tree/demos/link-prediction/gcn-link-prediction.ipynb\" alt=\"Open In Binder\" target=\"_parent\"><img src=\"https://mybinder.org/badge_logo.svg\"/></a></td><td><a href=\"https://colab.research.google.com/github/stellargraph/stellargraph/blob/master/demos/link-prediction/gcn-link-prediction.ipynb\" alt=\"Open In Colab\" target=\"_parent\"><img src=\"https://colab.research.google.com/assets/colab-badge.svg\"/></a></td></tr></table>"
   ]
  },
  {
   "cell_type": "markdown",
   "id": "2",
   "metadata": {},
   "source": [
    "In this example, we use our implementation of the [GCN](https://arxiv.org/abs/1609.02907) algorithm to build a model that predicts citation links in the Cora dataset (see below). The problem is treated as a supervised link prediction problem on a homogeneous citation network with nodes representing papers (with attributes such as binary keyword indicators and categorical subject) and links corresponding to paper-paper citations. \n",
    "\n",
    "To address this problem, we build a model with the following architecture. First we build a two-layer GCN model that takes labeled node pairs (`citing-paper` -> `cited-paper`)  corresponding to possible citation links, and outputs a pair of node embeddings for the `citing-paper` and `cited-paper` nodes of the pair. These embeddings are then fed into a link classification layer, which first applies a binary operator to those node embeddings (e.g., concatenating them) to construct the embedding of the potential link. Thus obtained link embeddings are passed through the dense link classification layer to obtain link predictions - probability for these candidate links to actually exist in the network. The entire model is trained end-to-end by minimizing the loss function of choice (e.g., binary cross-entropy between predicted link probabilities and true link labels, with true/false citation links having labels 1/0) using stochastic gradient descent (SGD) updates of the model parameters, with minibatches of 'training' links fed into the model."
   ]
  },
  {
   "cell_type": "code",
   "execution_count": 1,
   "id": "3",
   "metadata": {
    "nbsphinx": "hidden",
    "tags": [
     "CloudRunner"
    ]
   },
   "outputs": [],
   "source": [
    "# install StellarGraph if running on Google Colab\n",
    "import sys\n",
    "if 'google.colab' in sys.modules:\n",
    "  %pip install -q stellargraph[demos]==1.3.0b"
   ]
  },
  {
   "cell_type": "code",
   "execution_count": 1,
   "id": "4",
   "metadata": {
    "nbsphinx": "hidden",
    "tags": [
     "VersionCheck"
    ]
   },
   "outputs": [
    {
     "name": "stderr",
     "output_type": "stream",
     "text": [
      "2023-06-29 04:15:53.720415: I tensorflow/core/platform/cpu_feature_guard.cc:193] This TensorFlow binary is optimized with oneAPI Deep Neural Network Library (oneDNN) to use the following CPU instructions in performance-critical operations:  AVX2 AVX512F AVX512_VNNI FMA\n",
      "To enable them in other operations, rebuild TensorFlow with the appropriate compiler flags.\n",
      "2023-06-29 04:15:53.834981: I tensorflow/core/util/port.cc:104] oneDNN custom operations are on. You may see slightly different numerical results due to floating-point round-off errors from different computation orders. To turn them off, set the environment variable `TF_ENABLE_ONEDNN_OPTS=0`.\n",
      "2023-06-29 04:15:53.840153: W tensorflow/compiler/xla/stream_executor/platform/default/dso_loader.cc:64] Could not load dynamic library 'libcudart.so.11.0'; dlerror: libcudart.so.11.0: cannot open shared object file: No such file or directory\n",
      "2023-06-29 04:15:53.840164: I tensorflow/compiler/xla/stream_executor/cuda/cudart_stub.cc:29] Ignore above cudart dlerror if you do not have a GPU set up on your machine.\n",
      "2023-06-29 04:15:54.266636: W tensorflow/compiler/xla/stream_executor/platform/default/dso_loader.cc:64] Could not load dynamic library 'libnvinfer.so.7'; dlerror: libnvinfer.so.7: cannot open shared object file: No such file or directory\n",
      "2023-06-29 04:15:54.266706: W tensorflow/compiler/xla/stream_executor/platform/default/dso_loader.cc:64] Could not load dynamic library 'libnvinfer_plugin.so.7'; dlerror: libnvinfer_plugin.so.7: cannot open shared object file: No such file or directory\n",
      "2023-06-29 04:15:54.266710: W tensorflow/compiler/tf2tensorrt/utils/py_utils.cc:38] TF-TRT Warning: Cannot dlopen some TensorRT libraries. If you would like to use Nvidia GPU with TensorRT, please make sure the missing libraries mentioned above are installed properly.\n",
      "2023-06-29 04:15:54.764427: W tensorflow/compiler/xla/stream_executor/platform/default/dso_loader.cc:64] Could not load dynamic library 'libcuda.so.1'; dlerror: libcuda.so.1: cannot open shared object file: No such file or directory\n",
      "2023-06-29 04:15:54.764443: W tensorflow/compiler/xla/stream_executor/cuda/cuda_driver.cc:265] failed call to cuInit: UNKNOWN ERROR (303)\n",
      "2023-06-29 04:15:54.764455: I tensorflow/compiler/xla/stream_executor/cuda/cuda_diagnostics.cc:156] kernel driver does not appear to be running on this host (alabarga-Latitude-7420): /proc/driver/nvidia/version does not exist\n",
      "2023-06-29 04:15:54.764670: I tensorflow/core/platform/cpu_feature_guard.cc:193] This TensorFlow binary is optimized with oneAPI Deep Neural Network Library (oneDNN) to use the following CPU instructions in performance-critical operations:  AVX2 AVX512F AVX512_VNNI FMA\n",
      "To enable them in other operations, rebuild TensorFlow with the appropriate compiler flags.\n"
     ]
    }
   ],
   "source": [
    "# verify that we're using the correct version of StellarGraph for this notebook\n",
    "import stellargraph as sg\n",
    "\n",
    "try:\n",
    "    sg.utils.validate_notebook_version(\"1.3.0b\")\n",
    "except AttributeError:\n",
    "    raise ValueError(\n",
    "        f\"This notebook requires StellarGraph version 1.3.0b, but a different version {sg.__version__} is installed.  Please see <https://github.com/stellargraph/stellargraph/issues/1172>.\"\n",
    "    ) from None"
   ]
  },
  {
   "cell_type": "code",
   "execution_count": 2,
   "id": "5",
   "metadata": {},
   "outputs": [],
   "source": [
    "import stellargraph as sg\n",
    "from stellargraph.data import EdgeSplitter\n",
    "from stellargraph.mapper import FullBatchLinkGenerator\n",
    "from stellargraph.layer import GCN, LinkEmbedding\n",
    "\n",
    "\n",
    "from tensorflow import keras\n",
    "from sklearn import preprocessing, feature_extraction, model_selection\n",
    "\n",
    "from stellargraph import globalvar\n",
    "from stellargraph import datasets\n",
    "from IPython.display import display, HTML\n",
    "%matplotlib inline"
   ]
  },
  {
   "cell_type": "markdown",
   "id": "6",
   "metadata": {},
   "source": [
    "## Loading the CORA network data"
   ]
  },
  {
   "cell_type": "markdown",
   "id": "7",
   "metadata": {
    "tags": [
     "DataLoadingLinks"
    ]
   },
   "source": [
    "(See [the \"Loading from Pandas\" demo](../basics/loading-pandas.ipynb) for details on how data can be loaded.)"
   ]
  },
  {
   "cell_type": "code",
   "execution_count": 3,
   "id": "8",
   "metadata": {
    "tags": [
     "DataLoading"
    ]
   },
   "outputs": [
    {
     "data": {
      "text/html": [
       "The Cora dataset consists of 2708 scientific publications classified into one of seven classes. The citation network consists of 5429 links. Each publication in the dataset is described by a 0/1-valued word vector indicating the absence/presence of the corresponding word from the dictionary. The dictionary consists of 1433 unique words."
      ],
      "text/plain": [
       "<IPython.core.display.HTML object>"
      ]
     },
     "metadata": {},
     "output_type": "display_data"
    }
   ],
   "source": [
    "dataset = datasets.Cora()\n",
    "display(HTML(dataset.description))\n",
    "G, _ = dataset.load(subject_as_feature=True)"
   ]
  },
  {
   "cell_type": "code",
   "execution_count": 4,
   "id": "9",
   "metadata": {},
   "outputs": [
    {
     "name": "stdout",
     "output_type": "stream",
     "text": [
      "StellarGraph: Undirected multigraph\n",
      " Nodes: 2708, Edges: 5429\n",
      "\n",
      " Node types:\n",
      "  paper: [2708]\n",
      "    Features: float32 vector, length 1440\n",
      "    Edge types: paper-cites->paper\n",
      "\n",
      " Edge types:\n",
      "    paper-cites->paper: [5429]\n",
      "        Weights: all 1 (default)\n",
      "        Features: none\n"
     ]
    }
   ],
   "source": [
    "print(G.info())"
   ]
  },
  {
   "cell_type": "markdown",
   "id": "10",
   "metadata": {},
   "source": [
    "We aim to train a link prediction model, hence we need to prepare the train and test sets of links and the corresponding graphs with those links removed.\n",
    "\n",
    "We are going to split our input graph into a train and test graphs using the EdgeSplitter class in `stellargraph.data`. We will use the train graph for training the model (a binary classifier that, given two nodes, predicts whether a link between these two nodes should exist or not) and the test graph for evaluating the model's performance on hold out data.\n",
    "Each of these graphs will have the same number of nodes as the input graph, but the number of links will differ (be reduced) as some of the links will be removed during each split and used as the positive samples for training/testing the link prediction classifier."
   ]
  },
  {
   "cell_type": "markdown",
   "id": "11",
   "metadata": {},
   "source": [
    "From the original graph G, extract a randomly sampled subset of test edges (true and false citation links) and the reduced graph G_test with the positive test edges removed:"
   ]
  },
  {
   "cell_type": "code",
   "execution_count": 5,
   "id": "12",
   "metadata": {},
   "outputs": [
    {
     "name": "stdout",
     "output_type": "stream",
     "text": [
      "** Sampled 542 positive and 542 negative edges. **\n"
     ]
    }
   ],
   "source": [
    "# Define an edge splitter on the original graph G:\n",
    "edge_splitter_test = EdgeSplitter(G)\n",
    "\n",
    "# Randomly sample a fraction p=0.1 of all positive links, and same number of negative links, from G, and obtain the\n",
    "# reduced graph G_test with the sampled links removed:\n",
    "G_test, edge_ids_test, edge_labels_test = edge_splitter_test.train_test_split(\n",
    "    p=0.1, method=\"global\", keep_connected=True\n",
    ")"
   ]
  },
  {
   "cell_type": "markdown",
   "id": "13",
   "metadata": {},
   "source": [
    "The reduced graph G_test, together with the test ground truth set of links (edge_ids_test, edge_labels_test), will be used for testing the model.\n",
    "\n",
    "Now repeat this procedure to obtain the training data for the model. From the reduced graph G_test, extract a randomly sampled subset of train edges (true and false citation links) and the reduced graph G_train with the positive train edges removed:"
   ]
  },
  {
   "cell_type": "code",
   "execution_count": 6,
   "id": "14",
   "metadata": {},
   "outputs": [
    {
     "name": "stdout",
     "output_type": "stream",
     "text": [
      "** Sampled 488 positive and 488 negative edges. **\n"
     ]
    }
   ],
   "source": [
    "# Define an edge splitter on the reduced graph G_test:\n",
    "edge_splitter_train = EdgeSplitter(G_test)\n",
    "\n",
    "# Randomly sample a fraction p=0.1 of all positive links, and same number of negative links, from G_test, and obtain the\n",
    "# reduced graph G_train with the sampled links removed:\n",
    "G_train, edge_ids_train, edge_labels_train = edge_splitter_train.train_test_split(\n",
    "    p=0.1, method=\"global\", keep_connected=True\n",
    ")"
   ]
  },
  {
   "cell_type": "markdown",
   "id": "15",
   "metadata": {},
   "source": [
    "G_train, together with the train ground truth set of links (edge_ids_train, edge_labels_train), will be used for training the model."
   ]
  },
  {
   "cell_type": "markdown",
   "id": "16",
   "metadata": {},
   "source": [
    "## Creating the GCN link model"
   ]
  },
  {
   "cell_type": "markdown",
   "id": "17",
   "metadata": {},
   "source": [
    "Next, we create the link generators for the train and test link examples to the model. The link generators take the pairs of nodes (`citing-paper`, `cited-paper`) that are given in the `.flow` method to the Keras model, together with the corresponding binary labels indicating whether those pairs represent true or false links.\n",
    "\n",
    "The number of epochs for training the model:"
   ]
  },
  {
   "cell_type": "code",
   "execution_count": 7,
   "id": "18",
   "metadata": {},
   "outputs": [],
   "source": [
    "epochs = 50"
   ]
  },
  {
   "cell_type": "markdown",
   "id": "19",
   "metadata": {},
   "source": [
    "For training we create a generator on the `G_train` graph, and make an iterator over the training links using the generator's `flow()` method:"
   ]
  },
  {
   "cell_type": "code",
   "execution_count": 8,
   "id": "20",
   "metadata": {},
   "outputs": [
    {
     "name": "stdout",
     "output_type": "stream",
     "text": [
      "Using GCN (local pooling) filters...\n"
     ]
    }
   ],
   "source": [
    "train_gen = FullBatchLinkGenerator(G_train, method=\"gcn\")\n",
    "train_flow = train_gen.flow(edge_ids_train, edge_labels_train)"
   ]
  },
  {
   "cell_type": "code",
   "execution_count": 9,
   "id": "21",
   "metadata": {},
   "outputs": [
    {
     "name": "stdout",
     "output_type": "stream",
     "text": [
      "Using GCN (local pooling) filters...\n"
     ]
    }
   ],
   "source": [
    "test_gen = FullBatchLinkGenerator(G_test, method=\"gcn\")\n",
    "test_flow = test_gen.flow(edge_ids_test, edge_labels_test)"
   ]
  },
  {
   "cell_type": "markdown",
   "id": "22",
   "metadata": {},
   "source": [
    "Now we can specify our machine learning model, we need a few more parameters for this:\n",
    "\n",
    " * the `layer_sizes` is a list of hidden feature sizes of each layer in the model. In this example we use two GCN layers with 16-dimensional hidden node features at each layer.\n",
    " * `activations` is a list of activations applied to each layer's output\n",
    " * `dropout=0.3` specifies a 30% dropout at each layer. "
   ]
  },
  {
   "cell_type": "markdown",
   "id": "23",
   "metadata": {},
   "source": [
    "We create a GCN model as follows:"
   ]
  },
  {
   "cell_type": "code",
   "execution_count": 10,
   "id": "24",
   "metadata": {},
   "outputs": [],
   "source": [
    "gcn = GCN(\n",
    "    layer_sizes=[16, 16], activations=[\"relu\", \"relu\"], generator=train_gen, dropout=0.3\n",
    ")"
   ]
  },
  {
   "cell_type": "markdown",
   "id": "25",
   "metadata": {},
   "source": [
    "To create a Keras model we now expose the input and output tensors of the GCN model for link prediction, via the `GCN.in_out_tensors` method:"
   ]
  },
  {
   "cell_type": "code",
   "execution_count": 11,
   "id": "26",
   "metadata": {},
   "outputs": [],
   "source": [
    "x_inp, x_out = gcn.in_out_tensors()"
   ]
  },
  {
   "cell_type": "markdown",
   "id": "27",
   "metadata": {},
   "source": [
    "Final link classification layer that takes a pair of node embeddings produced by the GCN model, applies a binary operator to them to produce the corresponding link embedding (`ip` for inner product; other options for the binary operator can be seen by running a cell with `?LinkEmbedding` in it), and passes it through a dense layer:"
   ]
  },
  {
   "cell_type": "code",
   "execution_count": 12,
   "id": "28",
   "metadata": {},
   "outputs": [],
   "source": [
    "prediction = LinkEmbedding(activation=\"relu\", method=\"ip\")(x_out)"
   ]
  },
  {
   "cell_type": "markdown",
   "id": "29",
   "metadata": {},
   "source": [
    "The predictions need to be reshaped from `(X, 1)` to `(X,)` to match the shape of the targets we have supplied above."
   ]
  },
  {
   "cell_type": "code",
   "execution_count": 13,
   "id": "30",
   "metadata": {},
   "outputs": [],
   "source": [
    "prediction = keras.layers.Reshape((-1,))(prediction)"
   ]
  },
  {
   "cell_type": "markdown",
   "id": "31",
   "metadata": {},
   "source": [
    "Stack the GCN and prediction layers into a Keras model, and specify the loss"
   ]
  },
  {
   "cell_type": "code",
   "execution_count": 15,
   "id": "32",
   "metadata": {},
   "outputs": [],
   "source": [
    "model = keras.Model(inputs=x_inp, outputs=prediction)\n",
    "\n",
    "model.compile(\n",
    "    optimizer=keras.optimizers.Adam(learning_rate=0.01),\n",
    "    loss=keras.losses.binary_crossentropy,\n",
    "    # not just \"acc\" due to https://github.com/tensorflow/tensorflow/issues/41361\n",
    "    metrics=[\"binary_accuracy\"],\n",
    ")"
   ]
  },
  {
   "cell_type": "markdown",
   "id": "33",
   "metadata": {},
   "source": [
    "Evaluate the initial (untrained) model on the train and test set:"
   ]
  },
  {
   "cell_type": "code",
   "execution_count": 16,
   "id": "34",
   "metadata": {},
   "outputs": [
    {
     "name": "stdout",
     "output_type": "stream",
     "text": [
      "1/1 [==============================] - 0s 292ms/step - loss: 2.0374 - binary_accuracy: 0.5000\n",
      "1/1 [==============================] - 0s 46ms/step - loss: 2.0353 - binary_accuracy: 0.5000\n",
      "\n",
      "Train Set Metrics of the initial (untrained) model:\n",
      "\tloss: 2.0374\n",
      "\tbinary_accuracy: 0.5000\n",
      "\n",
      "Test Set Metrics of the initial (untrained) model:\n",
      "\tloss: 2.0353\n",
      "\tbinary_accuracy: 0.5000\n"
     ]
    }
   ],
   "source": [
    "init_train_metrics = model.evaluate(train_flow)\n",
    "init_test_metrics = model.evaluate(test_flow)\n",
    "\n",
    "print(\"\\nTrain Set Metrics of the initial (untrained) model:\")\n",
    "for name, val in zip(model.metrics_names, init_train_metrics):\n",
    "    print(\"\\t{}: {:0.4f}\".format(name, val))\n",
    "\n",
    "print(\"\\nTest Set Metrics of the initial (untrained) model:\")\n",
    "for name, val in zip(model.metrics_names, init_test_metrics):\n",
    "    print(\"\\t{}: {:0.4f}\".format(name, val))"
   ]
  },
  {
   "cell_type": "markdown",
   "id": "35",
   "metadata": {},
   "source": [
    "Train the model:"
   ]
  },
  {
   "cell_type": "code",
   "execution_count": 17,
   "id": "36",
   "metadata": {},
   "outputs": [
    {
     "name": "stdout",
     "output_type": "stream",
     "text": [
      "Epoch 1/50\n",
      "1/1 - 1s - loss: 1.9731 - binary_accuracy: 0.5000 - val_loss: 0.7832 - val_binary_accuracy: 0.6190 - 684ms/epoch - 684ms/step\n",
      "Epoch 2/50\n",
      "1/1 - 0s - loss: 1.0585 - binary_accuracy: 0.6096 - val_loss: 2.6071 - val_binary_accuracy: 0.5304 - 128ms/epoch - 128ms/step\n",
      "Epoch 3/50\n",
      "1/1 - 0s - loss: 2.9734 - binary_accuracy: 0.5461 - val_loss: 0.7310 - val_binary_accuracy: 0.6504 - 74ms/epoch - 74ms/step\n",
      "Epoch 4/50\n",
      "1/1 - 0s - loss: 0.8056 - binary_accuracy: 0.6691 - val_loss: 0.6798 - val_binary_accuracy: 0.6042 - 97ms/epoch - 97ms/step\n",
      "Epoch 5/50\n",
      "1/1 - 0s - loss: 0.6373 - binary_accuracy: 0.6270 - val_loss: 0.7629 - val_binary_accuracy: 0.5664 - 75ms/epoch - 75ms/step\n",
      "Epoch 6/50\n",
      "1/1 - 0s - loss: 0.7076 - binary_accuracy: 0.5912 - val_loss: 0.7237 - val_binary_accuracy: 0.5941 - 77ms/epoch - 77ms/step\n",
      "Epoch 7/50\n",
      "1/1 - 0s - loss: 0.7032 - binary_accuracy: 0.6209 - val_loss: 0.7125 - val_binary_accuracy: 0.6310 - 110ms/epoch - 110ms/step\n",
      "Epoch 8/50\n",
      "1/1 - 0s - loss: 0.7454 - binary_accuracy: 0.6527 - val_loss: 0.6837 - val_binary_accuracy: 0.6310 - 79ms/epoch - 79ms/step\n",
      "Epoch 9/50\n",
      "1/1 - 0s - loss: 0.6895 - binary_accuracy: 0.6629 - val_loss: 0.6646 - val_binary_accuracy: 0.6365 - 75ms/epoch - 75ms/step\n",
      "Epoch 10/50\n",
      "1/1 - 0s - loss: 0.6370 - binary_accuracy: 0.6844 - val_loss: 0.6459 - val_binary_accuracy: 0.6642 - 126ms/epoch - 126ms/step\n",
      "Epoch 11/50\n",
      "1/1 - 0s - loss: 0.6373 - binary_accuracy: 0.7018 - val_loss: 0.6185 - val_binary_accuracy: 0.6780 - 65ms/epoch - 65ms/step\n",
      "Epoch 12/50\n",
      "1/1 - 0s - loss: 0.5724 - binary_accuracy: 0.7357 - val_loss: 0.6016 - val_binary_accuracy: 0.6928 - 65ms/epoch - 65ms/step\n",
      "Epoch 13/50\n",
      "1/1 - 0s - loss: 0.5661 - binary_accuracy: 0.7275 - val_loss: 0.6223 - val_binary_accuracy: 0.7076 - 70ms/epoch - 70ms/step\n",
      "Epoch 14/50\n",
      "1/1 - 0s - loss: 0.5423 - binary_accuracy: 0.7346 - val_loss: 0.6643 - val_binary_accuracy: 0.7066 - 69ms/epoch - 69ms/step\n",
      "Epoch 15/50\n",
      "1/1 - 0s - loss: 0.6209 - binary_accuracy: 0.7480 - val_loss: 0.6579 - val_binary_accuracy: 0.7149 - 73ms/epoch - 73ms/step\n",
      "Epoch 16/50\n",
      "1/1 - 0s - loss: 0.5386 - binary_accuracy: 0.7469 - val_loss: 0.6632 - val_binary_accuracy: 0.7168 - 79ms/epoch - 79ms/step\n",
      "Epoch 17/50\n",
      "1/1 - 0s - loss: 0.4997 - binary_accuracy: 0.7971 - val_loss: 0.6437 - val_binary_accuracy: 0.7251 - 68ms/epoch - 68ms/step\n",
      "Epoch 18/50\n",
      "1/1 - 0s - loss: 0.4985 - binary_accuracy: 0.7920 - val_loss: 0.6309 - val_binary_accuracy: 0.7325 - 74ms/epoch - 74ms/step\n",
      "Epoch 19/50\n",
      "1/1 - 0s - loss: 0.4913 - binary_accuracy: 0.8023 - val_loss: 0.6209 - val_binary_accuracy: 0.7399 - 75ms/epoch - 75ms/step\n",
      "Epoch 20/50\n",
      "1/1 - 0s - loss: 0.4528 - binary_accuracy: 0.8217 - val_loss: 0.5875 - val_binary_accuracy: 0.7500 - 161ms/epoch - 161ms/step\n",
      "Epoch 21/50\n",
      "1/1 - 0s - loss: 0.4522 - binary_accuracy: 0.8320 - val_loss: 0.5894 - val_binary_accuracy: 0.7509 - 69ms/epoch - 69ms/step\n",
      "Epoch 22/50\n",
      "1/1 - 0s - loss: 0.4301 - binary_accuracy: 0.8248 - val_loss: 0.5831 - val_binary_accuracy: 0.7546 - 72ms/epoch - 72ms/step\n",
      "Epoch 23/50\n",
      "1/1 - 0s - loss: 0.4003 - binary_accuracy: 0.8145 - val_loss: 0.5782 - val_binary_accuracy: 0.7574 - 82ms/epoch - 82ms/step\n",
      "Epoch 24/50\n",
      "1/1 - 0s - loss: 0.4374 - binary_accuracy: 0.8279 - val_loss: 0.5702 - val_binary_accuracy: 0.7648 - 72ms/epoch - 72ms/step\n",
      "Epoch 25/50\n",
      "1/1 - 0s - loss: 0.3908 - binary_accuracy: 0.8330 - val_loss: 0.5652 - val_binary_accuracy: 0.7694 - 67ms/epoch - 67ms/step\n",
      "Epoch 26/50\n",
      "1/1 - 0s - loss: 0.4279 - binary_accuracy: 0.8525 - val_loss: 0.6216 - val_binary_accuracy: 0.7629 - 137ms/epoch - 137ms/step\n",
      "Epoch 27/50\n",
      "1/1 - 0s - loss: 0.4128 - binary_accuracy: 0.8504 - val_loss: 0.6648 - val_binary_accuracy: 0.7565 - 74ms/epoch - 74ms/step\n",
      "Epoch 28/50\n",
      "1/1 - 0s - loss: 0.3874 - binary_accuracy: 0.8699 - val_loss: 0.6659 - val_binary_accuracy: 0.7546 - 68ms/epoch - 68ms/step\n",
      "Epoch 29/50\n",
      "1/1 - 0s - loss: 0.3740 - binary_accuracy: 0.8678 - val_loss: 0.6514 - val_binary_accuracy: 0.7638 - 67ms/epoch - 67ms/step\n",
      "Epoch 30/50\n",
      "1/1 - 0s - loss: 0.3686 - binary_accuracy: 0.8535 - val_loss: 0.6676 - val_binary_accuracy: 0.7685 - 71ms/epoch - 71ms/step\n",
      "Epoch 31/50\n",
      "1/1 - 0s - loss: 0.3375 - binary_accuracy: 0.8648 - val_loss: 0.6561 - val_binary_accuracy: 0.7685 - 69ms/epoch - 69ms/step\n",
      "Epoch 32/50\n",
      "1/1 - 0s - loss: 0.3492 - binary_accuracy: 0.8668 - val_loss: 0.6673 - val_binary_accuracy: 0.7694 - 66ms/epoch - 66ms/step\n",
      "Epoch 33/50\n",
      "1/1 - 0s - loss: 0.3231 - binary_accuracy: 0.8627 - val_loss: 0.6687 - val_binary_accuracy: 0.7583 - 67ms/epoch - 67ms/step\n",
      "Epoch 34/50\n",
      "1/1 - 0s - loss: 0.3204 - binary_accuracy: 0.8832 - val_loss: 0.6673 - val_binary_accuracy: 0.7629 - 70ms/epoch - 70ms/step\n",
      "Epoch 35/50\n",
      "1/1 - 0s - loss: 0.2938 - binary_accuracy: 0.8914 - val_loss: 0.6579 - val_binary_accuracy: 0.7620 - 81ms/epoch - 81ms/step\n",
      "Epoch 36/50\n",
      "1/1 - 0s - loss: 0.3174 - binary_accuracy: 0.8873 - val_loss: 0.6519 - val_binary_accuracy: 0.7675 - 76ms/epoch - 76ms/step\n",
      "Epoch 37/50\n",
      "1/1 - 0s - loss: 0.3132 - binary_accuracy: 0.8791 - val_loss: 0.6510 - val_binary_accuracy: 0.7657 - 67ms/epoch - 67ms/step\n",
      "Epoch 38/50\n",
      "1/1 - 0s - loss: 0.2902 - binary_accuracy: 0.8791 - val_loss: 0.6784 - val_binary_accuracy: 0.7666 - 71ms/epoch - 71ms/step\n",
      "Epoch 39/50\n",
      "1/1 - 0s - loss: 0.2991 - binary_accuracy: 0.8904 - val_loss: 0.7270 - val_binary_accuracy: 0.7583 - 71ms/epoch - 71ms/step\n",
      "Epoch 40/50\n",
      "1/1 - 0s - loss: 0.3009 - binary_accuracy: 0.9016 - val_loss: 0.7593 - val_binary_accuracy: 0.7592 - 75ms/epoch - 75ms/step\n",
      "Epoch 41/50\n",
      "1/1 - 0s - loss: 0.3059 - binary_accuracy: 0.8904 - val_loss: 0.7472 - val_binary_accuracy: 0.7629 - 76ms/epoch - 76ms/step\n",
      "Epoch 42/50\n",
      "1/1 - 0s - loss: 0.2925 - binary_accuracy: 0.8955 - val_loss: 0.7310 - val_binary_accuracy: 0.7629 - 71ms/epoch - 71ms/step\n",
      "Epoch 43/50\n",
      "1/1 - 0s - loss: 0.2775 - binary_accuracy: 0.9027 - val_loss: 0.7175 - val_binary_accuracy: 0.7638 - 72ms/epoch - 72ms/step\n",
      "Epoch 44/50\n",
      "1/1 - 0s - loss: 0.2519 - binary_accuracy: 0.8965 - val_loss: 0.7074 - val_binary_accuracy: 0.7657 - 66ms/epoch - 66ms/step\n",
      "Epoch 45/50\n",
      "1/1 - 0s - loss: 0.2528 - binary_accuracy: 0.9160 - val_loss: 0.7189 - val_binary_accuracy: 0.7666 - 70ms/epoch - 70ms/step\n",
      "Epoch 46/50\n",
      "1/1 - 0s - loss: 0.2468 - binary_accuracy: 0.8955 - val_loss: 0.7280 - val_binary_accuracy: 0.7675 - 73ms/epoch - 73ms/step\n",
      "Epoch 47/50\n",
      "1/1 - 0s - loss: 0.2555 - binary_accuracy: 0.9119 - val_loss: 0.7380 - val_binary_accuracy: 0.7675 - 68ms/epoch - 68ms/step\n",
      "Epoch 48/50\n",
      "1/1 - 0s - loss: 0.2697 - binary_accuracy: 0.9150 - val_loss: 0.7414 - val_binary_accuracy: 0.7675 - 70ms/epoch - 70ms/step\n",
      "Epoch 49/50\n",
      "1/1 - 0s - loss: 0.2357 - binary_accuracy: 0.9119 - val_loss: 0.7635 - val_binary_accuracy: 0.7721 - 68ms/epoch - 68ms/step\n",
      "Epoch 50/50\n",
      "1/1 - 0s - loss: 0.2415 - binary_accuracy: 0.9293 - val_loss: 0.8011 - val_binary_accuracy: 0.7666 - 131ms/epoch - 131ms/step\n"
     ]
    }
   ],
   "source": [
    "history = model.fit(\n",
    "    train_flow, epochs=epochs, validation_data=test_flow, verbose=2, shuffle=False\n",
    ")"
   ]
  },
  {
   "cell_type": "markdown",
   "id": "37",
   "metadata": {},
   "source": [
    "Plot the training history:"
   ]
  },
  {
   "cell_type": "code",
   "execution_count": 18,
   "id": "38",
   "metadata": {},
   "outputs": [
    {
     "data": {
      "image/png": "[encoded data removed]",
      "text/plain": [
       "<Figure size 700x800 with 2 Axes>"
      ]
     },
     "metadata": {},
     "output_type": "display_data"
    }
   ],
   "source": [
    "sg.utils.plot_history(history)"
   ]
  },
  {
   "cell_type": "markdown",
   "id": "39",
   "metadata": {},
   "source": [
    "Evaluate the trained model on test citation links:"
   ]
  },
  {
   "cell_type": "code",
   "execution_count": 19,
   "id": "40",
   "metadata": {},
   "outputs": [
    {
     "name": "stdout",
     "output_type": "stream",
     "text": [
      "1/1 [==============================] - 0s 39ms/step - loss: 0.1611 - binary_accuracy: 0.9682\n",
      "1/1 [==============================] - 0s 39ms/step - loss: 0.8011 - binary_accuracy: 0.7666\n",
      "\n",
      "Train Set Metrics of the trained model:\n",
      "\tloss: 0.1611\n",
      "\tbinary_accuracy: 0.9682\n",
      "\n",
      "Test Set Metrics of the trained model:\n",
      "\tloss: 0.8011\n",
      "\tbinary_accuracy: 0.7666\n"
     ]
    }
   ],
   "source": [
    "train_metrics = model.evaluate(train_flow)\n",
    "test_metrics = model.evaluate(test_flow)\n",
    "\n",
    "print(\"\\nTrain Set Metrics of the trained model:\")\n",
    "for name, val in zip(model.metrics_names, train_metrics):\n",
    "    print(\"\\t{}: {:0.4f}\".format(name, val))\n",
    "\n",
    "print(\"\\nTest Set Metrics of the trained model:\")\n",
    "for name, val in zip(model.metrics_names, test_metrics):\n",
    "    print(\"\\t{}: {:0.4f}\".format(name, val))"
   ]
  },
  {
   "cell_type": "markdown",
   "id": "41",
   "metadata": {
    "nbsphinx": "hidden",
    "tags": [
     "CloudRunner"
    ]
   },
   "source": [
    "<table><tr><td>Run the latest release of this notebook:</td><td><a href=\"https://mybinder.org/v2/gh/stellargraph/stellargraph/master?urlpath=lab/tree/demos/link-prediction/gcn-link-prediction.ipynb\" alt=\"Open In Binder\" target=\"_parent\"><img src=\"https://mybinder.org/badge_logo.svg\"/></a></td><td><a href=\"https://colab.research.google.com/github/stellargraph/stellargraph/blob/master/demos/link-prediction/gcn-link-prediction.ipynb\" alt=\"Open In Colab\" target=\"_parent\"><img src=\"https://colab.research.google.com/assets/colab-badge.svg\"/></a></td></tr></table>"
   ]
  }
 ],
 "metadata": {
  "file_extension": ".py",
  "kernelspec": {
   "display_name": "ironhack",
   "language": "python",
   "name": "ironhack"
  },
  "language_info": {
   "codemirror_mode": {
    "name": "ipython",
    "version": 3
   },
   "file_extension": ".py",
   "mimetype": "text/x-python",
   "name": "python",
   "nbconvert_exporter": "python",
   "pygments_lexer": "ipython3",
   "version": "3.10.6"
  },
  "mimetype": "text/x-python",
  "name": "python",
  "npconvert_exporter": "python",
  "pygments_lexer": "ipython3",
  "version": 3
 },
 "nbformat": 4,
 "nbformat_minor": 4
}
