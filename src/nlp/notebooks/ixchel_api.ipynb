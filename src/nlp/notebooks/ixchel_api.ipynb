{
 "cells": [
  {
   "cell_type": "code",
   "execution_count": 10,
   "id": "2b8aa025",
   "metadata": {},
   "outputs": [],
   "source": [
    "import requests"
   ]
  },
  {
   "cell_type": "code",
   "execution_count": 9,
   "id": "fae0029a",
   "metadata": {},
   "outputs": [],
   "source": [
    "apikey ='80a9494a75d0462c300889cc34ac2961'"
   ]
  },
  {
   "cell_type": "code",
   "execution_count": 19,
   "id": "74fae7ea",
   "metadata": {},
   "outputs": [],
   "source": [
    "apikey = 'Y03Xnr78PCEAldPoZFVKHHE35sMyLVx5iqx52ARF'"
   ]
  },
  {
   "cell_type": "code",
   "execution_count": 32,
   "id": "c2dacab3",
   "metadata": {},
   "outputs": [],
   "source": [
    "language = 'en'\n",
    "texto = '''A 61-year-old white woman was evaluated who complained of loss of balance that was slowly progressive over 3 years. On examination, corrected visual acuity was 20/20 OU. Pupils were equal and briskly reactive with no afferent pupillary defect. Confrontation visual fields were full bilaterally and color vision was minimally depressed. Ocular motility showed a small, intermittent esotropia of 6 prism diopters at distance and an exophoria of 6 prism diopters at near. In center gaze, there were frequent, small amplitude, horizontal square-wave jerks. The range of extraocular movements was full and saccades were normal; smooth pursuit was impaired more to the left than to the right. Vestibular nystagmus was not normally suppressed by fixation. In40° of right gaze,there was a right-beating gaze paretic nystagmus with several beats of rebound nystagmus on return to center gaze. In 30° of left\n",
    "gaze, there was also a gaze paretic nystagmus with an associated rebound nystagmus.\n",
    "'''\n",
    "\n",
    "url = f'https://ixchel-{language}.production.iomed.health/analyze'\n",
    "\n",
    "headers = {'apikey': apikey,\n",
    "            'X-Consumer-ID': 'iomed-cli',\n",
    "            'Access-Method': 'iomed-cli'}\n",
    "\n",
    "resp = requests.post(url, headers=headers, json={\"text\":texto})"
   ]
  },
  {
   "cell_type": "code",
   "execution_count": 33,
   "id": "70ac95fc",
   "metadata": {},
   "outputs": [
    {
     "data": {
      "text/plain": [
       "503"
      ]
     },
     "execution_count": 33,
     "metadata": {},
     "output_type": "execute_result"
    }
   ],
   "source": [
    "resp.status_code"
   ]
  },
  {
   "cell_type": "code",
   "execution_count": 31,
   "id": "82f1eeeb",
   "metadata": {},
   "outputs": [
    {
     "data": {
      "text/plain": [
       "{'data': {'entities': [{'code': {'omop_cdm': [4097169]},\n",
       "    'type': {'umls': 'Organism Function', 'iomed': 'Phenomenon'},\n",
       "    'match': {'start': 66,\n",
       "     'end': 73,\n",
       "     'text': 'balance',\n",
       "     'found_as': 'balance'},\n",
       "    'characteristics': {'context': {'past': {'Not past': 0.7035202383995056},\n",
       "      'future': {'Not future': 0.6972140073776245},\n",
       "      'cert': {'Certain': 0.8076809048652649},\n",
       "      'neg': {'Positive': 0.7408262491226196}},\n",
       "     'from_gazetteer': True},\n",
       "    'id': 0},\n",
       "   {'code': {'omop_cdm': [4113286]},\n",
       "    'type': {'umls': 'Functional Concept'},\n",
       "    'match': {'start': 142,\n",
       "     'end': 148,\n",
       "     'text': 'visual',\n",
       "     'found_as': 'visual'},\n",
       "    'characteristics': {'context': {}, 'from_gazetteer': True},\n",
       "    'id': 1},\n",
       "   {'code': {'omop_cdm': [4077689]},\n",
       "    'type': {'iomed': 'Quantitative Concept', 'umls': 'Quantitative Concept'},\n",
       "    'match': {'start': 160, 'end': 165, 'text': '20/20', 'found_as': '20/20'},\n",
       "    'characteristics': {'context': {'past': {'Not past': 0.7006304860115051},\n",
       "      'future': {'Not future': 0.7769757509231567},\n",
       "      'cert': {'Certain': 0.7401970028877258},\n",
       "      'neg': {'Positive': 0.6756247282028198}},\n",
       "     'quantity': {'units': 'dimensionless',\n",
       "      'magnitude': 1.0,\n",
       "      'base_units': 'dimensionless',\n",
       "      'magnitude_base_units': 1.0,\n",
       "      'ucum_units': \"[arb'U]\",\n",
       "      'ucum_concept_id': 9260,\n",
       "      'magnitude_ucum_units': 1.0}},\n",
       "    'id': 2},\n",
       "   {'code': {'omop_cdm': [4213427]},\n",
       "    'type': {'umls': 'Body Part, Organ, or Organ Component',\n",
       "     'iomed': 'Anatomy'},\n",
       "    'match': {'start': 170,\n",
       "     'end': 176,\n",
       "     'text': 'Pupils',\n",
       "     'found_as': 'pupilas',\n",
       "     'fuzzy_score': 85},\n",
       "    'characteristics': {'context': {}, 'from_gazetteer': True},\n",
       "    'id': 3},\n",
       "   {'code': {'omop_cdm': [4107689]},\n",
       "    'type': {'umls': 'Finding', 'iomed': 'Finding'},\n",
       "    'match': {'start': 236,\n",
       "     'end': 242,\n",
       "     'text': 'defect',\n",
       "     'found_as': 'defecto',\n",
       "     'fuzzy_score': 85},\n",
       "    'characteristics': {'context': {'past': {'Not past': 0.8107791543006897},\n",
       "      'future': {'Not future': 0.7873928546905518},\n",
       "      'cert': {'Certain': 0.7103665471076965},\n",
       "      'neg': {'Positive': 0.7146840691566467}},\n",
       "     'from_gazetteer': True},\n",
       "    'id': 4},\n",
       "   {'code': {'omop_cdm': [4113286]},\n",
       "    'type': {'umls': 'Functional Concept'},\n",
       "    'match': {'start': 258,\n",
       "     'end': 264,\n",
       "     'text': 'visual',\n",
       "     'found_as': 'visual'},\n",
       "    'characteristics': {'context': {}, 'from_gazetteer': True},\n",
       "    'id': 5},\n",
       "   {'code': {'omop_cdm': [37397754, 45766146]},\n",
       "    'type': {'umls': 'Qualitative Concept', 'iomed': 'Qualitative Concept'},\n",
       "    'match': {'start': 298, 'end': 303, 'text': 'color', 'found_as': 'color'},\n",
       "    'characteristics': {'context': {}, 'from_gazetteer': True},\n",
       "    'id': 6},\n",
       "   {'code': {'omop_cdm': [42538089]},\n",
       "    'type': {'umls': 'Finding', 'iomed': 'Finding'},\n",
       "    'match': {'start': 336,\n",
       "     'end': 342,\n",
       "     'text': 'Ocular',\n",
       "     'found_as': 'ocular'},\n",
       "    'characteristics': {'context': {'past': {'Not past': 0.717644989490509},\n",
       "      'future': {'Not future': 0.7863359451293945},\n",
       "      'cert': {'Certain': 0.7816819548606873},\n",
       "      'neg': {'Positive': 0.7079749703407288}},\n",
       "     'from_gazetteer': True},\n",
       "    'id': 7},\n",
       "   {'code': {'omop_cdm': [377877]},\n",
       "    'type': {'umls': 'Disease or Syndrome', 'iomed': 'Disease or Syndrome'},\n",
       "    'match': {'start': 381,\n",
       "     'end': 390,\n",
       "     'text': 'esotropia',\n",
       "     'found_as': 'esotropia'},\n",
       "    'characteristics': {'context': {'past': {'Not past': 0.7518312931060791},\n",
       "      'future': {'Not future': 0.792936384677887},\n",
       "      'cert': {'Certain': 0.762854278087616},\n",
       "      'neg': {'Positive': 0.7163155674934387}},\n",
       "     'from_gazetteer': True},\n",
       "    'id': 8},\n",
       "   {'code': {'omop_cdm': [4071366]},\n",
       "    'type': {'umls': 'Mental or Behavioral Dysfunction',\n",
       "     'iomed': 'Disease or Syndrome'},\n",
       "    'match': {'start': 414,\n",
       "     'end': 422,\n",
       "     'text': 'distance',\n",
       "     'found_as': 'distante',\n",
       "     'fuzzy_score': 87},\n",
       "    'characteristics': {'context': {'past': {'Not past': 0.6766064763069153},\n",
       "      'future': {'Not future': 0.8201720118522644},\n",
       "      'cert': {'Certain': 0.766355574131012},\n",
       "      'neg': {'Positive': 0.7860385179519653}},\n",
       "     'from_gazetteer': True},\n",
       "    'id': 9},\n",
       "   {'code': {'omop_cdm': [4077689]},\n",
       "    'type': {'iomed': 'Quantitative Concept', 'umls': 'Quantitative Concept'},\n",
       "    'match': {'start': 443, 'end': 444, 'text': '6', 'found_as': '6'},\n",
       "    'characteristics': {'context': {'past': {'Not past': 0.7768971920013428},\n",
       "      'future': {'Not future': 0.7903174757957458},\n",
       "      'cert': {'Certain': 0.7466806769371033},\n",
       "      'neg': {'Positive': 0.8096001744270325}},\n",
       "     'quantity': {'units': 'dimensionless',\n",
       "      'magnitude': 6,\n",
       "      'base_units': 'dimensionless',\n",
       "      'magnitude_base_units': 6,\n",
       "      'ucum_units': \"[arb'U]\",\n",
       "      'ucum_concept_id': 9260,\n",
       "      'magnitude_ucum_units': 6}},\n",
       "    'id': 10},\n",
       "   {'code': {'omop_cdm': [4035763]},\n",
       "    'type': {'umls': 'Spatial Concept', 'iomed': 'Spatial Concept'},\n",
       "    'match': {'start': 523,\n",
       "     'end': 533,\n",
       "     'text': 'horizontal',\n",
       "     'found_as': 'horizontal'},\n",
       "    'characteristics': {'context': {}, 'from_gazetteer': True},\n",
       "    'id': 11},\n",
       "   {'code': {'omop_cdm': [4069590]},\n",
       "    'type': {'umls': 'Qualitative Concept', 'iomed': 'Qualitative Concept'},\n",
       "    'match': {'start': 615,\n",
       "     'end': 621,\n",
       "     'text': 'normal',\n",
       "     'found_as': 'normal'},\n",
       "    'characteristics': {'context': {}, 'from_gazetteer': True},\n",
       "    'id': 12},\n",
       "   {'code': {'omop_cdm': [4309371]},\n",
       "    'type': {'umls': 'Therapeutic or Preventive Procedure',\n",
       "     'iomed': 'Therapeutic or Preventive Procedure'},\n",
       "    'match': {'start': 656, 'end': 658, 'text': 'to', 'found_as': 'to'},\n",
       "    'characteristics': {'context': {'past': {'Not past': 0.7826705574989319},\n",
       "      'future': {'Not future': 0.7336052656173706},\n",
       "      'cert': {'Certain': 0.7612420916557312},\n",
       "      'neg': {'Positive': 0.7063372731208801},\n",
       "      'treatment_temporality': {'treatment_unknown_temporality': 0.4385559558868408},\n",
       "      'reason_for_disc': {'rfd_ongoing': 0.5682002902030945}},\n",
       "     'from_gazetteer': True},\n",
       "    'id': 13},\n",
       "   {'code': {'omop_cdm': [4309371]},\n",
       "    'type': {'umls': 'Therapeutic or Preventive Procedure',\n",
       "     'iomed': 'Therapeutic or Preventive Procedure'},\n",
       "    'match': {'start': 673, 'end': 675, 'text': 'to', 'found_as': 'to'},\n",
       "    'characteristics': {'context': {'past': {'Not past': 0.811425507068634},\n",
       "      'future': {'Not future': 0.7673745155334473},\n",
       "      'cert': {'Certain': 0.8016858100891113},\n",
       "      'neg': {'Positive': 0.7090432643890381},\n",
       "      'treatment_temporality': {'treatment_ongoing': 0.3325725197792053},\n",
       "      'reason_for_disc': {'rfd_ongoing': 0.5590001940727234}},\n",
       "     'from_gazetteer': True},\n",
       "    'id': 14},\n",
       "   {'code': {'omop_cdm': [4126868]},\n",
       "    'type': {'umls': 'Spatial Concept', 'iomed': 'Spatial Concept'},\n",
       "    'match': {'start': 687,\n",
       "     'end': 697,\n",
       "     'text': 'Vestibular',\n",
       "     'found_as': 'vestibular'},\n",
       "    'characteristics': {'context': {}, 'from_gazetteer': True},\n",
       "    'id': 15},\n",
       "   {'code': {'omop_cdm': [4077689]},\n",
       "    'type': {'iomed': 'Quantitative Concept', 'umls': 'Quantitative Concept'},\n",
       "    'match': {'start': 751, 'end': 754, 'text': '40°', 'found_as': '40°'},\n",
       "    'characteristics': {'context': {'past': {'Not past': 0.8429338335990906},\n",
       "      'future': {'Not future': 0.8322246670722961},\n",
       "      'cert': {'Certain': 0.6133224964141846},\n",
       "      'neg': {'Positive': 0.6795804500579834}},\n",
       "     'quantity': {'units': 'degree',\n",
       "      'magnitude': 40,\n",
       "      'base_units': 'radian',\n",
       "      'magnitude_base_units': 0.6981317007977318,\n",
       "      'ucum_units': 'rad',\n",
       "      'ucum_concept_id': 9636,\n",
       "      'magnitude_ucum_units': 0.6981317007977318}},\n",
       "    'id': 16},\n",
       "   {'code': {'omop_cdm': [375738, 377788]},\n",
       "    'type': {'umls': 'Disease or Syndrome', 'iomed': 'Disease or Syndrome'},\n",
       "    'match': {'start': 800,\n",
       "     'end': 807,\n",
       "     'text': 'paretic',\n",
       "     'found_as': 'paretica',\n",
       "     'fuzzy_score': 87},\n",
       "    'characteristics': {'context': {'past': {'Not past': 0.7435722947120667},\n",
       "      'future': {'Not future': 0.8156583905220032},\n",
       "      'cert': {'Certain': 0.6983692049980164},\n",
       "      'neg': {'Positive': 0.7440161108970642}},\n",
       "     'from_gazetteer': True},\n",
       "    'id': 17},\n",
       "   {'code': {'omop_cdm': [4087703]},\n",
       "    'type': {'umls': 'Finding', 'iomed': 'Finding'},\n",
       "    'match': {'start': 823,\n",
       "     'end': 830,\n",
       "     'text': 'several',\n",
       "     'found_as': 'severa',\n",
       "     'fuzzy_score': 85},\n",
       "    'characteristics': {'context': {'past': {'Not past': 0.7924166321754456},\n",
       "      'future': {'Not future': 0.8313935399055481},\n",
       "      'cert': {'Certain': 0.7452759146690369},\n",
       "      'neg': {'Positive': 0.7554291486740112}},\n",
       "     'from_gazetteer': True},\n",
       "    'id': 18},\n",
       "   {'code': {'omop_cdm': [4216457]},\n",
       "    'type': {'umls': 'Organ or Tissue Function', 'iomed': 'Phenomenon'},\n",
       "    'match': {'start': 868, 'end': 870, 'text': 'to', 'found_as': 'to'},\n",
       "    'characteristics': {'context': {'past': {'Not past': 0.7527608871459961},\n",
       "      'future': {'Not future': 0.7913956642150879},\n",
       "      'cert': {'Certain': 0.8722290396690369},\n",
       "      'neg': {'Positive': 0.7337489128112793}},\n",
       "     'from_gazetteer': True},\n",
       "    'id': 19},\n",
       "   {'code': {'omop_cdm': [4077689]},\n",
       "    'type': {'iomed': 'Quantitative Concept', 'umls': 'Quantitative Concept'},\n",
       "    'match': {'start': 887, 'end': 890, 'text': '30°', 'found_as': '30°'},\n",
       "    'characteristics': {'context': {'past': {'Not past': 0.8156270384788513},\n",
       "      'future': {'Not future': 0.8277404308319092},\n",
       "      'cert': {'Certain': 0.641491174697876},\n",
       "      'neg': {'Positive': 0.667011559009552}},\n",
       "     'quantity': {'units': 'degree',\n",
       "      'magnitude': 30,\n",
       "      'base_units': 'radian',\n",
       "      'magnitude_base_units': 0.5235987755982988,\n",
       "      'ucum_units': 'rad',\n",
       "      'ucum_concept_id': 9636,\n",
       "      'magnitude_ucum_units': 0.5235987755982988}},\n",
       "    'id': 20},\n",
       "   {'code': {'omop_cdm': [375738, 377788]},\n",
       "    'type': {'umls': 'Disease or Syndrome', 'iomed': 'Disease or Syndrome'},\n",
       "    'match': {'start': 927,\n",
       "     'end': 934,\n",
       "     'text': 'paretic',\n",
       "     'found_as': 'paretica',\n",
       "     'fuzzy_score': 87},\n",
       "    'characteristics': {'context': {'past': {'Not past': 0.7843869924545288},\n",
       "      'future': {'Not future': 0.7882122993469238},\n",
       "      'cert': {'Certain': 0.7688080072402954},\n",
       "      'neg': {'Positive': 0.7633672952651978}},\n",
       "     'from_gazetteer': True},\n",
       "    'id': 21}],\n",
       "  'relations': []},\n",
       " 'version': '5.2.0'}"
      ]
     },
     "execution_count": 31,
     "metadata": {},
     "output_type": "execute_result"
    }
   ],
   "source": [
    "resp.json()"
   ]
  },
  {
   "cell_type": "code",
   "execution_count": null,
   "id": "1eda6921",
   "metadata": {},
   "outputs": [],
   "source": [
    "\n",
    "\n",
    "\n",
    "return res['data']"
   ]
  },
  {
   "cell_type": "code",
   "execution_count": 7,
   "id": "8b6e2c28",
   "metadata": {},
   "outputs": [],
   "source": [
    "\n",
    "def query_ixchel(query, language='es', apikey = 'Y03Xnr78PCEAldPoZFVKHHE35sMyLVx5iqx52ARF'):\n",
    "    url = f'https://ixchel-{language}.production.iomed.health/analyze'\n",
    "\n",
    "    headers = {'apikey': apikey,\n",
    "                'X-Consumer-ID': 'iomed-cli',\n",
    "                'Access-Method': 'iomed-cli'}\n",
    "\n",
    "    resp = requests.post(url, headers=headers, json={\"text\":query})\n",
    "\n",
    "    res = resp.json()\n",
    "\n",
    "    return res['data']"
   ]
  },
  {
   "cell_type": "code",
   "execution_count": 16,
   "id": "79c69ab3",
   "metadata": {},
   "outputs": [],
   "source": [
    "texto = 'me duele mucho el codo del brazo derecho desde ayer'"
   ]
  },
  {
   "cell_type": "code",
   "execution_count": 103,
   "id": "936b5dd5",
   "metadata": {},
   "outputs": [],
   "source": [
    "texto ='''Presenta dolor desde ayer en el hemiabdomen izquierdo de seis horas de duración que no cede con ibuprofeno adenocarcinoma de pulmón 1000 grados'''"
   ]
  },
  {
   "cell_type": "code",
   "execution_count": 26,
   "id": "0e82e6d3",
   "metadata": {},
   "outputs": [],
   "source": [
    "texto = '''\n",
    "A 61-year-old white woman was evaluated who complained of loss of balance that was slowly progressive over 3 years. On examination, corrected visual acuity was 20/20 OU. Pupils were equal and briskly reactive with no afferent pupillary defect. Confrontation visual fields were full bilaterally and color vision was minimally depressed. Ocular motility showed a small, intermittent esotropia of 6 prism diopters at distance and an exophoria of 6 prism diopters at near. In center gaze, there were frequent, small amplitude, horizontal square-wave jerks. The range of extraocular movements was full and saccades were normal; smooth pursuit was impaired more to the left than to the right. Vestibular nystagmus was not normally suppressed by fixation. In40° of right gaze,there was a right-beating gaze paretic nystagmus with several beats of rebound nystagmus on return to center gaze. In 30° of left\n",
    "gaze, there was also a gaze paretic nystagmus with an associated rebound nystagmus. Results of slit lamp examination were normal except visually insignificant nuclear sclerotic cataracts. Results of the ophthalmoscopic examination were also normal.\n",
    "Clinical eye movement studies were performed using electro-oculography. Results confirmed the presence of square-wave jerks, gaze paretic nystagmus, rebound nystagmus, impaired smooth pursuit (Figure 1), impaired optokinetic nystagmus, and abnormal fixation suppression of vestibular nystagmus (Figure 2). These findings were consistent with abnormalities localized to the pons and/or cerebellum.\n",
    "A brain magnetic resonance imaging study with and without gadolinium was obtained showed extensive areas of increased signalfromthemiddlecerebellarpedunclesanddentate nuclei, left greater than right (Figure 3, left). There was diffuse confluent increased signal in the brach iumpont is bilaterally extending into the lateral aspect of the pons, the midbrain, and the medulla. Focal periventricularhyperintensitieswerescattered inthecerebrumwithsomedeepwhite matter hyperintensities (Figure 3, right).Thecraniocervicaljunctionand midcervical spinal cord also showed\n",
    "lesions. Areas of abnormal signal demonstrated enhancement with gadolinium. There was no midline shift or mass effect, nor was there abnormal enlargement of any structures. A differential diagnosis was established that\n",
    "included demyelinating, neoplastic, and infectious diseases. A needle biopsy of the left cerebellar peduncle was performed.\n",
    "Histopathological studies revealed hypocellular white matter with astrogliosis and deposition of numerous Rosenthal fibers (Figure 4,\n",
    "top). Immunostaining for myelin basic protein showed a moderate reduction in myelinated axons, and staining for neurofilament protein\n",
    "showed a slight reduction in the number of axonal elements. Tissue examined under the electron microscope showed extensive loss of myelinated axons that were replaced by\n",
    "strongly fibrillar astrocytic processes and Rosenthal fibers (Figure 4, bottom). Clinicopathologic correlation supported a diagnosis of\n",
    "adult-onset Alexander disease.\n",
    "'''"
   ]
  },
  {
   "cell_type": "code",
   "execution_count": 17,
   "id": "450e210b",
   "metadata": {},
   "outputs": [],
   "source": [
    "results = query_ixchel(texto, language='es')"
   ]
  },
  {
   "cell_type": "code",
   "execution_count": 18,
   "id": "14be292f",
   "metadata": {},
   "outputs": [
    {
     "data": {
      "text/plain": [
       "[{'code': {'omop_cdm': [4329041]},\n",
       "  'type': {'umls': 'Sign or Symptom', 'iomed': 'Finding'},\n",
       "  'match': {'start': 3, 'end': 8, 'text': 'duele', 'found_as': 'duele'},\n",
       "  'characteristics': {'context': {'past': {'Not past': 0.7855397462844849},\n",
       "    'future': {'Not future': 0.8101184964179993},\n",
       "    'cert': {'Certain': 0.7759464383125305},\n",
       "    'neg': {'Positive': 0.7488987445831299}},\n",
       "   'from_gazetteer': True},\n",
       "  'id': 0},\n",
       " {'code': {'omop_cdm': [4090912, 4296995, 4027910]},\n",
       "  'type': {'umls': 'Body Part, Organ, or Organ Component', 'iomed': 'Anatomy'},\n",
       "  'match': {'start': 18, 'end': 22, 'text': 'codo', 'found_as': 'codo'},\n",
       "  'characteristics': {'context': {}, 'from_gazetteer': True},\n",
       "  'id': 1},\n",
       " {'code': {'omop_cdm': [4241715, 4274743]},\n",
       "  'type': {'umls': 'Body Part, Organ, or Organ Component', 'iomed': 'Anatomy'},\n",
       "  'match': {'start': 27,\n",
       "   'end': 40,\n",
       "   'text': 'brazo derecho',\n",
       "   'found_as': 'brazo derecho'},\n",
       "  'characteristics': {'context': {}, 'from_gazetteer': True},\n",
       "  'id': 2},\n",
       " {'code': {'omop_cdm': [4260905]},\n",
       "  'type': {'umls': 'Temporal Concept', 'iomed': 'Temporal Concept'},\n",
       "  'match': {'start': 47, 'end': 51, 'text': 'ayer', 'found_as': 'ayer'},\n",
       "  'characteristics': {'context': {},\n",
       "   'date': {'iso_format': '2023-06-26T02:21:10.584711', 'precision': 'day'}},\n",
       "  'id': 3}]"
      ]
     },
     "execution_count": 18,
     "metadata": {},
     "output_type": "execute_result"
    }
   ],
   "source": [
    "results['entities']"
   ]
  },
  {
   "cell_type": "code",
   "execution_count": 21,
   "id": "4c1fecba",
   "metadata": {},
   "outputs": [
    {
     "data": {
      "text/plain": [
       "[]"
      ]
     },
     "execution_count": 21,
     "metadata": {},
     "output_type": "execute_result"
    }
   ],
   "source": [
    "results['relations']"
   ]
  },
  {
   "cell_type": "code",
   "execution_count": 41,
   "id": "3d497d68",
   "metadata": {},
   "outputs": [],
   "source": [
    "def highlight(texto, start, end):\n",
    "    return f'{texto[:start]} <b>{texto[start:end]}</b> {texto[end:]}'"
   ]
  },
  {
   "cell_type": "code",
   "execution_count": 111,
   "id": "1067c27e",
   "metadata": {},
   "outputs": [
    {
     "name": "stdout",
     "output_type": "stream",
     "text": [
      "past\n",
      "Not past (91%)\n",
      "future\n",
      "Not future (85%)\n",
      "cert\n",
      "Certain (78%)\n",
      "neg\n",
      "Positive (92%)\n",
      "medio (Spatial Concept, Spatial Concept)\n",
      "\n",
      "Presenta  <b>dolor</b>  desde ayer en el hemiabdomen izquierdo de seis horas de duración que no cede con ibuprofeno adenocarcinoma de pulmón 1000 grados\n",
      "date\n",
      "medio (Spatial Concept, Spatial Concept)\n",
      "\n",
      "Presenta dolor desde  <b>ayer</b>  en el hemiabdomen izquierdo de seis horas de duración que no cede con ibuprofeno adenocarcinoma de pulmón 1000 grados\n",
      "ayer => temporal_modifier_of => dolor\n",
      "medio (Spatial Concept, Spatial Concept)\n",
      "\n",
      "Presenta dolor desde ayer en el  <b>hemiabdomen izquierdo</b>  de seis horas de duración que no cede con ibuprofeno adenocarcinoma de pulmón 1000 grados\n",
      "hemiabdomen izquierdo => location_of => dolor\n",
      "past\n",
      "Not past (84%)\n",
      "future\n",
      "Not future (75%)\n",
      "cert\n",
      "Certain (83%)\n",
      "neg\n",
      "Positive (88%)\n",
      "medio (Spatial Concept, Spatial Concept)\n",
      "\n",
      "Presenta dolor desde ayer en el hemiabdomen izquierdo de  <b>seis</b>  horas de duración que no cede con ibuprofeno adenocarcinoma de pulmón 1000 grados\n",
      "seis => quantifier_of => horas\n",
      "quantifier\n",
      "medio (Spatial Concept, Spatial Concept)\n",
      "\n",
      "Presenta dolor desde ayer en el hemiabdomen izquierdo de seis  <b>horas</b>  de duración que no cede con ibuprofeno adenocarcinoma de pulmón 1000 grados\n",
      "medio (Spatial Concept, Spatial Concept)\n",
      "\n",
      "Presenta dolor desde ayer en el hemiabdomen izquierdo de seis horas de  <b>duración</b>  que no cede con ibuprofeno adenocarcinoma de pulmón 1000 grados\n",
      "past\n",
      "Not past (71%)\n",
      "future\n",
      "Not future (93%)\n",
      "cert\n",
      "Certain (87%)\n",
      "neg\n",
      "Positive (86%)\n",
      "treatment_temporality\n",
      "treatment_ongoing (46%)\n",
      "reason_for_disc\n",
      "medio (Spatial Concept, Spatial Concept)\n",
      "\n",
      "Presenta dolor desde ayer en el hemiabdomen izquierdo de seis horas de duración que no cede con  <b>ibuprofeno</b>  adenocarcinoma de pulmón 1000 grados\n",
      "past\n",
      "Not past (76%)\n",
      "future\n",
      "Not future (87%)\n",
      "cert\n",
      "Certain (94%)\n",
      "neg\n",
      "Positive (89%)\n",
      "qualifier\n",
      "medio (Spatial Concept, Spatial Concept)\n",
      "\n",
      "Presenta dolor desde ayer en el hemiabdomen izquierdo de seis horas de duración que no cede con ibuprofeno  <b>adenocarcinoma de pulmón</b>  1000 grados\n",
      "quantity\n",
      "past\n",
      "Past (72%)\n",
      "future\n",
      "Not future (75%)\n",
      "cert\n",
      "Certain (88%)\n",
      "neg\n",
      "Positive (85%)\n",
      "medio (Spatial Concept, Spatial Concept)\n",
      "\n",
      "Presenta dolor desde ayer en el hemiabdomen izquierdo de seis horas de duración que no cede con ibuprofeno adenocarcinoma de pulmón  <b>1000</b>  grados\n",
      "1000 => qualifier_of => adenocarcinoma de pulmón\n",
      "past\n",
      "Not past (67%)\n",
      "future\n",
      "Not future (75%)\n",
      "cert\n",
      "Certain (85%)\n",
      "neg\n",
      "Positive (80%)\n",
      "medio (Spatial Concept, Spatial Concept)\n",
      "\n",
      "Presenta dolor desde ayer en el hemiabdomen izquierdo de seis horas de duración que no cede con ibuprofeno adenocarcinoma de pulmón 1000  <b>grados</b> \n"
     ]
    }
   ],
   "source": [
    "cards = []\n",
    "\n",
    "for ent in results['entities']:\n",
    "    card = {}\n",
    "    card['text'] = highlight(texto, ent['match']['start'], ent['match']['end'])\n",
    "    card['entity_text'] = ent['match']['found_as']\n",
    "    card['entity_type'] = ', '.join([n for t,n in  ent['type'].items()])\n",
    "    card['labels'] = []\n",
    "\n",
    "    for name, e in ent['characteristics'].items():\n",
    "        print(name)\n",
    "        if name in ('past', 'future', 'cert', 'neg', 'treatment_temporality'):\n",
    "            for l,p in e.items():\n",
    "                print(f'{l} ({p:.0%})')\n",
    "                card['labels'].append(f'{l} ({p:.0%})')\n",
    "            \n",
    "        elif name == 'quantifier':\n",
    "\n",
    "            card['labels'].append(f\"Quantifier ({e['match']['found_as']})\")\n",
    "        elif name in ('quantity', 'date'):\n",
    "            for l,p in e.items():\n",
    "                card['labels'].append(f'{name}.{l} = {p}')\n",
    "        \n",
    "            \n",
    "    print(f'{entity_text} ({entity_type})' )\n",
    "    print(highlight(texto, ent['match']['start'], ent['match']['end']))\n",
    "    card['relations'] = []\n",
    "    for rel in extract(results['relations'], 'from', ent['id']):\n",
    "        print(extract_relation(results['entities'], rel))\n",
    "        card['relations'].append(extract_relation(results['entities'], rel))\n",
    "    \n",
    "    cards.append(card)"
   ]
  },
  {
   "cell_type": "code",
   "execution_count": 112,
   "id": "27a9ba02",
   "metadata": {},
   "outputs": [
    {
     "data": {
      "text/plain": [
       "[{'text': '\\nPresenta  <b>dolor</b>  desde ayer en el hemiabdomen izquierdo de seis horas de duración que no cede con ibuprofeno adenocarcinoma de pulmón 1000 grados',\n",
       "  'entity_text': 'dolor',\n",
       "  'entity_type': 'Sign or Symptom, Finding',\n",
       "  'labels': ['Not past (91%)',\n",
       "   'Not future (85%)',\n",
       "   'Certain (78%)',\n",
       "   'Positive (92%)'],\n",
       "  'relations': []},\n",
       " {'text': '\\nPresenta dolor desde  <b>ayer</b>  en el hemiabdomen izquierdo de seis horas de duración que no cede con ibuprofeno adenocarcinoma de pulmón 1000 grados',\n",
       "  'entity_text': 'ayer',\n",
       "  'entity_type': 'Temporal Concept, Temporal Concept',\n",
       "  'labels': ['date.iso_format = 2022-09-21T05:21:30.627165',\n",
       "   'date.precision = day'],\n",
       "  'relations': ['ayer => temporal_modifier_of => dolor']},\n",
       " {'text': '\\nPresenta dolor desde ayer en el  <b>hemiabdomen izquierdo</b>  de seis horas de duración que no cede con ibuprofeno adenocarcinoma de pulmón 1000 grados',\n",
       "  'entity_text': 'hemiabdomen izquierdo',\n",
       "  'entity_type': 'Anatomical Structure, Anatomy',\n",
       "  'labels': [],\n",
       "  'relations': ['hemiabdomen izquierdo => location_of => dolor']},\n",
       " {'text': '\\nPresenta dolor desde ayer en el hemiabdomen izquierdo de  <b>seis</b>  horas de duración que no cede con ibuprofeno adenocarcinoma de pulmón 1000 grados',\n",
       "  'entity_text': 'seis',\n",
       "  'entity_type': 'Quantitative Concept, Quantitative Concept',\n",
       "  'labels': ['Not past (84%)',\n",
       "   'Not future (75%)',\n",
       "   'Certain (83%)',\n",
       "   'Positive (88%)'],\n",
       "  'relations': ['seis => quantifier_of => horas']},\n",
       " {'text': '\\nPresenta dolor desde ayer en el hemiabdomen izquierdo de seis  <b>horas</b>  de duración que no cede con ibuprofeno adenocarcinoma de pulmón 1000 grados',\n",
       "  'entity_text': 'horas',\n",
       "  'entity_type': 'Temporal Concept, Temporal Concept',\n",
       "  'labels': ['Quantifier (seis)'],\n",
       "  'relations': []},\n",
       " {'text': '\\nPresenta dolor desde ayer en el hemiabdomen izquierdo de seis horas de  <b>duración</b>  que no cede con ibuprofeno adenocarcinoma de pulmón 1000 grados',\n",
       "  'entity_text': 'duración',\n",
       "  'entity_type': 'Temporal Concept, Temporal Concept',\n",
       "  'labels': [],\n",
       "  'relations': []},\n",
       " {'text': '\\nPresenta dolor desde ayer en el hemiabdomen izquierdo de seis horas de duración que no cede con  <b>ibuprofeno</b>  adenocarcinoma de pulmón 1000 grados',\n",
       "  'entity_text': 'ibuprofeno',\n",
       "  'entity_type': 'Pharmacologic Substance, Substance',\n",
       "  'labels': ['Not past (71%)',\n",
       "   'Not future (93%)',\n",
       "   'Certain (87%)',\n",
       "   'Positive (86%)',\n",
       "   'treatment_ongoing (46%)'],\n",
       "  'relations': []},\n",
       " {'text': '\\nPresenta dolor desde ayer en el hemiabdomen izquierdo de seis horas de duración que no cede con ibuprofeno  <b>adenocarcinoma de pulmón</b>  1000 grados',\n",
       "  'entity_text': 'adenocarcinoma de pulmón',\n",
       "  'entity_type': 'Neoplastic Process, Disease or Syndrome',\n",
       "  'labels': ['Not past (76%)',\n",
       "   'Not future (87%)',\n",
       "   'Certain (94%)',\n",
       "   'Positive (89%)'],\n",
       "  'relations': []},\n",
       " {'text': '\\nPresenta dolor desde ayer en el hemiabdomen izquierdo de seis horas de duración que no cede con ibuprofeno adenocarcinoma de pulmón  <b>1000</b>  grados',\n",
       "  'entity_text': '1000',\n",
       "  'entity_type': 'Quantitative Concept, Quantitative Concept',\n",
       "  'labels': ['quantity.units = dimensionless',\n",
       "   'quantity.magnitude = 1000',\n",
       "   'quantity.base_units = dimensionless',\n",
       "   'quantity.magnitude_base_units = 1000',\n",
       "   \"quantity.ucum_units = [arb'U]\",\n",
       "   'quantity.ucum_concept_id = 9260',\n",
       "   'quantity.magnitude_ucum_units = 1000',\n",
       "   'Past (72%)',\n",
       "   'Not future (75%)',\n",
       "   'Certain (88%)',\n",
       "   'Positive (85%)'],\n",
       "  'relations': ['1000 => qualifier_of => adenocarcinoma de pulmón']},\n",
       " {'text': '\\nPresenta dolor desde ayer en el hemiabdomen izquierdo de seis horas de duración que no cede con ibuprofeno adenocarcinoma de pulmón 1000  <b>grados</b> ',\n",
       "  'entity_text': 'grados',\n",
       "  'entity_type': 'Quantitative Concept, Quantitative Concept',\n",
       "  'labels': ['Not past (67%)',\n",
       "   'Not future (75%)',\n",
       "   'Certain (85%)',\n",
       "   'Positive (80%)'],\n",
       "  'relations': []}]"
      ]
     },
     "execution_count": 112,
     "metadata": {},
     "output_type": "execute_result"
    }
   ],
   "source": [
    "cards"
   ]
  },
  {
   "cell_type": "code",
   "execution_count": 113,
   "id": "a3e6c63a",
   "metadata": {},
   "outputs": [
    {
     "data": {
      "text/plain": [
       "[{'from': 2, 'to': 0, 'rel': 'location_of'},\n",
       " {'from': 3, 'to': 4, 'rel': 'quantifier_of'},\n",
       " {'from': 8, 'to': 7, 'rel': 'qualifier_of'},\n",
       " {'from': 1, 'to': 0, 'rel': 'temporal_modifier_of'}]"
      ]
     },
     "execution_count": 113,
     "metadata": {},
     "output_type": "execute_result"
    }
   ],
   "source": [
    "results['relations']"
   ]
  },
  {
   "cell_type": "code",
   "execution_count": 72,
   "id": "90d187d6",
   "metadata": {},
   "outputs": [],
   "source": [
    "def extract_first(obj, field, val):\n",
    "    return extract(obj, field, val)[0]"
   ]
  },
  {
   "cell_type": "code",
   "execution_count": 69,
   "id": "99d6111f",
   "metadata": {},
   "outputs": [],
   "source": [
    "def extract(obj, field, val):\n",
    "    return [res for res in obj if res[field] == val]"
   ]
  },
  {
   "cell_type": "code",
   "execution_count": 73,
   "id": "9547c84c",
   "metadata": {},
   "outputs": [],
   "source": [
    "def extract_relation(entities, rel):\n",
    "    ent1 = extract_first(entities,'id',rel['from'])\n",
    "    ent2 = extract_first(entities,'id',rel['to'])\n",
    "    \n",
    "    return f\"{ent1['match']['found_as']} => {rel['rel']} => {ent2['match']['found_as']}\""
   ]
  },
  {
   "cell_type": "code",
   "execution_count": 75,
   "id": "8c57771b",
   "metadata": {},
   "outputs": [
    {
     "data": {
      "text/plain": [
       "[{'from': 7, 'to': 5, 'rel': 'quantifier_of'},\n",
       " {'from': 7, 'to': 6, 'rel': 'qualifier_of'}]"
      ]
     },
     "execution_count": 75,
     "metadata": {},
     "output_type": "execute_result"
    }
   ],
   "source": [
    "extract(results['relations'], 'from', 7)"
   ]
  },
  {
   "cell_type": "code",
   "execution_count": 68,
   "id": "dee3a1b4",
   "metadata": {},
   "outputs": [
    {
     "name": "stdout",
     "output_type": "stream",
     "text": [
      "hemiabdomen izquierdo => location_of => dolor\n",
      "seis => quantifier_of => horas\n",
      "1000 => quantifier_of => ibuprofeno\n",
      "1000 => qualifier_of => adenocarcinoma de pulmón\n"
     ]
    }
   ],
   "source": [
    "for rel in results['relations']:\n",
    "    print(extract_relation(results['entities'], rel))"
   ]
  },
  {
   "cell_type": "code",
   "execution_count": 79,
   "id": "9c32695e",
   "metadata": {},
   "outputs": [
    {
     "name": "stdout",
     "output_type": "stream",
     "text": [
      "1000 => quantifier_of => ibuprofeno\n",
      "1000 => qualifier_of => adenocarcinoma de pulmón\n"
     ]
    }
   ],
   "source": [
    "for rel in extract(results['relations'], 'from', 7):\n",
    "    print(extract_relation(results['entities'], rel))"
   ]
  },
  {
   "cell_type": "code",
   "execution_count": 66,
   "id": "1328aecd",
   "metadata": {},
   "outputs": [
    {
     "data": {
      "text/plain": [
       "'hemiabdomen izquierdo'"
      ]
     },
     "execution_count": 66,
     "metadata": {},
     "output_type": "execute_result"
    }
   ],
   "source": [
    "extract(results['entities'],'id',1)"
   ]
  },
  {
   "cell_type": "code",
   "execution_count": null,
   "id": "03f7e64f",
   "metadata": {},
   "outputs": [],
   "source": [
    "<p>This is the initial <span style=\"color: #e03e2d;\"><strong>content</strong></span> of the editor</p>\n",
    "<p>&nbsp;</p>\n",
    "<p><strong>dskdjlksjd</strong></p>\n",
    "<ul>\n",
    "<li>ldksdlksjd</li>\n",
    "<li>jsdkjsdjks</li>\n",
    "</ul>"
   ]
  },
  {
   "cell_type": "code",
   "execution_count": 76,
   "id": "bdace9d5",
   "metadata": {},
   "outputs": [],
   "source": [
    "import pickle"
   ]
  },
  {
   "cell_type": "code",
   "execution_count": 78,
   "id": "e0c91f43",
   "metadata": {},
   "outputs": [],
   "source": [
    "with open('results.p','wb') as f:\n",
    "    pickle.dump(results, f)"
   ]
  },
  {
   "cell_type": "code",
   "execution_count": null,
   "id": "adb1d9b8",
   "metadata": {},
   "outputs": [],
   "source": []
  }
 ],
 "metadata": {
  "kernelspec": {
   "display_name": "nlp",
   "language": "python",
   "name": "nlp"
  },
  "language_info": {
   "codemirror_mode": {
    "name": "ipython",
    "version": 3
   },
   "file_extension": ".py",
   "mimetype": "text/x-python",
   "name": "python",
   "nbconvert_exporter": "python",
   "pygments_lexer": "ipython3",
   "version": "3.10.6"
  }
 },
 "nbformat": 4,
 "nbformat_minor": 5
}
