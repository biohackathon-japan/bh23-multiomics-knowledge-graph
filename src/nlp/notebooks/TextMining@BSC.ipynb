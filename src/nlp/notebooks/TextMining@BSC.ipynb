{
 "cells": [
  {
   "cell_type": "code",
   "execution_count": 1,
   "id": "4a5d8147",
   "metadata": {},
   "outputs": [],
   "source": [
    "import requests\n",
    "import json\n",
    "import pandas as pd"
   ]
  },
  {
   "cell_type": "code",
   "execution_count": 6,
   "id": "c7ad7ed7",
   "metadata": {},
   "outputs": [],
   "source": [
    "import sys"
   ]
  },
  {
   "cell_type": "code",
   "execution_count": null,
   "id": "7675f7c1",
   "metadata": {},
   "outputs": [],
   "source": [
    "!{sys.executable} -m pip install tqdm"
   ]
  },
  {
   "cell_type": "code",
   "execution_count": 2,
   "id": "0b206159",
   "metadata": {},
   "outputs": [],
   "source": [
    "from http import HTTPStatus"
   ]
  },
  {
   "cell_type": "markdown",
   "id": "1df6d12c",
   "metadata": {},
   "source": [
    "## Method I"
   ]
  },
  {
   "cell_type": "code",
   "execution_count": 3,
   "id": "ec2809e8",
   "metadata": {},
   "outputs": [],
   "source": [
    "url = 'http://biomedices.encargo-pln.bsc.es/api/submit'"
   ]
  },
  {
   "cell_type": "code",
   "execution_count": 4,
   "id": "6e030d9a",
   "metadata": {},
   "outputs": [],
   "source": [
    "available_models =  ['distemist', 'cantemist', 'meddoprof', 'species', 'pharmaconer']"
   ]
  },
  {
   "cell_type": "code",
   "execution_count": 5,
   "id": "738837d6",
   "metadata": {},
   "outputs": [],
   "source": [
    "data = {\"inputText\":\"Anamnesis Varón de 17 años con antecedentes personales de trastorno de déficit de atención e hiperactividad en la infancia y obesidad en seguimiento por Servicio de Endocrinología. Estudiante de un módulo de mecánica. Antecedentes familiares: hermana con parálisis cerebral infantil ependimoma variante de células claras grado II según la Organización Mundial de la Salud (OMS). Evolución » Se realiza resección completa del tumor sin presencia de complicaciones postquirúrgicas. En RM de control no se observa presencia de focos tumorales residuales. » Su mujer era una ama de casa que por las tardes tambien enseñaba ingles a menores. Se completa estudio de extensión mediante las siguientes pruebas complementarias: » RM columna vertebral: sin presencia de lesiones tumorales. » Punción lumbar: hematíes: 0, leucocitos: 20 con 65 % de linfocitos, glucosa de 52 mg/dl, Proteínas de 48 mg/dl.» Se comenta el caso en comité multidisciplinar, decidiéndose la no realización de tratamiento radioterápico complementario. Durante su seguimiento, el paciente no ha presentado nuevas recidivas tumorales. Como secuela permanente presenta amaurosis en ojo izquierdo.\",\n",
    "  \"model\":\"species\"}\n"
   ]
  },
  {
   "cell_type": "code",
   "execution_count": 45,
   "id": "c6d0f5ee",
   "metadata": {},
   "outputs": [],
   "source": [
    "resp = requests.post(url, json=data)"
   ]
  },
  {
   "cell_type": "code",
   "execution_count": 46,
   "id": "174190be",
   "metadata": {},
   "outputs": [],
   "source": [
    "if resp.ok:\n",
    "    result = resp.json()\n",
    "else:\n",
    "    print(f'Error: {resp.status_code} {HTTPStatus(502).name}')"
   ]
  },
  {
   "cell_type": "code",
   "execution_count": 47,
   "id": "d13e1506",
   "metadata": {},
   "outputs": [
    {
     "data": {
      "text/plain": [
       "{'data': {'brat': [{'class': 'HUMAN',\n",
       "    'end': 15,\n",
       "    'entity': 'Varón',\n",
       "    'id': 'T1',\n",
       "    'start': 10},\n",
       "   {'class': 'HUMAN',\n",
       "    'end': 54,\n",
       "    'entity': 'personales',\n",
       "    'id': 'T2',\n",
       "    'start': 44},\n",
       "   {'class': 'HUMAN',\n",
       "    'end': 122,\n",
       "    'entity': 'infancia',\n",
       "    'id': 'T3',\n",
       "    'start': 114},\n",
       "   {'class': 'HUMAN',\n",
       "    'end': 191,\n",
       "    'entity': 'Estudiante',\n",
       "    'id': 'T4',\n",
       "    'start': 181},\n",
       "   {'class': 'HUMAN',\n",
       "    'end': 241,\n",
       "    'entity': 'familiares',\n",
       "    'id': 'T5',\n",
       "    'start': 231},\n",
       "   {'class': 'HUMAN',\n",
       "    'end': 250,\n",
       "    'entity': 'hermana',\n",
       "    'id': 'T6',\n",
       "    'start': 243},\n",
       "   {'class': 'HUMAN', 'end': 562, 'entity': 'mujer', 'id': 'T7', 'start': 557},\n",
       "   {'class': 'HUMAN', 'end': 582, 'entity': 'ama', 'id': 'T8', 'start': 571},\n",
       "   {'class': 'HUMAN',\n",
       "    'end': 1053,\n",
       "    'entity': 'paciente',\n",
       "    'id': 'T9',\n",
       "    'start': 1045}],\n",
       "  'original_text': 'Anamnesis Varón de 17 años con antecedentes personales de trastorno de déficit de atención e hiperactividad en la infancia y obesidad en seguimiento por Servicio de Endocrinología. Estudiante de un módulo de mecánica. Antecedentes familiares: hermana con parálisis cerebral infantil ependimoma variante de células claras grado II según la Organización Mundial de la Salud (OMS). Evolución » Se realiza resección completa del tumor sin presencia de complicaciones postquirúrgicas. En RM de control no se observa presencia de focos tumorales residuales. » Su mujer era una ama de casa que por las tardes tambien enseñaba ingles a menores. Se completa estudio de extensión mediante las siguientes pruebas complementarias: » RM columna vertebral: sin presencia de lesiones tumorales. » Punción lumbar: hematíes: 0, leucocitos: 20 con 65 % de linfocitos, glucosa de 52 mg/dl, Proteínas de 48 mg/dl.» Se comenta el caso en comité multidisciplinar, decidiéndose la no realización de tratamiento radioterápico complementario. Durante su seguimiento, el paciente no ha presentado nuevas recidivas tumorales. Como secuela permanente presenta amaurosis en ojo izquierdo.',\n",
       "  'processing_time': '31.08446502685547'},\n",
       " 'message': 'Data retrieved successfully.',\n",
       " 'success': True}"
      ]
     },
     "execution_count": 47,
     "metadata": {},
     "output_type": "execute_result"
    }
   ],
   "source": [
    "result"
   ]
  },
  {
   "cell_type": "markdown",
   "id": "8234550c",
   "metadata": {},
   "source": [
    "## Method II"
   ]
  },
  {
   "cell_type": "code",
   "execution_count": 34,
   "id": "abaa5d0b",
   "metadata": {},
   "outputs": [],
   "source": [
    "url = 'https://textmining.bsc.es:8003/get_annotations'"
   ]
  },
  {
   "cell_type": "code",
   "execution_count": 35,
   "id": "4675ed73",
   "metadata": {},
   "outputs": [],
   "source": [
    "available_models = ['enfermedad','sintoma','farmaco','procedimiento','conjunto']"
   ]
  },
  {
   "cell_type": "code",
   "execution_count": 36,
   "id": "47b18611",
   "metadata": {},
   "outputs": [],
   "source": [
    "data = {\"INPUTTEXT\":\"Mujer de 59 años . Al quinto día de ingreso, se constató la normalización de la función biventricular, pero se mantuvo el dispositivo ECMO por la disnea, con hipoxemia refractaria, actualmente pendiente de progreso respiratorio.\",\n",
    "        \"MODEL\":\"enfermedad\"}\n"
   ]
  },
  {
   "cell_type": "code",
   "execution_count": 37,
   "id": "2f467b76",
   "metadata": {},
   "outputs": [],
   "source": [
    "resp = requests.post(url, json=data)"
   ]
  },
  {
   "cell_type": "code",
   "execution_count": 38,
   "id": "f7717d8c",
   "metadata": {},
   "outputs": [],
   "source": [
    "if resp.ok:\n",
    "    result = resp.json()\n",
    "else:\n",
    "    print(f'Error: {resp.status_code} {HTTPStatus(502).name}')"
   ]
  },
  {
   "cell_type": "code",
   "execution_count": 39,
   "id": "808f1fc3",
   "metadata": {},
   "outputs": [
    {
     "data": {
      "text/plain": [
       "{'INPUTTEXT': [{'A-ID': 'T1',\n",
       "   'B-TYPE': 'ENFERMEDAD',\n",
       "   'C-START': '158',\n",
       "   'D-END': '179',\n",
       "   'E-text': 'hipoxemia refractaria',\n",
       "   'F-snomed': 'NIL'}]}"
      ]
     },
     "execution_count": 39,
     "metadata": {},
     "output_type": "execute_result"
    }
   ],
   "source": [
    "result"
   ]
  },
  {
   "cell_type": "markdown",
   "id": "87e68151",
   "metadata": {},
   "source": [
    "## Method III"
   ]
  },
  {
   "cell_type": "code",
   "execution_count": 26,
   "id": "37080c0a",
   "metadata": {},
   "outputs": [],
   "source": [
    "url = 'https://textmining.bsc.es:8009/get_annotations'"
   ]
  },
  {
   "cell_type": "code",
   "execution_count": 22,
   "id": "d46c52ec",
   "metadata": {},
   "outputs": [],
   "source": [
    "available_models = ['gene', 'chemical']"
   ]
  },
  {
   "cell_type": "code",
   "execution_count": 27,
   "id": "b82dc134",
   "metadata": {},
   "outputs": [],
   "source": [
    "data = {\"INPUTTEXT\":\"Ovarian Cancer Cells Emerges mTOR and HSP27 as Targets for Sensitization Strategies.  The microenvironment possesses a strong impact on the tumor chemoresistance when cells bind to components of the extracellular matrix. Here we elucidate the signaling pathways of cisplatin resistance in W1 ovarian cancer cells binding to collagen type 1 (COL1) and signaling interference with constitutive cisplatin resistance in W1CR cells to discover the targets for sensitization. Proteome kinase arrays and Western blots were used to identify the signaling components, their impact on cisplatin resistance was evaluated by inhibitory or knockdown approaches. W1 cell binding to COL1 upregulates integrin-associated signals via FAK/PRAS40/mTOR, confirmed by β1-integrin (ITGB1) knockdown. mTOR appears as key for resistance, its blockade reversed COL1 effects on W1 cell resistance completely. W1CR cells compensate ITGB1-knockdown by upregulation of discoidin domain receptor 1 (DDR1) as alternative COL1 sensor. COL1 binding via DDR1 activates the MAPK pathway, of which JNK1/2 appears critical for COL1-mediated resistance. JNK1/2 inhibition inverts COL1 effects in W1CR cells, whereas intrinsic cisplatin resistance remained unaffected. Remarkably, knockdown of HSP27, another downstream MAPK pathway component overcomes intrinsic resistance completely sensitizing W1CR cells to the level of W1 cells for cisplatin cytotoxicity. Our data confirm the independent regulation of matrix-induced and intrinsic chemoresistance in W1 ovarian cancer cells and offer novel targets for sensitization.\",\n",
    "        \"MODEL\":\"gene\"}\n",
    "\n"
   ]
  },
  {
   "cell_type": "code",
   "execution_count": 31,
   "id": "3c68abe2",
   "metadata": {},
   "outputs": [],
   "source": [
    "resp = requests.post(url, json=data)"
   ]
  },
  {
   "cell_type": "code",
   "execution_count": 32,
   "id": "930f628b",
   "metadata": {},
   "outputs": [],
   "source": [
    "if resp.ok:\n",
    "    result = resp.json()\n",
    "else:\n",
    "    print(f'Error: {resp.status_code} {HTTPStatus(502).name}')"
   ]
  },
  {
   "cell_type": "code",
   "execution_count": 33,
   "id": "6c44102a",
   "metadata": {},
   "outputs": [
    {
     "data": {
      "text/plain": [
       "[{'end': 33, 'start': 29, 'text': 'mTOR', 'type': 'GENE'},\n",
       " {'end': 43, 'start': 38, 'text': 'HSP27', 'type': 'GENE'},\n",
       " {'end': 339, 'start': 324, 'text': 'collagen type 1', 'type': 'GENE'},\n",
       " {'end': 345, 'start': 341, 'text': 'COL1', 'type': 'GENE'},\n",
       " {'end': 672, 'start': 668, 'text': 'COL1', 'type': 'GENE'},\n",
       " {'end': 693, 'start': 685, 'text': 'integrin', 'type': 'GENE'},\n",
       " {'end': 720, 'start': 717, 'text': 'FAK', 'type': 'GENE'},\n",
       " {'end': 727, 'start': 721, 'text': 'PRAS40', 'type': 'GENE'},\n",
       " {'end': 732, 'start': 728, 'text': 'mTOR', 'type': 'GENE'},\n",
       " {'end': 758, 'start': 747, 'text': 'β1-integrin', 'type': 'GENE'},\n",
       " {'end': 765, 'start': 760, 'text': 'ITGB1', 'type': 'GENE'},\n",
       " {'end': 782, 'start': 778, 'text': 'mTOR', 'type': 'GENE'},\n",
       " {'end': 840, 'start': 836, 'text': 'COL1', 'type': 'GENE'},\n",
       " {'end': 910, 'start': 905, 'text': 'ITGB1', 'type': 'GENE'},\n",
       " {'end': 967,\n",
       "  'start': 940,\n",
       "  'text': 'discoidin domain receptor 1',\n",
       "  'type': 'GENE'},\n",
       " {'end': 973, 'start': 969, 'text': 'DDR1', 'type': 'GENE'},\n",
       " {'end': 994, 'start': 990, 'text': 'COL1', 'type': 'GENE'},\n",
       " {'end': 1007, 'start': 1003, 'text': 'COL1', 'type': 'GENE'},\n",
       " {'end': 1024, 'start': 1020, 'text': 'DDR1', 'type': 'GENE'},\n",
       " {'end': 1043, 'start': 1039, 'text': 'MAPK', 'type': 'GENE'},\n",
       " {'end': 1068, 'start': 1062, 'text': 'JNK1/2', 'type': 'GENE'},\n",
       " {'end': 1094, 'start': 1090, 'text': 'COL1', 'type': 'GENE'},\n",
       " {'end': 1122, 'start': 1116, 'text': 'JNK1/2', 'type': 'GENE'},\n",
       " {'end': 1146, 'start': 1142, 'text': 'COL1', 'type': 'GENE'},\n",
       " {'end': 1260, 'start': 1255, 'text': 'HSP27', 'type': 'GENE'},\n",
       " {'end': 1285, 'start': 1281, 'text': 'MAPK', 'type': 'GENE'}]"
      ]
     },
     "execution_count": 33,
     "metadata": {},
     "output_type": "execute_result"
    }
   ],
   "source": [
    "result"
   ]
  },
  {
   "cell_type": "code",
   "execution_count": 88,
   "id": "b9172b3a",
   "metadata": {},
   "outputs": [],
   "source": [
    "class TextMining():\n",
    "    def __init__(self, url, available_models):\n",
    "        self.url = url\n",
    "        self.models = available_models\n",
    "        \n",
    "    def process(self, text):\n",
    "        return result\n",
    "        \n",
    "    def extract(self, text, model):\n",
    "        \n",
    "        if model not in self.models:\n",
    "            error_message = f'{model} not defined! Available models are {\",\".join(self.models)}'\n",
    "            raise(Exception(error_message))\n",
    "\n",
    "        data = {\n",
    "                \"INPUTTEXT\":text,\n",
    "                \"MODEL\":model\n",
    "               }\n",
    "        resp = requests.post(self.url, json=data)\n",
    "        if resp.ok:\n",
    "            result = resp.json()\n",
    "            return self.process(result)\n",
    "        else:\n",
    "            error_message = f'Error: {resp.status_code} {HTTPStatus(resp.status_code).name}'\n",
    "            # print(error_message)\n",
    "            raise(Exception(error_message))\n",
    "            \n",
    "    def annotate(self, text):\n",
    "        annotations = []\n",
    "        for model in self.models:\n",
    "            res = self.extract(text, model)\n",
    "            annotations.extend(res)\n",
    "        return annotations\n",
    "            "
   ]
  },
  {
   "cell_type": "code",
   "execution_count": 89,
   "id": "fc796229",
   "metadata": {},
   "outputs": [],
   "source": [
    "class TextMining1(TextMining):\n",
    "    def __init__(self, url='http://biomedices.encargo-pln.bsc.es/api/submit', available_models =  ['distemist', 'cantemist', 'meddoprof', 'species', 'pharmaconer']):\n",
    "        super().__init__(url, available_models)\n",
    "\n",
    "    def processs(result):\n",
    "        \n",
    "        res = [\n",
    "               {'start':r['start'],\n",
    "                'end':r['end'],\n",
    "                'match': r['text'],\n",
    "                'entity': r['class'],\n",
    "                'id': r['id']\n",
    "               }\n",
    "               for r in result['data']['brat']]\n",
    "        return res\n",
    "        "
   ]
  },
  {
   "cell_type": "raw",
   "id": "9755218a",
   "metadata": {},
   "source": [
    "'INPUTTEXT': [{ 'A-ID': 'T1',\n",
    "                'B-TYPE': 'ENFERMEDAD',\n",
    "                'C-START': '158',\n",
    "                'D-END': '179',\n",
    "                'E-text': 'hipoxemia refractaria',\n",
    "                'F-snomed': 'NIL'}]}"
   ]
  },
  {
   "cell_type": "code",
   "execution_count": 90,
   "id": "765af5d8",
   "metadata": {},
   "outputs": [],
   "source": [
    "class TextMining2(TextMining):\n",
    "    def __init__(self, url='https://textmining.bsc.es:8003/get_annotations', \n",
    "                 available_models =  ['enfermedad','sintoma','farmaco','procedimiento','conjunto']):\n",
    "        super().__init__(url, available_models)\n",
    "\n",
    "    def processs(result):\n",
    "\n",
    "        res = [{'start':r['C-START'],\n",
    "                'end':r['D-END'],\n",
    "                'match': r['E-text'],\n",
    "                'entity': r['B-TYPE'],\n",
    "                'id': r['A-ID'],\n",
    "                'code': r['F-SNOMED'],\n",
    "                'vocabulary': 'SNOMED'\n",
    "               } for r in result['INPUTTEXT']]\n",
    "        return res\n",
    "        "
   ]
  },
  {
   "cell_type": "raw",
   "id": "7a840e69",
   "metadata": {},
   "source": [
    "{'end': 33, 'start': 29, 'text': 'mTOR', 'type': 'GENE'}"
   ]
  },
  {
   "cell_type": "code",
   "execution_count": 91,
   "id": "be1eb3a3",
   "metadata": {},
   "outputs": [],
   "source": [
    "class TextMining3(TextMining):\n",
    "    def __init__(self, url='https://textmining.bsc.es:8009/get_annotations', \n",
    "                 available_models =  ['gene', 'chemical']):\n",
    "        super().__init__(url, available_models)\n",
    "\n",
    "    def processs(result):\n",
    "\n",
    "        res = [{'start':r['start'],\n",
    "                'end':r['end'],\n",
    "                'entity': r['type'],\n",
    "                'match': r['text'],\n",
    "                'id': i\n",
    "               } for i, r in enumerate(result)]\n",
    "        return res"
   ]
  },
  {
   "cell_type": "code",
   "execution_count": 92,
   "id": "68744c15",
   "metadata": {},
   "outputs": [],
   "source": [
    "texto ='''Anamnesis \n",
    "Varón de 17 años con antecedentes personales de trastorno de déficit \n",
    " de atención e hiperactividad en la infancia y obesidad en seguimiento por Servicio de \n",
    " Endocrinología. Estudiante de un módulo de mecánica. \n",
    " Antecedentes familiares: hermana con parálisis cerebral infantil ependimoma \n",
    " variante de células claras grado II según la Organización Mundial de la Salud (OMS). \n",
    " Evolución \n",
    " Se realiza resección completa del tumor sin presencia de complicaciones postquirúrgicas. \n",
    " En RM de control no se observa presencia de focos tumorales residuales. \n",
    " Su mujer era una ama de casa que por las tardes tambien enseñaba ingles a menores. \n",
    " Se completa estudio de extensión mediante las siguientes pruebas complementarias: \n",
    " RM columna vertebral: sin presencia de lesiones tumorales. \n",
    " Punción lumbar: \n",
    "  - hematíes: 0\n",
    "  - leucocitos: 20 con 65 % de linfocitos\n",
    "  - glucosa de 52 mg/dl, Proteínas de 48 mg/dl.\n",
    "  Se comenta el caso en comité multidisciplinar, decidiéndose la no realización \n",
    "  de tratamiento radioterápico complementario. Durante su seguimiento, el paciente \n",
    "  no ha presentado nuevas recidivas tumorales. Como secuela permanente presenta \n",
    "  amaurosis en ojo izquierdo.\n",
    "  '''"
   ]
  },
  {
   "cell_type": "code",
   "execution_count": 98,
   "id": "4b84552f",
   "metadata": {},
   "outputs": [],
   "source": [
    "tm = TextMining3()"
   ]
  },
  {
   "cell_type": "code",
   "execution_count": 99,
   "id": "1c719f95",
   "metadata": {},
   "outputs": [],
   "source": [
    "ann = tm.annotate(texto)"
   ]
  },
  {
   "cell_type": "code",
   "execution_count": 100,
   "id": "b7b2c0e7",
   "metadata": {},
   "outputs": [
    {
     "data": {
      "text/plain": [
       "['data', 'message', 'success', 'data', 'message', 'success']"
      ]
     },
     "execution_count": 100,
     "metadata": {},
     "output_type": "execute_result"
    }
   ],
   "source": [
    "ann"
   ]
  },
  {
   "cell_type": "markdown",
   "id": "909678ae",
   "metadata": {},
   "source": [
    "## IOMED"
   ]
  },
  {
   "cell_type": "code",
   "execution_count": null,
   "id": "f7a906cf",
   "metadata": {},
   "outputs": [],
   "source": []
  },
  {
   "cell_type": "markdown",
   "id": "8d541e66",
   "metadata": {},
   "source": [
    "## Ensembl DB"
   ]
  },
  {
   "cell_type": "code",
   "execution_count": 17,
   "id": "2eec3db6",
   "metadata": {},
   "outputs": [],
   "source": [
    "import pandas as pd\n",
    "from sqlalchemy import create_engine"
   ]
  },
  {
   "cell_type": "code",
   "execution_count": 18,
   "id": "bb5b4a83",
   "metadata": {},
   "outputs": [],
   "source": [
    "import MySQLdb"
   ]
  },
  {
   "cell_type": "code",
   "execution_count": 19,
   "id": "8564750b",
   "metadata": {},
   "outputs": [],
   "source": [
    "import MySQLdb.cursors"
   ]
  },
  {
   "cell_type": "code",
   "execution_count": 11,
   "id": "2cbef6bb",
   "metadata": {},
   "outputs": [],
   "source": [
    "engine = create_engine(\n",
    "        \"mysql://anonymous@ensembldb.ensembl.org/homo_sapiens_core_75_37\"\n",
    "    )"
   ]
  },
  {
   "cell_type": "code",
   "execution_count": 24,
   "id": "f129694a",
   "metadata": {},
   "outputs": [],
   "source": [
    "db_url = \"mysql://anonymous@ensembldb.ensembl.org/homo_sapiens_core_75_37\""
   ]
  },
  {
   "cell_type": "code",
   "execution_count": 25,
   "id": "95dc3358",
   "metadata": {},
   "outputs": [],
   "source": [
    "#streaming\n",
    "stream_engine = create_engine(db_url, connect_args={'cursorclass': MySQLdb.cursors.SSCursor})\n"
   ]
  },
  {
   "cell_type": "code",
   "execution_count": 27,
   "id": "f7f0cb60",
   "metadata": {},
   "outputs": [],
   "source": [
    "conn = stream_engine.connect()"
   ]
  },
  {
   "cell_type": "code",
   "execution_count": null,
   "id": "fc9eed4f",
   "metadata": {},
   "outputs": [],
   "source": []
  },
  {
   "cell_type": "code",
   "execution_count": 29,
   "id": "5b2c67e3",
   "metadata": {},
   "outputs": [
    {
     "ename": "ObjectNotExecutableError",
     "evalue": "Not an executable object: \"SELECT count(*) FROM gene where status='KNOWN'\"",
     "output_type": "error",
     "traceback": [
      "\u001b[0;31m---------------------------------------------------------------------------\u001b[0m",
      "\u001b[0;31mAttributeError\u001b[0m                            Traceback (most recent call last)",
      "File \u001b[0;32m~/BSC/code/environments/nlp/lib/python3.10/site-packages/sqlalchemy/engine/base.py:1409\u001b[0m, in \u001b[0;36mConnection.execute\u001b[0;34m(self, statement, parameters, execution_options)\u001b[0m\n\u001b[1;32m   1408\u001b[0m \u001b[38;5;28;01mtry\u001b[39;00m:\n\u001b[0;32m-> 1409\u001b[0m     meth \u001b[38;5;241m=\u001b[39m \u001b[43mstatement\u001b[49m\u001b[38;5;241;43m.\u001b[39;49m\u001b[43m_execute_on_connection\u001b[49m\n\u001b[1;32m   1410\u001b[0m \u001b[38;5;28;01mexcept\u001b[39;00m \u001b[38;5;167;01mAttributeError\u001b[39;00m \u001b[38;5;28;01mas\u001b[39;00m err:\n",
      "\u001b[0;31mAttributeError\u001b[0m: 'str' object has no attribute '_execute_on_connection'",
      "\nThe above exception was the direct cause of the following exception:\n",
      "\u001b[0;31mObjectNotExecutableError\u001b[0m                  Traceback (most recent call last)",
      "File \u001b[0;32m<timed eval>:1\u001b[0m\n",
      "File \u001b[0;32m~/BSC/code/environments/nlp/lib/python3.10/site-packages/pandas/io/sql.py:590\u001b[0m, in \u001b[0;36mread_sql\u001b[0;34m(sql, con, index_col, coerce_float, params, parse_dates, columns, chunksize)\u001b[0m\n\u001b[1;32m    581\u001b[0m     \u001b[38;5;28;01mreturn\u001b[39;00m pandas_sql\u001b[38;5;241m.\u001b[39mread_table(\n\u001b[1;32m    582\u001b[0m         sql,\n\u001b[1;32m    583\u001b[0m         index_col\u001b[38;5;241m=\u001b[39mindex_col,\n\u001b[0;32m   (...)\u001b[0m\n\u001b[1;32m    587\u001b[0m         chunksize\u001b[38;5;241m=\u001b[39mchunksize,\n\u001b[1;32m    588\u001b[0m     )\n\u001b[1;32m    589\u001b[0m \u001b[38;5;28;01melse\u001b[39;00m:\n\u001b[0;32m--> 590\u001b[0m     \u001b[38;5;28;01mreturn\u001b[39;00m \u001b[43mpandas_sql\u001b[49m\u001b[38;5;241;43m.\u001b[39;49m\u001b[43mread_query\u001b[49m\u001b[43m(\u001b[49m\n\u001b[1;32m    591\u001b[0m \u001b[43m        \u001b[49m\u001b[43msql\u001b[49m\u001b[43m,\u001b[49m\n\u001b[1;32m    592\u001b[0m \u001b[43m        \u001b[49m\u001b[43mindex_col\u001b[49m\u001b[38;5;241;43m=\u001b[39;49m\u001b[43mindex_col\u001b[49m\u001b[43m,\u001b[49m\n\u001b[1;32m    593\u001b[0m \u001b[43m        \u001b[49m\u001b[43mparams\u001b[49m\u001b[38;5;241;43m=\u001b[39;49m\u001b[43mparams\u001b[49m\u001b[43m,\u001b[49m\n\u001b[1;32m    594\u001b[0m \u001b[43m        \u001b[49m\u001b[43mcoerce_float\u001b[49m\u001b[38;5;241;43m=\u001b[39;49m\u001b[43mcoerce_float\u001b[49m\u001b[43m,\u001b[49m\n\u001b[1;32m    595\u001b[0m \u001b[43m        \u001b[49m\u001b[43mparse_dates\u001b[49m\u001b[38;5;241;43m=\u001b[39;49m\u001b[43mparse_dates\u001b[49m\u001b[43m,\u001b[49m\n\u001b[1;32m    596\u001b[0m \u001b[43m        \u001b[49m\u001b[43mchunksize\u001b[49m\u001b[38;5;241;43m=\u001b[39;49m\u001b[43mchunksize\u001b[49m\u001b[43m,\u001b[49m\n\u001b[1;32m    597\u001b[0m \u001b[43m    \u001b[49m\u001b[43m)\u001b[49m\n",
      "File \u001b[0;32m~/BSC/code/environments/nlp/lib/python3.10/site-packages/pandas/io/sql.py:1560\u001b[0m, in \u001b[0;36mSQLDatabase.read_query\u001b[0;34m(self, sql, index_col, coerce_float, parse_dates, params, chunksize, dtype)\u001b[0m\n\u001b[1;32m   1512\u001b[0m \u001b[38;5;250m\u001b[39m\u001b[38;5;124;03m\"\"\"\u001b[39;00m\n\u001b[1;32m   1513\u001b[0m \u001b[38;5;124;03mRead SQL query into a DataFrame.\u001b[39;00m\n\u001b[1;32m   1514\u001b[0m \n\u001b[0;32m   (...)\u001b[0m\n\u001b[1;32m   1556\u001b[0m \n\u001b[1;32m   1557\u001b[0m \u001b[38;5;124;03m\"\"\"\u001b[39;00m\n\u001b[1;32m   1558\u001b[0m args \u001b[38;5;241m=\u001b[39m _convert_params(sql, params)\n\u001b[0;32m-> 1560\u001b[0m result \u001b[38;5;241m=\u001b[39m \u001b[38;5;28;43mself\u001b[39;49m\u001b[38;5;241;43m.\u001b[39;49m\u001b[43mexecute\u001b[49m\u001b[43m(\u001b[49m\u001b[38;5;241;43m*\u001b[39;49m\u001b[43margs\u001b[49m\u001b[43m)\u001b[49m\n\u001b[1;32m   1561\u001b[0m columns \u001b[38;5;241m=\u001b[39m result\u001b[38;5;241m.\u001b[39mkeys()\n\u001b[1;32m   1563\u001b[0m \u001b[38;5;28;01mif\u001b[39;00m chunksize \u001b[38;5;129;01mis\u001b[39;00m \u001b[38;5;129;01mnot\u001b[39;00m \u001b[38;5;28;01mNone\u001b[39;00m:\n",
      "File \u001b[0;32m~/BSC/code/environments/nlp/lib/python3.10/site-packages/pandas/io/sql.py:1405\u001b[0m, in \u001b[0;36mSQLDatabase.execute\u001b[0;34m(self, *args, **kwargs)\u001b[0m\n\u001b[1;32m   1403\u001b[0m \u001b[38;5;28;01mdef\u001b[39;00m \u001b[38;5;21mexecute\u001b[39m(\u001b[38;5;28mself\u001b[39m, \u001b[38;5;241m*\u001b[39margs, \u001b[38;5;241m*\u001b[39m\u001b[38;5;241m*\u001b[39mkwargs):\n\u001b[1;32m   1404\u001b[0m \u001b[38;5;250m    \u001b[39m\u001b[38;5;124;03m\"\"\"Simple passthrough to SQLAlchemy connectable\"\"\"\u001b[39;00m\n\u001b[0;32m-> 1405\u001b[0m     \u001b[38;5;28;01mreturn\u001b[39;00m \u001b[38;5;28;43mself\u001b[39;49m\u001b[38;5;241;43m.\u001b[39;49m\u001b[43mconnectable\u001b[49m\u001b[38;5;241;43m.\u001b[39;49m\u001b[43mexecution_options\u001b[49m\u001b[43m(\u001b[49m\u001b[43m)\u001b[49m\u001b[38;5;241;43m.\u001b[39;49m\u001b[43mexecute\u001b[49m\u001b[43m(\u001b[49m\u001b[38;5;241;43m*\u001b[39;49m\u001b[43margs\u001b[49m\u001b[43m,\u001b[49m\u001b[43m \u001b[49m\u001b[38;5;241;43m*\u001b[39;49m\u001b[38;5;241;43m*\u001b[39;49m\u001b[43mkwargs\u001b[49m\u001b[43m)\u001b[49m\n",
      "File \u001b[0;32m~/BSC/code/environments/nlp/lib/python3.10/site-packages/sqlalchemy/engine/base.py:1411\u001b[0m, in \u001b[0;36mConnection.execute\u001b[0;34m(self, statement, parameters, execution_options)\u001b[0m\n\u001b[1;32m   1409\u001b[0m     meth \u001b[38;5;241m=\u001b[39m statement\u001b[38;5;241m.\u001b[39m_execute_on_connection\n\u001b[1;32m   1410\u001b[0m \u001b[38;5;28;01mexcept\u001b[39;00m \u001b[38;5;167;01mAttributeError\u001b[39;00m \u001b[38;5;28;01mas\u001b[39;00m err:\n\u001b[0;32m-> 1411\u001b[0m     \u001b[38;5;28;01mraise\u001b[39;00m exc\u001b[38;5;241m.\u001b[39mObjectNotExecutableError(statement) \u001b[38;5;28;01mfrom\u001b[39;00m \u001b[38;5;21;01merr\u001b[39;00m\n\u001b[1;32m   1412\u001b[0m \u001b[38;5;28;01melse\u001b[39;00m:\n\u001b[1;32m   1413\u001b[0m     \u001b[38;5;28;01mreturn\u001b[39;00m meth(\n\u001b[1;32m   1414\u001b[0m         \u001b[38;5;28mself\u001b[39m,\n\u001b[1;32m   1415\u001b[0m         distilled_parameters,\n\u001b[1;32m   1416\u001b[0m         execution_options \u001b[38;5;129;01mor\u001b[39;00m NO_OPTIONS,\n\u001b[1;32m   1417\u001b[0m     )\n",
      "\u001b[0;31mObjectNotExecutableError\u001b[0m: Not an executable object: \"SELECT count(*) FROM gene where status='KNOWN'\""
     ]
    }
   ],
   "source": [
    "%%time \n",
    "pd.read_sql(\"SELECT count(*) FROM gene where status='KNOWN'\", conn)"
   ]
  },
  {
   "cell_type": "code",
   "execution_count": 22,
   "id": "199fc327",
   "metadata": {},
   "outputs": [
    {
     "ename": "KeyboardInterrupt",
     "evalue": "",
     "output_type": "error",
     "traceback": [
      "\u001b[0;31m---------------------------------------------------------------------------\u001b[0m",
      "\u001b[0;31mOperationalError\u001b[0m                          Traceback (most recent call last)",
      "File \u001b[0;32m~/BSC/code/environments/nlp/lib/python3.10/site-packages/sqlalchemy/pool/base.py:898\u001b[0m, in \u001b[0;36m_ConnectionRecord.__connect\u001b[0;34m(self)\u001b[0m\n\u001b[1;32m    897\u001b[0m \u001b[38;5;28mself\u001b[39m\u001b[38;5;241m.\u001b[39mstarttime \u001b[38;5;241m=\u001b[39m time\u001b[38;5;241m.\u001b[39mtime()\n\u001b[0;32m--> 898\u001b[0m \u001b[38;5;28mself\u001b[39m\u001b[38;5;241m.\u001b[39mdbapi_connection \u001b[38;5;241m=\u001b[39m connection \u001b[38;5;241m=\u001b[39m \u001b[43mpool\u001b[49m\u001b[38;5;241;43m.\u001b[39;49m\u001b[43m_invoke_creator\u001b[49m\u001b[43m(\u001b[49m\u001b[38;5;28;43mself\u001b[39;49m\u001b[43m)\u001b[49m\n\u001b[1;32m    899\u001b[0m pool\u001b[38;5;241m.\u001b[39mlogger\u001b[38;5;241m.\u001b[39mdebug(\u001b[38;5;124m\"\u001b[39m\u001b[38;5;124mCreated new connection \u001b[39m\u001b[38;5;132;01m%r\u001b[39;00m\u001b[38;5;124m\"\u001b[39m, connection)\n",
      "File \u001b[0;32m~/BSC/code/environments/nlp/lib/python3.10/site-packages/sqlalchemy/engine/create.py:637\u001b[0m, in \u001b[0;36mcreate_engine.<locals>.connect\u001b[0;34m(connection_record)\u001b[0m\n\u001b[1;32m    635\u001b[0m             \u001b[38;5;28;01mreturn\u001b[39;00m connection\n\u001b[0;32m--> 637\u001b[0m \u001b[38;5;28;01mreturn\u001b[39;00m \u001b[43mdialect\u001b[49m\u001b[38;5;241;43m.\u001b[39;49m\u001b[43mconnect\u001b[49m\u001b[43m(\u001b[49m\u001b[38;5;241;43m*\u001b[39;49m\u001b[43mcargs\u001b[49m\u001b[43m,\u001b[49m\u001b[43m \u001b[49m\u001b[38;5;241;43m*\u001b[39;49m\u001b[38;5;241;43m*\u001b[39;49m\u001b[43mcparams\u001b[49m\u001b[43m)\u001b[49m\n",
      "File \u001b[0;32m~/BSC/code/environments/nlp/lib/python3.10/site-packages/sqlalchemy/engine/default.py:616\u001b[0m, in \u001b[0;36mDefaultDialect.connect\u001b[0;34m(self, *cargs, **cparams)\u001b[0m\n\u001b[1;32m    614\u001b[0m \u001b[38;5;28;01mdef\u001b[39;00m \u001b[38;5;21mconnect\u001b[39m(\u001b[38;5;28mself\u001b[39m, \u001b[38;5;241m*\u001b[39mcargs, \u001b[38;5;241m*\u001b[39m\u001b[38;5;241m*\u001b[39mcparams):\n\u001b[1;32m    615\u001b[0m     \u001b[38;5;66;03m# inherits the docstring from interfaces.Dialect.connect\u001b[39;00m\n\u001b[0;32m--> 616\u001b[0m     \u001b[38;5;28;01mreturn\u001b[39;00m \u001b[38;5;28;43mself\u001b[39;49m\u001b[38;5;241;43m.\u001b[39;49m\u001b[43mloaded_dbapi\u001b[49m\u001b[38;5;241;43m.\u001b[39;49m\u001b[43mconnect\u001b[49m\u001b[43m(\u001b[49m\u001b[38;5;241;43m*\u001b[39;49m\u001b[43mcargs\u001b[49m\u001b[43m,\u001b[49m\u001b[43m \u001b[49m\u001b[38;5;241;43m*\u001b[39;49m\u001b[38;5;241;43m*\u001b[39;49m\u001b[43mcparams\u001b[49m\u001b[43m)\u001b[49m\n",
      "File \u001b[0;32m~/BSC/code/environments/nlp/lib/python3.10/site-packages/MySQLdb/__init__.py:121\u001b[0m, in \u001b[0;36mConnect\u001b[0;34m(*args, **kwargs)\u001b[0m\n\u001b[1;32m    119\u001b[0m \u001b[38;5;28;01mfrom\u001b[39;00m \u001b[38;5;21;01mMySQLdb\u001b[39;00m\u001b[38;5;21;01m.\u001b[39;00m\u001b[38;5;21;01mconnections\u001b[39;00m \u001b[38;5;28;01mimport\u001b[39;00m Connection\n\u001b[0;32m--> 121\u001b[0m \u001b[38;5;28;01mreturn\u001b[39;00m \u001b[43mConnection\u001b[49m\u001b[43m(\u001b[49m\u001b[38;5;241;43m*\u001b[39;49m\u001b[43margs\u001b[49m\u001b[43m,\u001b[49m\u001b[43m \u001b[49m\u001b[38;5;241;43m*\u001b[39;49m\u001b[38;5;241;43m*\u001b[39;49m\u001b[43mkwargs\u001b[49m\u001b[43m)\u001b[49m\n",
      "File \u001b[0;32m~/BSC/code/environments/nlp/lib/python3.10/site-packages/MySQLdb/connections.py:193\u001b[0m, in \u001b[0;36mConnection.__init__\u001b[0;34m(self, *args, **kwargs)\u001b[0m\n\u001b[1;32m    191\u001b[0m autocommit \u001b[38;5;241m=\u001b[39m kwargs2\u001b[38;5;241m.\u001b[39mpop(\u001b[38;5;124m\"\u001b[39m\u001b[38;5;124mautocommit\u001b[39m\u001b[38;5;124m\"\u001b[39m, \u001b[38;5;28;01mFalse\u001b[39;00m)\n\u001b[0;32m--> 193\u001b[0m \u001b[38;5;28;43msuper\u001b[39;49m\u001b[43m(\u001b[49m\u001b[43m)\u001b[49m\u001b[38;5;241;43m.\u001b[39;49m\u001b[38;5;21;43m__init__\u001b[39;49m\u001b[43m(\u001b[49m\u001b[38;5;241;43m*\u001b[39;49m\u001b[43margs\u001b[49m\u001b[43m,\u001b[49m\u001b[43m \u001b[49m\u001b[38;5;241;43m*\u001b[39;49m\u001b[38;5;241;43m*\u001b[39;49m\u001b[43mkwargs2\u001b[49m\u001b[43m)\u001b[49m\n\u001b[1;32m    194\u001b[0m \u001b[38;5;28mself\u001b[39m\u001b[38;5;241m.\u001b[39mcursorclass \u001b[38;5;241m=\u001b[39m cursorclass\n",
      "\u001b[0;31mOperationalError\u001b[0m: (2003, \"Can't connect to MySQL server on 'nsembldb.ensembl.org:3306' (4)\")",
      "\nDuring handling of the above exception, another exception occurred:\n",
      "\u001b[0;31mKeyboardInterrupt\u001b[0m                         Traceback (most recent call last)",
      "Cell \u001b[0;32mIn[22], line 2\u001b[0m\n\u001b[1;32m      1\u001b[0m chunks \u001b[38;5;241m=\u001b[39m []\n\u001b[0;32m----> 2\u001b[0m \u001b[38;5;28;01mwith\u001b[39;00m \u001b[43mengine\u001b[49m\u001b[38;5;241;43m.\u001b[39;49m\u001b[43mconnect\u001b[49m\u001b[43m(\u001b[49m\u001b[43m)\u001b[49m\u001b[38;5;241m.\u001b[39mexecution_options() \u001b[38;5;28;01mas\u001b[39;00m conn:\n\u001b[1;32m      3\u001b[0m     \u001b[38;5;28;01mfor\u001b[39;00m chunk_dataframe \u001b[38;5;129;01min\u001b[39;00m pd\u001b[38;5;241m.\u001b[39mread_sql(\n\u001b[1;32m      4\u001b[0m             \u001b[38;5;124m\"\u001b[39m\u001b[38;5;124mSELECT * FROM gene where status=\u001b[39m\u001b[38;5;124m'\u001b[39m\u001b[38;5;124mKNOWN\u001b[39m\u001b[38;5;124m'\u001b[39m\u001b[38;5;124m limit 100\u001b[39m\u001b[38;5;124m\"\u001b[39m, conn, chunksize\u001b[38;5;241m=\u001b[39m\u001b[38;5;241m10000\u001b[39m):\n\u001b[1;32m      5\u001b[0m         chunks\u001b[38;5;241m.\u001b[39mappend(chunk_dataframe)\n",
      "File \u001b[0;32m~/BSC/code/environments/nlp/lib/python3.10/site-packages/sqlalchemy/engine/base.py:3264\u001b[0m, in \u001b[0;36mEngine.connect\u001b[0;34m(self)\u001b[0m\n\u001b[1;32m   3241\u001b[0m \u001b[38;5;28;01mdef\u001b[39;00m \u001b[38;5;21mconnect\u001b[39m(\u001b[38;5;28mself\u001b[39m) \u001b[38;5;241m-\u001b[39m\u001b[38;5;241m>\u001b[39m Connection:\n\u001b[1;32m   3242\u001b[0m \u001b[38;5;250m    \u001b[39m\u001b[38;5;124;03m\"\"\"Return a new :class:`_engine.Connection` object.\u001b[39;00m\n\u001b[1;32m   3243\u001b[0m \n\u001b[1;32m   3244\u001b[0m \u001b[38;5;124;03m    The :class:`_engine.Connection` acts as a Python context manager, so\u001b[39;00m\n\u001b[0;32m   (...)\u001b[0m\n\u001b[1;32m   3261\u001b[0m \n\u001b[1;32m   3262\u001b[0m \u001b[38;5;124;03m    \"\"\"\u001b[39;00m\n\u001b[0;32m-> 3264\u001b[0m     \u001b[38;5;28;01mreturn\u001b[39;00m \u001b[38;5;28;43mself\u001b[39;49m\u001b[38;5;241;43m.\u001b[39;49m\u001b[43m_connection_cls\u001b[49m\u001b[43m(\u001b[49m\u001b[38;5;28;43mself\u001b[39;49m\u001b[43m)\u001b[49m\n",
      "File \u001b[0;32m~/BSC/code/environments/nlp/lib/python3.10/site-packages/sqlalchemy/engine/base.py:145\u001b[0m, in \u001b[0;36mConnection.__init__\u001b[0;34m(self, engine, connection, _has_events, _allow_revalidate, _allow_autobegin)\u001b[0m\n\u001b[1;32m    143\u001b[0m \u001b[38;5;28;01mif\u001b[39;00m connection \u001b[38;5;129;01mis\u001b[39;00m \u001b[38;5;28;01mNone\u001b[39;00m:\n\u001b[1;32m    144\u001b[0m     \u001b[38;5;28;01mtry\u001b[39;00m:\n\u001b[0;32m--> 145\u001b[0m         \u001b[38;5;28mself\u001b[39m\u001b[38;5;241m.\u001b[39m_dbapi_connection \u001b[38;5;241m=\u001b[39m \u001b[43mengine\u001b[49m\u001b[38;5;241;43m.\u001b[39;49m\u001b[43mraw_connection\u001b[49m\u001b[43m(\u001b[49m\u001b[43m)\u001b[49m\n\u001b[1;32m    146\u001b[0m     \u001b[38;5;28;01mexcept\u001b[39;00m dialect\u001b[38;5;241m.\u001b[39mloaded_dbapi\u001b[38;5;241m.\u001b[39mError \u001b[38;5;28;01mas\u001b[39;00m err:\n\u001b[1;32m    147\u001b[0m         Connection\u001b[38;5;241m.\u001b[39m_handle_dbapi_exception_noconnection(\n\u001b[1;32m    148\u001b[0m             err, dialect, engine\n\u001b[1;32m    149\u001b[0m         )\n",
      "File \u001b[0;32m~/BSC/code/environments/nlp/lib/python3.10/site-packages/sqlalchemy/engine/base.py:3288\u001b[0m, in \u001b[0;36mEngine.raw_connection\u001b[0;34m(self)\u001b[0m\n\u001b[1;32m   3266\u001b[0m \u001b[38;5;28;01mdef\u001b[39;00m \u001b[38;5;21mraw_connection\u001b[39m(\u001b[38;5;28mself\u001b[39m) \u001b[38;5;241m-\u001b[39m\u001b[38;5;241m>\u001b[39m PoolProxiedConnection:\n\u001b[1;32m   3267\u001b[0m \u001b[38;5;250m    \u001b[39m\u001b[38;5;124;03m\"\"\"Return a \"raw\" DBAPI connection from the connection pool.\u001b[39;00m\n\u001b[1;32m   3268\u001b[0m \n\u001b[1;32m   3269\u001b[0m \u001b[38;5;124;03m    The returned object is a proxied version of the DBAPI\u001b[39;00m\n\u001b[0;32m   (...)\u001b[0m\n\u001b[1;32m   3286\u001b[0m \n\u001b[1;32m   3287\u001b[0m \u001b[38;5;124;03m    \"\"\"\u001b[39;00m\n\u001b[0;32m-> 3288\u001b[0m     \u001b[38;5;28;01mreturn\u001b[39;00m \u001b[38;5;28;43mself\u001b[39;49m\u001b[38;5;241;43m.\u001b[39;49m\u001b[43mpool\u001b[49m\u001b[38;5;241;43m.\u001b[39;49m\u001b[43mconnect\u001b[49m\u001b[43m(\u001b[49m\u001b[43m)\u001b[49m\n",
      "File \u001b[0;32m~/BSC/code/environments/nlp/lib/python3.10/site-packages/sqlalchemy/pool/base.py:452\u001b[0m, in \u001b[0;36mPool.connect\u001b[0;34m(self)\u001b[0m\n\u001b[1;32m    444\u001b[0m \u001b[38;5;28;01mdef\u001b[39;00m \u001b[38;5;21mconnect\u001b[39m(\u001b[38;5;28mself\u001b[39m) \u001b[38;5;241m-\u001b[39m\u001b[38;5;241m>\u001b[39m PoolProxiedConnection:\n\u001b[1;32m    445\u001b[0m \u001b[38;5;250m    \u001b[39m\u001b[38;5;124;03m\"\"\"Return a DBAPI connection from the pool.\u001b[39;00m\n\u001b[1;32m    446\u001b[0m \n\u001b[1;32m    447\u001b[0m \u001b[38;5;124;03m    The connection is instrumented such that when its\u001b[39;00m\n\u001b[0;32m   (...)\u001b[0m\n\u001b[1;32m    450\u001b[0m \n\u001b[1;32m    451\u001b[0m \u001b[38;5;124;03m    \"\"\"\u001b[39;00m\n\u001b[0;32m--> 452\u001b[0m     \u001b[38;5;28;01mreturn\u001b[39;00m \u001b[43m_ConnectionFairy\u001b[49m\u001b[38;5;241;43m.\u001b[39;49m\u001b[43m_checkout\u001b[49m\u001b[43m(\u001b[49m\u001b[38;5;28;43mself\u001b[39;49m\u001b[43m)\u001b[49m\n",
      "File \u001b[0;32m~/BSC/code/environments/nlp/lib/python3.10/site-packages/sqlalchemy/pool/base.py:1268\u001b[0m, in \u001b[0;36m_ConnectionFairy._checkout\u001b[0;34m(cls, pool, threadconns, fairy)\u001b[0m\n\u001b[1;32m   1259\u001b[0m \u001b[38;5;129m@classmethod\u001b[39m\n\u001b[1;32m   1260\u001b[0m \u001b[38;5;28;01mdef\u001b[39;00m \u001b[38;5;21m_checkout\u001b[39m(\n\u001b[1;32m   1261\u001b[0m     \u001b[38;5;28mcls\u001b[39m,\n\u001b[0;32m   (...)\u001b[0m\n\u001b[1;32m   1264\u001b[0m     fairy: Optional[_ConnectionFairy] \u001b[38;5;241m=\u001b[39m \u001b[38;5;28;01mNone\u001b[39;00m,\n\u001b[1;32m   1265\u001b[0m ) \u001b[38;5;241m-\u001b[39m\u001b[38;5;241m>\u001b[39m _ConnectionFairy:\n\u001b[1;32m   1267\u001b[0m     \u001b[38;5;28;01mif\u001b[39;00m \u001b[38;5;129;01mnot\u001b[39;00m fairy:\n\u001b[0;32m-> 1268\u001b[0m         fairy \u001b[38;5;241m=\u001b[39m \u001b[43m_ConnectionRecord\u001b[49m\u001b[38;5;241;43m.\u001b[39;49m\u001b[43mcheckout\u001b[49m\u001b[43m(\u001b[49m\u001b[43mpool\u001b[49m\u001b[43m)\u001b[49m\n\u001b[1;32m   1270\u001b[0m         \u001b[38;5;28;01mif\u001b[39;00m threadconns \u001b[38;5;129;01mis\u001b[39;00m \u001b[38;5;129;01mnot\u001b[39;00m \u001b[38;5;28;01mNone\u001b[39;00m:\n\u001b[1;32m   1271\u001b[0m             threadconns\u001b[38;5;241m.\u001b[39mcurrent \u001b[38;5;241m=\u001b[39m weakref\u001b[38;5;241m.\u001b[39mref(fairy)\n",
      "File \u001b[0;32m~/BSC/code/environments/nlp/lib/python3.10/site-packages/sqlalchemy/pool/base.py:716\u001b[0m, in \u001b[0;36m_ConnectionRecord.checkout\u001b[0;34m(cls, pool)\u001b[0m\n\u001b[1;32m    714\u001b[0m     rec \u001b[38;5;241m=\u001b[39m cast(_ConnectionRecord, pool\u001b[38;5;241m.\u001b[39m_do_get())\n\u001b[1;32m    715\u001b[0m \u001b[38;5;28;01melse\u001b[39;00m:\n\u001b[0;32m--> 716\u001b[0m     rec \u001b[38;5;241m=\u001b[39m \u001b[43mpool\u001b[49m\u001b[38;5;241;43m.\u001b[39;49m\u001b[43m_do_get\u001b[49m\u001b[43m(\u001b[49m\u001b[43m)\u001b[49m\n\u001b[1;32m    718\u001b[0m \u001b[38;5;28;01mtry\u001b[39;00m:\n\u001b[1;32m    719\u001b[0m     dbapi_connection \u001b[38;5;241m=\u001b[39m rec\u001b[38;5;241m.\u001b[39mget_connection()\n",
      "File \u001b[0;32m~/BSC/code/environments/nlp/lib/python3.10/site-packages/sqlalchemy/pool/impl.py:168\u001b[0m, in \u001b[0;36mQueuePool._do_get\u001b[0;34m(self)\u001b[0m\n\u001b[1;32m    166\u001b[0m     \u001b[38;5;28;01mreturn\u001b[39;00m \u001b[38;5;28mself\u001b[39m\u001b[38;5;241m.\u001b[39m_create_connection()\n\u001b[1;32m    167\u001b[0m \u001b[38;5;28;01mexcept\u001b[39;00m:\n\u001b[0;32m--> 168\u001b[0m     \u001b[38;5;28;01mwith\u001b[39;00m util\u001b[38;5;241m.\u001b[39msafe_reraise():\n\u001b[1;32m    169\u001b[0m         \u001b[38;5;28mself\u001b[39m\u001b[38;5;241m.\u001b[39m_dec_overflow()\n\u001b[1;32m    170\u001b[0m     \u001b[38;5;28;01mraise\u001b[39;00m\n",
      "File \u001b[0;32m~/BSC/code/environments/nlp/lib/python3.10/site-packages/sqlalchemy/util/langhelpers.py:147\u001b[0m, in \u001b[0;36msafe_reraise.__exit__\u001b[0;34m(self, type_, value, traceback)\u001b[0m\n\u001b[1;32m    145\u001b[0m     \u001b[38;5;28;01massert\u001b[39;00m exc_value \u001b[38;5;129;01mis\u001b[39;00m \u001b[38;5;129;01mnot\u001b[39;00m \u001b[38;5;28;01mNone\u001b[39;00m\n\u001b[1;32m    146\u001b[0m     \u001b[38;5;28mself\u001b[39m\u001b[38;5;241m.\u001b[39m_exc_info \u001b[38;5;241m=\u001b[39m \u001b[38;5;28;01mNone\u001b[39;00m  \u001b[38;5;66;03m# remove potential circular references\u001b[39;00m\n\u001b[0;32m--> 147\u001b[0m     \u001b[38;5;28;01mraise\u001b[39;00m exc_value\u001b[38;5;241m.\u001b[39mwith_traceback(exc_tb)\n\u001b[1;32m    148\u001b[0m \u001b[38;5;28;01melse\u001b[39;00m:\n\u001b[1;32m    149\u001b[0m     \u001b[38;5;28mself\u001b[39m\u001b[38;5;241m.\u001b[39m_exc_info \u001b[38;5;241m=\u001b[39m \u001b[38;5;28;01mNone\u001b[39;00m  \u001b[38;5;66;03m# remove potential circular references\u001b[39;00m\n",
      "File \u001b[0;32m~/BSC/code/environments/nlp/lib/python3.10/site-packages/sqlalchemy/pool/impl.py:166\u001b[0m, in \u001b[0;36mQueuePool._do_get\u001b[0;34m(self)\u001b[0m\n\u001b[1;32m    164\u001b[0m \u001b[38;5;28;01mif\u001b[39;00m \u001b[38;5;28mself\u001b[39m\u001b[38;5;241m.\u001b[39m_inc_overflow():\n\u001b[1;32m    165\u001b[0m     \u001b[38;5;28;01mtry\u001b[39;00m:\n\u001b[0;32m--> 166\u001b[0m         \u001b[38;5;28;01mreturn\u001b[39;00m \u001b[38;5;28;43mself\u001b[39;49m\u001b[38;5;241;43m.\u001b[39;49m\u001b[43m_create_connection\u001b[49m\u001b[43m(\u001b[49m\u001b[43m)\u001b[49m\n\u001b[1;32m    167\u001b[0m     \u001b[38;5;28;01mexcept\u001b[39;00m:\n\u001b[1;32m    168\u001b[0m         \u001b[38;5;28;01mwith\u001b[39;00m util\u001b[38;5;241m.\u001b[39msafe_reraise():\n",
      "File \u001b[0;32m~/BSC/code/environments/nlp/lib/python3.10/site-packages/sqlalchemy/pool/base.py:393\u001b[0m, in \u001b[0;36mPool._create_connection\u001b[0;34m(self)\u001b[0m\n\u001b[1;32m    390\u001b[0m \u001b[38;5;28;01mdef\u001b[39;00m \u001b[38;5;21m_create_connection\u001b[39m(\u001b[38;5;28mself\u001b[39m) \u001b[38;5;241m-\u001b[39m\u001b[38;5;241m>\u001b[39m ConnectionPoolEntry:\n\u001b[1;32m    391\u001b[0m \u001b[38;5;250m    \u001b[39m\u001b[38;5;124;03m\"\"\"Called by subclasses to create a new ConnectionRecord.\"\"\"\u001b[39;00m\n\u001b[0;32m--> 393\u001b[0m     \u001b[38;5;28;01mreturn\u001b[39;00m \u001b[43m_ConnectionRecord\u001b[49m\u001b[43m(\u001b[49m\u001b[38;5;28;43mself\u001b[39;49m\u001b[43m)\u001b[49m\n",
      "File \u001b[0;32m~/BSC/code/environments/nlp/lib/python3.10/site-packages/sqlalchemy/pool/base.py:678\u001b[0m, in \u001b[0;36m_ConnectionRecord.__init__\u001b[0;34m(self, pool, connect)\u001b[0m\n\u001b[1;32m    676\u001b[0m \u001b[38;5;28mself\u001b[39m\u001b[38;5;241m.\u001b[39m__pool \u001b[38;5;241m=\u001b[39m pool\n\u001b[1;32m    677\u001b[0m \u001b[38;5;28;01mif\u001b[39;00m connect:\n\u001b[0;32m--> 678\u001b[0m     \u001b[38;5;28;43mself\u001b[39;49m\u001b[38;5;241;43m.\u001b[39;49m\u001b[43m__connect\u001b[49m\u001b[43m(\u001b[49m\u001b[43m)\u001b[49m\n\u001b[1;32m    679\u001b[0m \u001b[38;5;28mself\u001b[39m\u001b[38;5;241m.\u001b[39mfinalize_callback \u001b[38;5;241m=\u001b[39m deque()\n",
      "File \u001b[0;32m~/BSC/code/environments/nlp/lib/python3.10/site-packages/sqlalchemy/pool/base.py:898\u001b[0m, in \u001b[0;36m_ConnectionRecord.__connect\u001b[0;34m(self)\u001b[0m\n\u001b[1;32m    896\u001b[0m \u001b[38;5;28;01mtry\u001b[39;00m:\n\u001b[1;32m    897\u001b[0m     \u001b[38;5;28mself\u001b[39m\u001b[38;5;241m.\u001b[39mstarttime \u001b[38;5;241m=\u001b[39m time\u001b[38;5;241m.\u001b[39mtime()\n\u001b[0;32m--> 898\u001b[0m     \u001b[38;5;28mself\u001b[39m\u001b[38;5;241m.\u001b[39mdbapi_connection \u001b[38;5;241m=\u001b[39m connection \u001b[38;5;241m=\u001b[39m \u001b[43mpool\u001b[49m\u001b[38;5;241;43m.\u001b[39;49m\u001b[43m_invoke_creator\u001b[49m\u001b[43m(\u001b[49m\u001b[38;5;28;43mself\u001b[39;49m\u001b[43m)\u001b[49m\n\u001b[1;32m    899\u001b[0m     pool\u001b[38;5;241m.\u001b[39mlogger\u001b[38;5;241m.\u001b[39mdebug(\u001b[38;5;124m\"\u001b[39m\u001b[38;5;124mCreated new connection \u001b[39m\u001b[38;5;132;01m%r\u001b[39;00m\u001b[38;5;124m\"\u001b[39m, connection)\n\u001b[1;32m    900\u001b[0m     \u001b[38;5;28mself\u001b[39m\u001b[38;5;241m.\u001b[39mfresh \u001b[38;5;241m=\u001b[39m \u001b[38;5;28;01mTrue\u001b[39;00m\n",
      "\u001b[0;31mKeyboardInterrupt\u001b[0m: "
     ]
    }
   ],
   "source": [
    "chunks = []\n",
    "with engine.connect().execution_options() as conn:\n",
    "    for chunk_dataframe in pd.read_sql(\n",
    "            \"SELECT * FROM gene where status='KNOWN' limit 100\", conn, chunksize=10000):\n",
    "        chunks.append(chunk_dataframe)\n",
    "        print('.')"
   ]
  },
  {
   "cell_type": "code",
   "execution_count": 42,
   "id": "a33bd271",
   "metadata": {},
   "outputs": [],
   "source": [
    "query = '''\n",
    "select gene.stable_id, transcript.stable_id, translation.stable_id, xref.display_label\n",
    "from gene, transcript, translation, object_xref, xref,external_db\n",
    "where gene.status = 'KNOWN'\n",
    "and  gene.gene_id = transcript.gene_id\n",
    "and transcript.transcript_id = translation.transcript_id\n",
    "  AND object_xref.ensembl_object_type = 'Transcript'\n",
    "  AND object_xref.xref_id = xref.xref_id\n",
    "  AND xref.external_db_id = external_db.external_db_id\n",
    "  AND external_db.db_name = 'RefSeq_mRNA'\n",
    "'''"
   ]
  },
  {
   "cell_type": "code",
   "execution_count": 43,
   "id": "11ee82cd",
   "metadata": {},
   "outputs": [],
   "source": [
    "import pandas as pd\n",
    "import mysql.connector\n",
    "\n",
    "def retrieve_data_from_mysql(db_url, query, chunk_size=None):\n",
    "    # Connect to the MySQL database\n",
    "    connection = mysql.connector.connect(host=db_url, user='anonymous', database='homo_sapiens_core_75_37')\n",
    "    \n",
    "    try:\n",
    "        # Create a cursor to execute the query\n",
    "        cursor = connection.cursor()\n",
    "        \n",
    "        # Execute the SQL query\n",
    "        cursor.execute(query)\n",
    "        \n",
    "        if chunk_size is not None:\n",
    "            # Retrieve results in chunks\n",
    "            results = []\n",
    "            \n",
    "            while True:\n",
    "                chunk = cursor.fetchmany(chunk_size)\n",
    "                \n",
    "                if not chunk:\n",
    "                    break\n",
    "                \n",
    "                results.append(chunk)\n",
    "            \n",
    "            # Concatenate all the chunks into a single DataFrame\n",
    "            dataframe = pd.concat([pd.DataFrame(chunk) for chunk in results])\n",
    "        else:\n",
    "            # Retrieve all results at once\n",
    "            results = cursor.fetchall()\n",
    "            dataframe = pd.DataFrame(results)\n",
    "        \n",
    "        # Set column names based on cursor description\n",
    "        dataframe.columns = [column[0] for column in cursor.description]\n",
    "        \n",
    "        return dataframe\n",
    "    \n",
    "    finally:\n",
    "        # Close the cursor and the database connection\n",
    "        cursor.close()\n",
    "        connection.close()\n"
   ]
  },
  {
   "cell_type": "code",
   "execution_count": 46,
   "id": "56d4d598",
   "metadata": {},
   "outputs": [
    {
     "ename": "InternalError",
     "evalue": "Unread result found",
     "output_type": "error",
     "traceback": [
      "\u001b[0;31m---------------------------------------------------------------------------\u001b[0m",
      "\u001b[0;31mKeyboardInterrupt\u001b[0m                         Traceback (most recent call last)",
      "Cell \u001b[0;32mIn[43], line 20\u001b[0m, in \u001b[0;36mretrieve_data_from_mysql\u001b[0;34m(db_url, query, chunk_size)\u001b[0m\n\u001b[1;32m     19\u001b[0m \u001b[38;5;28;01mwhile\u001b[39;00m \u001b[38;5;28;01mTrue\u001b[39;00m:\n\u001b[0;32m---> 20\u001b[0m     chunk \u001b[38;5;241m=\u001b[39m \u001b[43mcursor\u001b[49m\u001b[38;5;241;43m.\u001b[39;49m\u001b[43mfetchmany\u001b[49m\u001b[43m(\u001b[49m\u001b[43mchunk_size\u001b[49m\u001b[43m)\u001b[49m\n\u001b[1;32m     22\u001b[0m     \u001b[38;5;28;01mif\u001b[39;00m \u001b[38;5;129;01mnot\u001b[39;00m chunk:\n",
      "File \u001b[0;32m~/BSC/code/environments/nlp/lib/python3.10/site-packages/mysql/connector/cursor.py:874\u001b[0m, in \u001b[0;36mMySQLCursor.fetchmany\u001b[0;34m(self, size)\u001b[0m\n\u001b[1;32m    873\u001b[0m cnt \u001b[38;5;241m-\u001b[39m\u001b[38;5;241m=\u001b[39m \u001b[38;5;241m1\u001b[39m\n\u001b[0;32m--> 874\u001b[0m row \u001b[38;5;241m=\u001b[39m \u001b[38;5;28;43mself\u001b[39;49m\u001b[38;5;241;43m.\u001b[39;49m\u001b[43mfetchone\u001b[49m\u001b[43m(\u001b[49m\u001b[43m)\u001b[49m\n\u001b[1;32m    875\u001b[0m \u001b[38;5;28;01mif\u001b[39;00m row:\n",
      "File \u001b[0;32m~/BSC/code/environments/nlp/lib/python3.10/site-packages/mysql/connector/cursor.py:861\u001b[0m, in \u001b[0;36mMySQLCursor.fetchone\u001b[0;34m(self)\u001b[0m\n\u001b[1;32m    857\u001b[0m \u001b[38;5;250m\u001b[39m\u001b[38;5;124;03m\"\"\"Returns next row of a query result set\u001b[39;00m\n\u001b[1;32m    858\u001b[0m \n\u001b[1;32m    859\u001b[0m \u001b[38;5;124;03mReturns a tuple or None.\u001b[39;00m\n\u001b[1;32m    860\u001b[0m \u001b[38;5;124;03m\"\"\"\u001b[39;00m\n\u001b[0;32m--> 861\u001b[0m row \u001b[38;5;241m=\u001b[39m \u001b[38;5;28;43mself\u001b[39;49m\u001b[38;5;241;43m.\u001b[39;49m\u001b[43m_fetch_row\u001b[49m\u001b[43m(\u001b[49m\u001b[43m)\u001b[49m\n\u001b[1;32m    862\u001b[0m \u001b[38;5;28;01mif\u001b[39;00m row:\n",
      "File \u001b[0;32m~/BSC/code/environments/nlp/lib/python3.10/site-packages/mysql/connector/cursor.py:842\u001b[0m, in \u001b[0;36mMySQLCursor._fetch_row\u001b[0;34m(self)\u001b[0m\n\u001b[1;32m    841\u001b[0m \u001b[38;5;28;01mif\u001b[39;00m row:\n\u001b[0;32m--> 842\u001b[0m     \u001b[38;5;28mself\u001b[39m\u001b[38;5;241m.\u001b[39m_nextrow \u001b[38;5;241m=\u001b[39m \u001b[38;5;28;43mself\u001b[39;49m\u001b[38;5;241;43m.\u001b[39;49m\u001b[43m_connection\u001b[49m\u001b[38;5;241;43m.\u001b[39;49m\u001b[43mget_row\u001b[49m\u001b[43m(\u001b[49m\n\u001b[1;32m    843\u001b[0m \u001b[43m        \u001b[49m\u001b[43mbinary\u001b[49m\u001b[38;5;241;43m=\u001b[39;49m\u001b[38;5;28;43mself\u001b[39;49m\u001b[38;5;241;43m.\u001b[39;49m\u001b[43m_binary\u001b[49m\u001b[43m,\u001b[49m\u001b[43m \u001b[49m\u001b[43mcolumns\u001b[49m\u001b[38;5;241;43m=\u001b[39;49m\u001b[38;5;28;43mself\u001b[39;49m\u001b[38;5;241;43m.\u001b[39;49m\u001b[43mdescription\u001b[49m\u001b[43m)\u001b[49m\n\u001b[1;32m    844\u001b[0m     eof \u001b[38;5;241m=\u001b[39m \u001b[38;5;28mself\u001b[39m\u001b[38;5;241m.\u001b[39m_nextrow[\u001b[38;5;241m1\u001b[39m]\n",
      "File \u001b[0;32m~/BSC/code/environments/nlp/lib/python3.10/site-packages/mysql/connector/connection.py:421\u001b[0m, in \u001b[0;36mMySQLConnection.get_row\u001b[0;34m(self, binary, columns)\u001b[0m\n\u001b[1;32m    412\u001b[0m \u001b[38;5;250m\u001b[39m\u001b[38;5;124;03m\"\"\"Get the next rows returned by the MySQL server\u001b[39;00m\n\u001b[1;32m    413\u001b[0m \n\u001b[1;32m    414\u001b[0m \u001b[38;5;124;03mThis method gets one row from the result set after sending, for\u001b[39;00m\n\u001b[0;32m   (...)\u001b[0m\n\u001b[1;32m    419\u001b[0m \u001b[38;5;124;03mReturns a tuple.\u001b[39;00m\n\u001b[1;32m    420\u001b[0m \u001b[38;5;124;03m\"\"\"\u001b[39;00m\n\u001b[0;32m--> 421\u001b[0m (rows, eof) \u001b[38;5;241m=\u001b[39m \u001b[38;5;28;43mself\u001b[39;49m\u001b[38;5;241;43m.\u001b[39;49m\u001b[43mget_rows\u001b[49m\u001b[43m(\u001b[49m\u001b[43mcount\u001b[49m\u001b[38;5;241;43m=\u001b[39;49m\u001b[38;5;241;43m1\u001b[39;49m\u001b[43m,\u001b[49m\u001b[43m \u001b[49m\u001b[43mbinary\u001b[49m\u001b[38;5;241;43m=\u001b[39;49m\u001b[43mbinary\u001b[49m\u001b[43m,\u001b[49m\u001b[43m \u001b[49m\u001b[43mcolumns\u001b[49m\u001b[38;5;241;43m=\u001b[39;49m\u001b[43mcolumns\u001b[49m\u001b[43m)\u001b[49m\n\u001b[1;32m    422\u001b[0m \u001b[38;5;28;01mif\u001b[39;00m \u001b[38;5;28mlen\u001b[39m(rows):\n",
      "File \u001b[0;32m~/BSC/code/environments/nlp/lib/python3.10/site-packages/mysql/connector/connection.py:443\u001b[0m, in \u001b[0;36mMySQLConnection.get_rows\u001b[0;34m(self, count, binary, columns)\u001b[0m\n\u001b[1;32m    442\u001b[0m     \u001b[38;5;28;01melse\u001b[39;00m:\n\u001b[0;32m--> 443\u001b[0m         rows \u001b[38;5;241m=\u001b[39m \u001b[38;5;28;43mself\u001b[39;49m\u001b[38;5;241;43m.\u001b[39;49m\u001b[43m_protocol\u001b[49m\u001b[38;5;241;43m.\u001b[39;49m\u001b[43mread_text_result\u001b[49m\u001b[43m(\u001b[49m\u001b[38;5;28;43mself\u001b[39;49m\u001b[38;5;241;43m.\u001b[39;49m\u001b[43m_socket\u001b[49m\u001b[43m,\u001b[49m\u001b[43m \u001b[49m\u001b[38;5;28;43mself\u001b[39;49m\u001b[38;5;241;43m.\u001b[39;49m\u001b[43m_server_version\u001b[49m\u001b[43m,\u001b[49m\u001b[43m \u001b[49m\u001b[43mcount\u001b[49m\u001b[38;5;241;43m=\u001b[39;49m\u001b[43mcount\u001b[49m\u001b[43m)\u001b[49m\n\u001b[1;32m    444\u001b[0m \u001b[38;5;28;01mexcept\u001b[39;00m errors\u001b[38;5;241m.\u001b[39mError \u001b[38;5;28;01mas\u001b[39;00m err:\n",
      "File \u001b[0;32m~/BSC/code/environments/nlp/lib/python3.10/site-packages/mysql/connector/protocol.py:325\u001b[0m, in \u001b[0;36mMySQLProtocol.read_text_result\u001b[0;34m(self, sock, version, count)\u001b[0m\n\u001b[1;32m    324\u001b[0m     \u001b[38;5;28;01mbreak\u001b[39;00m\n\u001b[0;32m--> 325\u001b[0m packet \u001b[38;5;241m=\u001b[39m \u001b[43msock\u001b[49m\u001b[38;5;241;43m.\u001b[39;49m\u001b[43mrecv\u001b[49m\u001b[43m(\u001b[49m\u001b[43m)\u001b[49m\n\u001b[1;32m    326\u001b[0m \u001b[38;5;28;01mif\u001b[39;00m packet\u001b[38;5;241m.\u001b[39mstartswith(\u001b[38;5;124mb\u001b[39m\u001b[38;5;124m'\u001b[39m\u001b[38;5;130;01m\\xff\u001b[39;00m\u001b[38;5;130;01m\\xff\u001b[39;00m\u001b[38;5;130;01m\\xff\u001b[39;00m\u001b[38;5;124m'\u001b[39m):\n",
      "File \u001b[0;32m~/BSC/code/environments/nlp/lib/python3.10/site-packages/mysql/connector/network.py:262\u001b[0m, in \u001b[0;36mBaseMySQLSocket.recv_plain\u001b[0;34m(self)\u001b[0m\n\u001b[1;32m    261\u001b[0m \u001b[38;5;28;01mwhile\u001b[39;00m rest:\n\u001b[0;32m--> 262\u001b[0m     read \u001b[38;5;241m=\u001b[39m \u001b[38;5;28;43mself\u001b[39;49m\u001b[38;5;241;43m.\u001b[39;49m\u001b[43msock\u001b[49m\u001b[38;5;241;43m.\u001b[39;49m\u001b[43mrecv_into\u001b[49m\u001b[43m(\u001b[49m\u001b[43mpacket_view\u001b[49m\u001b[43m,\u001b[49m\u001b[43m \u001b[49m\u001b[43mrest\u001b[49m\u001b[43m)\u001b[49m\n\u001b[1;32m    263\u001b[0m     \u001b[38;5;28;01mif\u001b[39;00m read \u001b[38;5;241m==\u001b[39m \u001b[38;5;241m0\u001b[39m \u001b[38;5;129;01mand\u001b[39;00m rest \u001b[38;5;241m>\u001b[39m \u001b[38;5;241m0\u001b[39m:\n",
      "\u001b[0;31mKeyboardInterrupt\u001b[0m: ",
      "\nDuring handling of the above exception, another exception occurred:\n",
      "\u001b[0;31mInternalError\u001b[0m                             Traceback (most recent call last)",
      "File \u001b[0;32m<timed exec>:1\u001b[0m\n",
      "Cell \u001b[0;32mIn[43], line 41\u001b[0m, in \u001b[0;36mretrieve_data_from_mysql\u001b[0;34m(db_url, query, chunk_size)\u001b[0m\n\u001b[1;32m     37\u001b[0m     \u001b[38;5;28;01mreturn\u001b[39;00m dataframe\n\u001b[1;32m     39\u001b[0m \u001b[38;5;28;01mfinally\u001b[39;00m:\n\u001b[1;32m     40\u001b[0m     \u001b[38;5;66;03m# Close the cursor and the database connection\u001b[39;00m\n\u001b[0;32m---> 41\u001b[0m     \u001b[43mcursor\u001b[49m\u001b[38;5;241;43m.\u001b[39;49m\u001b[43mclose\u001b[49m\u001b[43m(\u001b[49m\u001b[43m)\u001b[49m\n\u001b[1;32m     42\u001b[0m     connection\u001b[38;5;241m.\u001b[39mclose()\n",
      "File \u001b[0;32m~/BSC/code/environments/nlp/lib/python3.10/site-packages/mysql/connector/cursor.py:380\u001b[0m, in \u001b[0;36mMySQLCursor.close\u001b[0;34m(self)\u001b[0m\n\u001b[1;32m    377\u001b[0m \u001b[38;5;28;01mif\u001b[39;00m \u001b[38;5;28mself\u001b[39m\u001b[38;5;241m.\u001b[39m_connection \u001b[38;5;129;01mis\u001b[39;00m \u001b[38;5;28;01mNone\u001b[39;00m:\n\u001b[1;32m    378\u001b[0m     \u001b[38;5;28;01mreturn\u001b[39;00m \u001b[38;5;28;01mFalse\u001b[39;00m\n\u001b[0;32m--> 380\u001b[0m \u001b[38;5;28;43mself\u001b[39;49m\u001b[38;5;241;43m.\u001b[39;49m\u001b[43m_connection\u001b[49m\u001b[38;5;241;43m.\u001b[39;49m\u001b[43mhandle_unread_result\u001b[49m\u001b[43m(\u001b[49m\u001b[43m)\u001b[49m\n\u001b[1;32m    381\u001b[0m \u001b[38;5;28mself\u001b[39m\u001b[38;5;241m.\u001b[39m_reset_result()\n\u001b[1;32m    382\u001b[0m \u001b[38;5;28mself\u001b[39m\u001b[38;5;241m.\u001b[39m_connection \u001b[38;5;241m=\u001b[39m \u001b[38;5;28;01mNone\u001b[39;00m\n",
      "File \u001b[0;32m~/BSC/code/environments/nlp/lib/python3.10/site-packages/mysql/connector/connection.py:1059\u001b[0m, in \u001b[0;36mMySQLConnection.handle_unread_result\u001b[0;34m(self)\u001b[0m\n\u001b[1;32m   1057\u001b[0m     \u001b[38;5;28mself\u001b[39m\u001b[38;5;241m.\u001b[39mconsume_results()\n\u001b[1;32m   1058\u001b[0m \u001b[38;5;28;01melif\u001b[39;00m \u001b[38;5;28mself\u001b[39m\u001b[38;5;241m.\u001b[39munread_result:\n\u001b[0;32m-> 1059\u001b[0m     \u001b[38;5;28;01mraise\u001b[39;00m errors\u001b[38;5;241m.\u001b[39mInternalError(\u001b[38;5;124m\"\u001b[39m\u001b[38;5;124mUnread result found\u001b[39m\u001b[38;5;124m\"\u001b[39m)\n",
      "\u001b[0;31mInternalError\u001b[0m: Unread result found"
     ]
    }
   ],
   "source": [
    "%%time\n",
    "df = retrieve_data_from_mysql(db_url='ensembldb.ensembl.org', query=query, chunk_size=1000)"
   ]
  },
  {
   "cell_type": "code",
   "execution_count": 41,
   "id": "7f920d6a",
   "metadata": {},
   "outputs": [
    {
     "name": "stdout",
     "output_type": "stream",
     "text": [
      "<class 'pandas.core.frame.DataFrame'>\n",
      "Int64Index: 10000 entries, 0 to 999\n",
      "Data columns (total 4 columns):\n",
      " #   Column         Non-Null Count  Dtype \n",
      "---  ------         --------------  ----- \n",
      " 0   stable_id      10000 non-null  object\n",
      " 1   stable_id      10000 non-null  object\n",
      " 2   stable_id      10000 non-null  object\n",
      " 3   display_label  10000 non-null  object\n",
      "dtypes: object(4)\n",
      "memory usage: 390.6+ KB\n"
     ]
    }
   ],
   "source": [
    "df.info()"
   ]
  },
  {
   "cell_type": "code",
   "execution_count": 37,
   "id": "57b13e51",
   "metadata": {},
   "outputs": [
    {
     "data": {
      "text/html": [
       "<div>\n",
       "<style scoped>\n",
       "    .dataframe tbody tr th:only-of-type {\n",
       "        vertical-align: middle;\n",
       "    }\n",
       "\n",
       "    .dataframe tbody tr th {\n",
       "        vertical-align: top;\n",
       "    }\n",
       "\n",
       "    .dataframe thead th {\n",
       "        text-align: right;\n",
       "    }\n",
       "</style>\n",
       "<table border=\"1\" class=\"dataframe\">\n",
       "  <thead>\n",
       "    <tr style=\"text-align: right;\">\n",
       "      <th></th>\n",
       "      <th>gene_id</th>\n",
       "      <th>biotype</th>\n",
       "      <th>analysis_id</th>\n",
       "      <th>seq_region_id</th>\n",
       "      <th>seq_region_start</th>\n",
       "      <th>seq_region_end</th>\n",
       "      <th>seq_region_strand</th>\n",
       "      <th>display_xref_id</th>\n",
       "      <th>source</th>\n",
       "      <th>status</th>\n",
       "      <th>description</th>\n",
       "      <th>is_current</th>\n",
       "      <th>canonical_transcript_id</th>\n",
       "      <th>stable_id</th>\n",
       "      <th>version</th>\n",
       "      <th>created_date</th>\n",
       "      <th>modified_date</th>\n",
       "    </tr>\n",
       "  </thead>\n",
       "  <tbody>\n",
       "    <tr>\n",
       "      <th>0</th>\n",
       "      <td>698146</td>\n",
       "      <td>protein_coding</td>\n",
       "      <td>8049</td>\n",
       "      <td>1000057011</td>\n",
       "      <td>66119285</td>\n",
       "      <td>66465398</td>\n",
       "      <td>1</td>\n",
       "      <td>6429793</td>\n",
       "      <td>havana</td>\n",
       "      <td>KNOWN</td>\n",
       "      <td>solute carrier family 25 (S-adenosylmethionine...</td>\n",
       "      <td>1</td>\n",
       "      <td>2263059</td>\n",
       "      <td>ENSG00000261657</td>\n",
       "      <td>1</td>\n",
       "      <td>2011-11-11 09:57:43</td>\n",
       "      <td>2011-11-11 09:57:43</td>\n",
       "    </tr>\n",
       "    <tr>\n",
       "      <th>1</th>\n",
       "      <td>698148</td>\n",
       "      <td>pseudogene</td>\n",
       "      <td>8049</td>\n",
       "      <td>27513</td>\n",
       "      <td>23708313</td>\n",
       "      <td>23708703</td>\n",
       "      <td>1</td>\n",
       "      <td>6425717</td>\n",
       "      <td>havana</td>\n",
       "      <td>KNOWN</td>\n",
       "      <td>high mobility group AT-hook 1 pseudogene 6 [So...</td>\n",
       "      <td>1</td>\n",
       "      <td>2263065</td>\n",
       "      <td>ENSG00000233440</td>\n",
       "      <td>2</td>\n",
       "      <td>2009-05-19 09:47:17</td>\n",
       "      <td>2013-02-12 17:21:38</td>\n",
       "    </tr>\n",
       "    <tr>\n",
       "      <th>2</th>\n",
       "      <td>698149</td>\n",
       "      <td>misc_RNA</td>\n",
       "      <td>8036</td>\n",
       "      <td>27513</td>\n",
       "      <td>23726725</td>\n",
       "      <td>23726825</td>\n",
       "      <td>-1</td>\n",
       "      <td>6475582</td>\n",
       "      <td>ensembl</td>\n",
       "      <td>KNOWN</td>\n",
       "      <td>RNA, Ro-associated Y3 pseudogene 4 [Source:HGN...</td>\n",
       "      <td>1</td>\n",
       "      <td>2263066</td>\n",
       "      <td>ENSG00000207157</td>\n",
       "      <td>1</td>\n",
       "      <td>2010-03-19 11:01:11</td>\n",
       "      <td>2010-03-19 11:01:11</td>\n",
       "    </tr>\n",
       "    <tr>\n",
       "      <th>3</th>\n",
       "      <td>698151</td>\n",
       "      <td>snRNA</td>\n",
       "      <td>8036</td>\n",
       "      <td>27513</td>\n",
       "      <td>23791571</td>\n",
       "      <td>23791673</td>\n",
       "      <td>-1</td>\n",
       "      <td>6475655</td>\n",
       "      <td>ensembl</td>\n",
       "      <td>KNOWN</td>\n",
       "      <td>RNA, U6 small nuclear 58, pseudogene [Source:H...</td>\n",
       "      <td>1</td>\n",
       "      <td>2263068</td>\n",
       "      <td>ENSG00000252952</td>\n",
       "      <td>1</td>\n",
       "      <td>2010-03-19 11:02:51</td>\n",
       "      <td>2010-03-19 11:02:51</td>\n",
       "    </tr>\n",
       "    <tr>\n",
       "      <th>4</th>\n",
       "      <td>698152</td>\n",
       "      <td>pseudogene</td>\n",
       "      <td>8049</td>\n",
       "      <td>27513</td>\n",
       "      <td>23817659</td>\n",
       "      <td>23821323</td>\n",
       "      <td>1</td>\n",
       "      <td>6472723</td>\n",
       "      <td>havana</td>\n",
       "      <td>KNOWN</td>\n",
       "      <td>TatD DNase domain containing 2 pseudogene 3 [S...</td>\n",
       "      <td>1</td>\n",
       "      <td>2263069</td>\n",
       "      <td>ENSG00000235205</td>\n",
       "      <td>1</td>\n",
       "      <td>2009-05-19 09:47:17</td>\n",
       "      <td>2009-05-19 09:47:17</td>\n",
       "    </tr>\n",
       "    <tr>\n",
       "      <th>...</th>\n",
       "      <td>...</td>\n",
       "      <td>...</td>\n",
       "      <td>...</td>\n",
       "      <td>...</td>\n",
       "      <td>...</td>\n",
       "      <td>...</td>\n",
       "      <td>...</td>\n",
       "      <td>...</td>\n",
       "      <td>...</td>\n",
       "      <td>...</td>\n",
       "      <td>...</td>\n",
       "      <td>...</td>\n",
       "      <td>...</td>\n",
       "      <td>...</td>\n",
       "      <td>...</td>\n",
       "      <td>...</td>\n",
       "      <td>...</td>\n",
       "    </tr>\n",
       "    <tr>\n",
       "      <th>95</th>\n",
       "      <td>698301</td>\n",
       "      <td>snRNA</td>\n",
       "      <td>8036</td>\n",
       "      <td>27513</td>\n",
       "      <td>28402900</td>\n",
       "      <td>28403006</td>\n",
       "      <td>1</td>\n",
       "      <td>6475690</td>\n",
       "      <td>ensembl</td>\n",
       "      <td>KNOWN</td>\n",
       "      <td>RNA, U6 small nuclear 73, pseudogene [Source:H...</td>\n",
       "      <td>1</td>\n",
       "      <td>2263242</td>\n",
       "      <td>ENSG00000207330</td>\n",
       "      <td>1</td>\n",
       "      <td>2010-03-19 11:00:32</td>\n",
       "      <td>2010-03-19 11:00:32</td>\n",
       "    </tr>\n",
       "    <tr>\n",
       "      <th>96</th>\n",
       "      <td>698304</td>\n",
       "      <td>lincRNA</td>\n",
       "      <td>8049</td>\n",
       "      <td>27513</td>\n",
       "      <td>28527663</td>\n",
       "      <td>28529507</td>\n",
       "      <td>1</td>\n",
       "      <td>6509213</td>\n",
       "      <td>havana</td>\n",
       "      <td>KNOWN</td>\n",
       "      <td>long intergenic non-protein coding RNA 543 [So...</td>\n",
       "      <td>1</td>\n",
       "      <td>2263248</td>\n",
       "      <td>ENSG00000260704</td>\n",
       "      <td>1</td>\n",
       "      <td>2011-11-11 09:57:43</td>\n",
       "      <td>2011-11-11 09:57:43</td>\n",
       "    </tr>\n",
       "    <tr>\n",
       "      <th>97</th>\n",
       "      <td>698305</td>\n",
       "      <td>misc_RNA</td>\n",
       "      <td>8036</td>\n",
       "      <td>27513</td>\n",
       "      <td>28563435</td>\n",
       "      <td>28563721</td>\n",
       "      <td>-1</td>\n",
       "      <td>6479666</td>\n",
       "      <td>ensembl</td>\n",
       "      <td>KNOWN</td>\n",
       "      <td>RNA, 7SL, cytoplasmic 272, pseudogene [Source:...</td>\n",
       "      <td>1</td>\n",
       "      <td>2263250</td>\n",
       "      <td>ENSG00000242360</td>\n",
       "      <td>2</td>\n",
       "      <td>2009-08-05 14:27:16</td>\n",
       "      <td>2012-06-07 23:07:01</td>\n",
       "    </tr>\n",
       "    <tr>\n",
       "      <th>98</th>\n",
       "      <td>698307</td>\n",
       "      <td>pseudogene</td>\n",
       "      <td>8049</td>\n",
       "      <td>27513</td>\n",
       "      <td>28641724</td>\n",
       "      <td>28642471</td>\n",
       "      <td>1</td>\n",
       "      <td>6473185</td>\n",
       "      <td>havana</td>\n",
       "      <td>KNOWN</td>\n",
       "      <td>katanin p80 subunit B-like 1 pseudogene 1 [Sou...</td>\n",
       "      <td>1</td>\n",
       "      <td>2263252</td>\n",
       "      <td>ENSG00000271026</td>\n",
       "      <td>1</td>\n",
       "      <td>2013-04-15 13:41:37</td>\n",
       "      <td>2013-04-15 13:41:37</td>\n",
       "    </tr>\n",
       "    <tr>\n",
       "      <th>99</th>\n",
       "      <td>698308</td>\n",
       "      <td>pseudogene</td>\n",
       "      <td>8047</td>\n",
       "      <td>27513</td>\n",
       "      <td>28681568</td>\n",
       "      <td>28682014</td>\n",
       "      <td>1</td>\n",
       "      <td>6473058</td>\n",
       "      <td>ensembl_havana</td>\n",
       "      <td>KNOWN</td>\n",
       "      <td>coiled-coil-helix-coiled-coil-helix domain con...</td>\n",
       "      <td>1</td>\n",
       "      <td>2263256</td>\n",
       "      <td>ENSG00000235115</td>\n",
       "      <td>2</td>\n",
       "      <td>2009-05-19 09:47:17</td>\n",
       "      <td>2011-02-14 13:38:37</td>\n",
       "    </tr>\n",
       "  </tbody>\n",
       "</table>\n",
       "<p>100 rows × 17 columns</p>\n",
       "</div>"
      ],
      "text/plain": [
       "    gene_id         biotype  analysis_id  seq_region_id  seq_region_start  \\\n",
       "0    698146  protein_coding         8049     1000057011          66119285   \n",
       "1    698148      pseudogene         8049          27513          23708313   \n",
       "2    698149        misc_RNA         8036          27513          23726725   \n",
       "3    698151           snRNA         8036          27513          23791571   \n",
       "4    698152      pseudogene         8049          27513          23817659   \n",
       "..      ...             ...          ...            ...               ...   \n",
       "95   698301           snRNA         8036          27513          28402900   \n",
       "96   698304         lincRNA         8049          27513          28527663   \n",
       "97   698305        misc_RNA         8036          27513          28563435   \n",
       "98   698307      pseudogene         8049          27513          28641724   \n",
       "99   698308      pseudogene         8047          27513          28681568   \n",
       "\n",
       "    seq_region_end  seq_region_strand  display_xref_id          source status  \\\n",
       "0         66465398                  1          6429793          havana  KNOWN   \n",
       "1         23708703                  1          6425717          havana  KNOWN   \n",
       "2         23726825                 -1          6475582         ensembl  KNOWN   \n",
       "3         23791673                 -1          6475655         ensembl  KNOWN   \n",
       "4         23821323                  1          6472723          havana  KNOWN   \n",
       "..             ...                ...              ...             ...    ...   \n",
       "95        28403006                  1          6475690         ensembl  KNOWN   \n",
       "96        28529507                  1          6509213          havana  KNOWN   \n",
       "97        28563721                 -1          6479666         ensembl  KNOWN   \n",
       "98        28642471                  1          6473185          havana  KNOWN   \n",
       "99        28682014                  1          6473058  ensembl_havana  KNOWN   \n",
       "\n",
       "                                          description  is_current  \\\n",
       "0   solute carrier family 25 (S-adenosylmethionine...           1   \n",
       "1   high mobility group AT-hook 1 pseudogene 6 [So...           1   \n",
       "2   RNA, Ro-associated Y3 pseudogene 4 [Source:HGN...           1   \n",
       "3   RNA, U6 small nuclear 58, pseudogene [Source:H...           1   \n",
       "4   TatD DNase domain containing 2 pseudogene 3 [S...           1   \n",
       "..                                                ...         ...   \n",
       "95  RNA, U6 small nuclear 73, pseudogene [Source:H...           1   \n",
       "96  long intergenic non-protein coding RNA 543 [So...           1   \n",
       "97  RNA, 7SL, cytoplasmic 272, pseudogene [Source:...           1   \n",
       "98  katanin p80 subunit B-like 1 pseudogene 1 [Sou...           1   \n",
       "99  coiled-coil-helix-coiled-coil-helix domain con...           1   \n",
       "\n",
       "    canonical_transcript_id        stable_id  version        created_date  \\\n",
       "0                   2263059  ENSG00000261657        1 2011-11-11 09:57:43   \n",
       "1                   2263065  ENSG00000233440        2 2009-05-19 09:47:17   \n",
       "2                   2263066  ENSG00000207157        1 2010-03-19 11:01:11   \n",
       "3                   2263068  ENSG00000252952        1 2010-03-19 11:02:51   \n",
       "4                   2263069  ENSG00000235205        1 2009-05-19 09:47:17   \n",
       "..                      ...              ...      ...                 ...   \n",
       "95                  2263242  ENSG00000207330        1 2010-03-19 11:00:32   \n",
       "96                  2263248  ENSG00000260704        1 2011-11-11 09:57:43   \n",
       "97                  2263250  ENSG00000242360        2 2009-08-05 14:27:16   \n",
       "98                  2263252  ENSG00000271026        1 2013-04-15 13:41:37   \n",
       "99                  2263256  ENSG00000235115        2 2009-05-19 09:47:17   \n",
       "\n",
       "         modified_date  \n",
       "0  2011-11-11 09:57:43  \n",
       "1  2013-02-12 17:21:38  \n",
       "2  2010-03-19 11:01:11  \n",
       "3  2010-03-19 11:02:51  \n",
       "4  2009-05-19 09:47:17  \n",
       "..                 ...  \n",
       "95 2010-03-19 11:00:32  \n",
       "96 2011-11-11 09:57:43  \n",
       "97 2012-06-07 23:07:01  \n",
       "98 2013-04-15 13:41:37  \n",
       "99 2011-02-14 13:38:37  \n",
       "\n",
       "[100 rows x 17 columns]"
      ]
     },
     "execution_count": 37,
     "metadata": {},
     "output_type": "execute_result"
    }
   ],
   "source": [
    "df"
   ]
  },
  {
   "cell_type": "code",
   "execution_count": null,
   "id": "02be5949",
   "metadata": {},
   "outputs": [],
   "source": []
  }
 ],
 "metadata": {
  "kernelspec": {
   "display_name": "nlp",
   "language": "python",
   "name": "nlp"
  },
  "language_info": {
   "codemirror_mode": {
    "name": "ipython",
    "version": 3
   },
   "file_extension": ".py",
   "mimetype": "text/x-python",
   "name": "python",
   "nbconvert_exporter": "python",
   "pygments_lexer": "ipython3",
   "version": "3.10.6"
  }
 },
 "nbformat": 4,
 "nbformat_minor": 5
}
